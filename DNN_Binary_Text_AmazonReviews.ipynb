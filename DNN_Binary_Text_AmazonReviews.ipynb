{
 "cells": [
  {
   "cell_type": "markdown",
   "metadata": {},
   "source": [
    "# Dense Neural Network for Text Classification"
   ]
  },
  {
   "cell_type": "markdown",
   "metadata": {},
   "source": [
    "## Preliminaries"
   ]
  },
  {
   "cell_type": "markdown",
   "metadata": {},
   "source": [
    "### Imports"
   ]
  },
  {
   "cell_type": "code",
   "execution_count": 1,
   "metadata": {
    "ExecuteTime": {
     "end_time": "2019-04-11T01:31:00.105896Z",
     "start_time": "2019-04-11T01:30:58.622272Z"
    }
   },
   "outputs": [
    {
     "name": "stderr",
     "output_type": "stream",
     "text": [
      "/home/manel/anaconda3/lib/python3.6/site-packages/h5py/__init__.py:36: FutureWarning: Conversion of the second argument of issubdtype from `float` to `np.floating` is deprecated. In future, it will be treated as `np.float64 == np.dtype(float).type`.\n",
      "  from ._conv import register_converters as _register_converters\n"
     ]
    },
    {
     "name": "stdout",
     "output_type": "stream",
     "text": [
      "1.11.0\n"
     ]
    }
   ],
   "source": [
    "import os\n",
    "import pickle \n",
    "\n",
    "import numpy as np\n",
    "import pandas as pd\n",
    "import matplotlib.pyplot as plt\n",
    "\n",
    "from sklearn.feature_extraction.text import TfidfVectorizer\n",
    "from sklearn.model_selection import train_test_split\n",
    "\n",
    "import tensorflow as tf\n",
    "from tensorflow import keras\n",
    "import tensorflow.keras.backend as K\n",
    "print(tf.__version__)\n",
    "\n",
    "\n",
    "%matplotlib inline\n",
    "\n",
    "import sys\n",
    "sys.path.append(\"../..\")\n",
    "\n",
    "from E4525_ML import text\n"
   ]
  },
  {
   "cell_type": "code",
   "execution_count": 2,
   "metadata": {
    "ExecuteTime": {
     "end_time": "2019-04-11T01:31:00.116479Z",
     "start_time": "2019-04-11T01:31:00.107788Z"
    }
   },
   "outputs": [],
   "source": [
    "seed=456\n",
    "np.random.seed(seed)"
   ]
  },
  {
   "cell_type": "markdown",
   "metadata": {},
   "source": [
    "### Data"
   ]
  },
  {
   "cell_type": "code",
   "execution_count": 3,
   "metadata": {
    "ExecuteTime": {
     "end_time": "2019-04-11T01:31:00.376866Z",
     "start_time": "2019-04-11T01:31:00.372225Z"
    }
   },
   "outputs": [],
   "source": [
    "reviews_filename=\"../../raw/amazon-reviews/Reviews.csv\""
   ]
  },
  {
   "cell_type": "code",
   "execution_count": 4,
   "metadata": {
    "ExecuteTime": {
     "end_time": "2019-04-11T01:31:04.062432Z",
     "start_time": "2019-04-11T01:31:00.994747Z"
    }
   },
   "outputs": [],
   "source": [
    "data=pd.read_csv(reviews_filename)"
   ]
  },
  {
   "cell_type": "code",
   "execution_count": 5,
   "metadata": {
    "ExecuteTime": {
     "end_time": "2019-04-11T01:31:04.068317Z",
     "start_time": "2019-04-11T01:31:04.064162Z"
    }
   },
   "outputs": [],
   "source": [
    "data_dir=r\"../../data/amazon-reviews\""
   ]
  },
  {
   "cell_type": "markdown",
   "metadata": {},
   "source": [
    "### Split into Train, Validation and Test Sets"
   ]
  },
  {
   "cell_type": "code",
   "execution_count": 6,
   "metadata": {
    "ExecuteTime": {
     "end_time": "2019-04-11T01:31:04.082328Z",
     "start_time": "2019-04-11T01:31:04.069969Z"
    }
   },
   "outputs": [
    {
     "name": "stdout",
     "output_type": "stream",
     "text": [
      "(568454,)\n"
     ]
    }
   ],
   "source": [
    "documents_all=data[\"Text\"].as_matrix()\n",
    "labels_all=data[\"Score\"].as_matrix()\n",
    "print(documents_all.shape)"
   ]
  },
  {
   "cell_type": "code",
   "execution_count": 7,
   "metadata": {
    "ExecuteTime": {
     "end_time": "2019-04-11T01:31:04.228874Z",
     "start_time": "2019-04-11T01:31:04.084549Z"
    }
   },
   "outputs": [
    {
     "name": "stdout",
     "output_type": "stream",
     "text": [
      "(511608,) (56846,)\n"
     ]
    }
   ],
   "source": [
    "docs,docs_test,labels,labels_test=train_test_split(documents_all,labels_all,test_size=0.1)\n",
    "print(docs.shape,docs_test.shape)"
   ]
  },
  {
   "cell_type": "code",
   "execution_count": 8,
   "metadata": {
    "ExecuteTime": {
     "end_time": "2019-04-11T01:31:04.373399Z",
     "start_time": "2019-04-11T01:31:04.231938Z"
    },
    "scrolled": true
   },
   "outputs": [
    {
     "name": "stdout",
     "output_type": "stream",
     "text": [
      "(486027,) (25581,)\n"
     ]
    }
   ],
   "source": [
    "docs_train,docs_val,labels_train,labels_val=train_test_split(docs,labels,test_size=0.05)\n",
    "print(docs_train.shape,docs_val.shape)"
   ]
  },
  {
   "cell_type": "code",
   "execution_count": 9,
   "metadata": {
    "ExecuteTime": {
     "end_time": "2019-04-11T01:31:04.642978Z",
     "start_time": "2019-04-11T01:31:04.375471Z"
    }
   },
   "outputs": [
    {
     "name": "stdout",
     "output_type": "stream",
     "text": [
      "[nltk_data] Downloading package stopwords to /home/manel/nltk_data...\n",
      "[nltk_data]   Package stopwords is already up-to-date!\n",
      "[nltk_data] Downloading package punkt to /home/manel/nltk_data...\n",
      "[nltk_data]   Package punkt is already up-to-date!\n"
     ]
    },
    {
     "data": {
      "text/plain": [
       "True"
      ]
     },
     "execution_count": 9,
     "metadata": {},
     "output_type": "execute_result"
    }
   ],
   "source": [
    "import nltk\n",
    "nltk.download(\"stopwords\")\n",
    "nltk.download('punkt')"
   ]
  },
  {
   "cell_type": "markdown",
   "metadata": {
    "ExecuteTime": {
     "end_time": "2017-12-23T10:54:41.615545Z",
     "start_time": "2017-12-23T10:54:41.599916Z"
    }
   },
   "source": [
    "## Text Embedding Pipeline"
   ]
  },
  {
   "cell_type": "code",
   "execution_count": 10,
   "metadata": {
    "ExecuteTime": {
     "end_time": "2019-04-11T01:31:12.860976Z",
     "start_time": "2019-04-11T01:31:12.851903Z"
    }
   },
   "outputs": [],
   "source": [
    "countVectorizer=TfidfVectorizer(input=\"content\",decode_error=\"ignore\",\n",
    "                                       max_features=50000,\n",
    "                                       #tokenizer=text.stem_tokenizer,\n",
    "                                       #stop_words=text.stop_words()\n",
    "                               )\n",
    "dencoder=text.DocumentEncoder(countVectorizer)\n"
   ]
  },
  {
   "cell_type": "code",
   "execution_count": 11,
   "metadata": {
    "ExecuteTime": {
     "end_time": "2019-04-11T01:32:17.365430Z",
     "start_time": "2019-04-11T01:31:23.806240Z"
    }
   },
   "outputs": [
    {
     "name": "stdout",
     "output_type": "stream",
     "text": [
      "(486027,) (25581,) (56846,)\n"
     ]
    }
   ],
   "source": [
    "pickle_filename=data_dir+\"/amazon_reviews.p\"\n",
    "if True:\n",
    "    texts_train=dencoder.fit_transform(docs_train)\n",
    "    texts_val=dencoder.transform(docs_val)\n",
    "    texts_test=dencoder.transform(docs_test)\n",
    "    \n",
    "    file=open(pickle_filename,\"wb\")\n",
    "    pickle.dump((countVectorizer,texts_train,labels_train,texts_val,labels_val,texts_test,labels_test),file)\n",
    "    file.close()\n",
    "else:\n",
    "    file=open(pickle_filename,\"rb\")\n",
    "    countVectorizer,texts_train,labels_train,texts_val,labels_val,texts_test,labels_test=pickle.load(file)\n",
    "    file.close()\n",
    "print(texts_train.shape,texts_val.shape,texts_test.shape)"
   ]
  },
  {
   "cell_type": "code",
   "execution_count": 12,
   "metadata": {
    "ExecuteTime": {
     "end_time": "2019-04-11T01:32:17.468429Z",
     "start_time": "2019-04-11T01:32:17.370857Z"
    }
   },
   "outputs": [],
   "source": [
    "ltexts=[len(text) for text in texts_train]"
   ]
  },
  {
   "cell_type": "code",
   "execution_count": 13,
   "metadata": {
    "ExecuteTime": {
     "end_time": "2019-04-11T01:32:17.725793Z",
     "start_time": "2019-04-11T01:32:17.470068Z"
    }
   },
   "outputs": [
    {
     "data": {
      "text/plain": [
       "(array([ 66793., 159835.,  94500.,  56948.,  34429.,  22415.,  14285.,\n",
       "          9634.,   6959.,   4860.]),\n",
       " array([  0.,  25.,  50.,  75., 100., 125., 150., 175., 200., 225., 250.]),\n",
       " <a list of 10 Patch objects>)"
      ]
     },
     "execution_count": 13,
     "metadata": {},
     "output_type": "execute_result"
    },
    {
     "data": {
      "image/png": "[encoded data removed]",
      "text/plain": [
       "<matplotlib.figure.Figure at 0x7fbc3f32cdd8>"
      ]
     },
     "metadata": {},
     "output_type": "display_data"
    }
   ],
   "source": [
    "plt.hist(ltexts,range=[0,250])"
   ]
  },
  {
   "cell_type": "code",
   "execution_count": 14,
   "metadata": {
    "ExecuteTime": {
     "end_time": "2019-04-11T01:32:17.732987Z",
     "start_time": "2019-04-11T01:32:17.727562Z"
    }
   },
   "outputs": [],
   "source": [
    "def pad_texts(texts,W):\n",
    "    fragments=[]\n",
    "    fragment_labels=[]\n",
    "    for idx,text in enumerate(texts):\n",
    "            fragment=text[0:W]\n",
    "            fragment=np.pad(fragment,(W-len(fragment),0),mode=\"constant\",constant_values=-2)\n",
    "            fragments.append(fragment)\n",
    "    return np.array(fragments)"
   ]
  },
  {
   "cell_type": "code",
   "execution_count": 15,
   "metadata": {
    "ExecuteTime": {
     "end_time": "2019-04-11T01:32:17.740118Z",
     "start_time": "2019-04-11T01:32:17.734221Z"
    }
   },
   "outputs": [],
   "source": [
    "W=125"
   ]
  },
  {
   "cell_type": "code",
   "execution_count": 16,
   "metadata": {
    "ExecuteTime": {
     "end_time": "2019-04-11T01:32:35.485736Z",
     "start_time": "2019-04-11T01:32:17.742487Z"
    },
    "scrolled": false
   },
   "outputs": [
    {
     "name": "stdout",
     "output_type": "stream",
     "text": [
      "(486027, 125) (486027,)\n"
     ]
    }
   ],
   "source": [
    "X_train=pad_texts(texts_train,W)\n",
    "Y_train=labels_train>3\n",
    "print(X_train.shape,Y_train.shape)"
   ]
  },
  {
   "cell_type": "code",
   "execution_count": 17,
   "metadata": {
    "ExecuteTime": {
     "end_time": "2019-04-11T01:32:36.604473Z",
     "start_time": "2019-04-11T01:32:35.488202Z"
    }
   },
   "outputs": [
    {
     "name": "stdout",
     "output_type": "stream",
     "text": [
      "(25581, 125) (25581,)\n"
     ]
    }
   ],
   "source": [
    "X_val=pad_texts(texts_val,W)\n",
    "Y_val=labels_val>3\n",
    "print(X_val.shape,Y_val.shape)"
   ]
  },
  {
   "cell_type": "code",
   "execution_count": 18,
   "metadata": {
    "ExecuteTime": {
     "end_time": "2019-04-11T01:32:38.816931Z",
     "start_time": "2019-04-11T01:32:36.605729Z"
    }
   },
   "outputs": [
    {
     "name": "stdout",
     "output_type": "stream",
     "text": [
      "(56846, 125) (56846,)\n"
     ]
    }
   ],
   "source": [
    "\n",
    "X_test=pad_texts(texts_test,W)\n",
    "Y_test=labels_test>3\n",
    "print(X_test.shape,Y_test.shape)"
   ]
  },
  {
   "cell_type": "code",
   "execution_count": 19,
   "metadata": {
    "ExecuteTime": {
     "end_time": "2019-04-11T01:32:38.823737Z",
     "start_time": "2019-04-11T01:32:38.818640Z"
    }
   },
   "outputs": [
    {
     "data": {
      "text/plain": [
       "array([-2.0000e+00, -2.0000e+00, -2.0000e+00, -2.0000e+00, -2.0000e+00,\n",
       "       -2.0000e+00, -2.0000e+00, -2.0000e+00, -2.0000e+00, -2.0000e+00,\n",
       "       -2.0000e+00, -2.0000e+00, -2.0000e+00, -2.0000e+00, -2.0000e+00,\n",
       "       -2.0000e+00, -2.0000e+00, -2.0000e+00, -2.0000e+00,  4.4839e+04,\n",
       "        1.0765e+04,  4.8210e+04,  3.5747e+04,  2.3155e+04,  4.4669e+04,\n",
       "        3.2617e+04,  6.2360e+03,  1.8644e+04,  2.9720e+04,  2.2655e+04,\n",
       "        1.5654e+04,  4.5233e+04,  1.0317e+04,  6.5730e+03,  2.9720e+04,\n",
       "        1.1753e+04,  3.0350e+04,  2.6865e+04,  3.0000e+04,  2.4270e+04,\n",
       "        2.0997e+04,  8.7540e+03,  2.7641e+04,  4.3350e+03,  4.0171e+04,\n",
       "        2.3155e+04,  4.4669e+04,  3.2617e+04,  2.2284e+04,  4.4656e+04,\n",
       "        4.9292e+04,  6.0480e+03,  1.8440e+03,  4.5233e+04,  4.2263e+04,\n",
       "        4.4695e+04,  4.7108e+04,  2.5500e+03,  2.3155e+04,  4.4669e+04,\n",
       "        1.9348e+04,  8.3380e+03,  4.6697e+04,  4.4656e+04,  4.8229e+04,\n",
       "        4.4669e+04,  9.1410e+03,  1.6973e+04,  8.7540e+03,  4.4669e+04,\n",
       "        1.6593e+04,  4.3232e+04,  2.0270e+03,  3.0161e+04,  2.1720e+03,\n",
       "        4.5389e+04,  3.4524e+04,  3.1086e+04,  4.4669e+04,  1.0765e+04,\n",
       "        1.8644e+04,  2.4270e+04,  4.8210e+04,  6.2900e+03,  2.1675e+04,\n",
       "        4.1740e+03,  4.4669e+04,  3.4537e+04,  3.1113e+04,  1.8644e+04,\n",
       "        4.0457e+04,  3.0529e+04,  4.3469e+04,  4.8814e+04,  4.8639e+04,\n",
       "        4.8521e+04,  4.5233e+04,  4.4669e+04,  3.4537e+04,  3.1113e+04,\n",
       "        4.4756e+04,  4.0307e+04,  2.8115e+04,  4.4669e+04,  7.5280e+03,\n",
       "        3.3450e+03,  4.0400e+03,  4.4695e+04,  4.5233e+04,  3.7723e+04,\n",
       "        2.4270e+04,  3.4026e+04,  1.1634e+04,  2.8115e+04,  1.8640e+03,\n",
       "        4.4669e+04,  3.6932e+04,  4.5233e+04,  2.9720e+04,  2.0270e+03,\n",
       "        4.1740e+03,  4.9704e+04,  1.5802e+04,  1.1778e+04,  4.6283e+04])"
      ]
     },
     "execution_count": 19,
     "metadata": {},
     "output_type": "execute_result"
    }
   ],
   "source": [
    "X_train[0]"
   ]
  },
  {
   "cell_type": "code",
   "execution_count": 20,
   "metadata": {
    "ExecuteTime": {
     "end_time": "2019-04-11T01:32:38.895105Z",
     "start_time": "2019-04-11T01:32:38.825389Z"
    }
   },
   "outputs": [
    {
     "data": {
      "text/plain": [
       "(49999.0, -2.0)"
      ]
     },
     "execution_count": 20,
     "metadata": {},
     "output_type": "execute_result"
    }
   ],
   "source": [
    "X_train.max(),X_train.min()"
   ]
  },
  {
   "cell_type": "code",
   "execution_count": 21,
   "metadata": {
    "ExecuteTime": {
     "end_time": "2019-04-11T01:32:38.900432Z",
     "start_time": "2019-04-11T01:32:38.896329Z"
    }
   },
   "outputs": [
    {
     "data": {
      "text/plain": [
       "0.7829926468001267"
      ]
     },
     "execution_count": 21,
     "metadata": {},
     "output_type": "execute_result"
    }
   ],
   "source": [
    "Y_test.mean()"
   ]
  },
  {
   "cell_type": "markdown",
   "metadata": {
    "ExecuteTime": {
     "end_time": "2017-12-17T22:56:28.160230Z",
     "start_time": "2017-12-17T22:56:28.124208Z"
    }
   },
   "source": [
    "## Text Embedding Model\n",
    "\n",
    "This model is equivalent to logistic regression on the Counts features."
   ]
  },
  {
   "cell_type": "code",
   "execution_count": 22,
   "metadata": {
    "ExecuteTime": {
     "end_time": "2019-04-11T01:32:38.922137Z",
     "start_time": "2019-04-11T01:32:38.903489Z"
    }
   },
   "outputs": [],
   "source": [
    "class AggregationLayer(keras.layers.Layer):\n",
    "    def __init__(self, output_dim, **kwargs):\n",
    "        self.output_dim = output_dim\n",
    "        super(AggregationLayer, self).__init__(**kwargs)\n",
    "\n",
    "    def build(self, input_shape):\n",
    "        # Create a trainable weight variable for this layer.\n",
    "        self.bias = self.add_weight(name='bias', \n",
    "                                      shape=(self.output_dim,),\n",
    "                                      initializer='uniform',\n",
    "                                      trainable=True)\n",
    "        super(AggregationLayer, self).build(input_shape)  # Be sure to call this at the end\n",
    "\n",
    "    def call(self, x):\n",
    "        logits=K.sum(x,axis=1)+self.bias\n",
    "        return keras.activations.softmax(logits)\n",
    "\n",
    "    def compute_output_shape(self, input_shape):\n",
    "        return (input_shape[0], self.output_dim)"
   ]
  },
  {
   "cell_type": "code",
   "execution_count": 23,
   "metadata": {
    "ExecuteTime": {
     "end_time": "2019-04-11T01:32:38.931944Z",
     "start_time": "2019-04-11T01:32:38.924287Z"
    }
   },
   "outputs": [],
   "source": [
    "def embedded_logistic_net(W,V,E):\n",
    "    model=keras.Sequential(\n",
    "        [\n",
    "            keras.layers.Lambda(lambda x: x+2,input_shape=(W,)), # add two to handle padding and unknown words\n",
    "            keras.layers.Embedding(V,E,input_length=W),\n",
    "            AggregationLayer(E),\n",
    "        ]\n",
    "    )\n",
    "    return model"
   ]
  },
  {
   "cell_type": "code",
   "execution_count": 24,
   "metadata": {
    "ExecuteTime": {
     "end_time": "2019-04-11T01:32:38.939334Z",
     "start_time": "2019-04-11T01:32:38.933686Z"
    }
   },
   "outputs": [
    {
     "name": "stdout",
     "output_type": "stream",
     "text": [
      "50002 125 2\n"
     ]
    }
   ],
   "source": [
    "V=len(countVectorizer.vocabulary_)+2 # one for unknown words, one for padding\n",
    "E=2\n",
    "print(V,W,E)"
   ]
  },
  {
   "cell_type": "code",
   "execution_count": 25,
   "metadata": {
    "ExecuteTime": {
     "end_time": "2019-04-11T01:32:38.993801Z",
     "start_time": "2019-04-11T01:32:38.941555Z"
    }
   },
   "outputs": [],
   "source": [
    "model0=embedded_logistic_net(W,V,E)"
   ]
  },
  {
   "cell_type": "code",
   "execution_count": 26,
   "metadata": {
    "ExecuteTime": {
     "end_time": "2019-04-11T01:32:39.094428Z",
     "start_time": "2019-04-11T01:32:38.995521Z"
    }
   },
   "outputs": [
    {
     "name": "stdout",
     "output_type": "stream",
     "text": [
      "_________________________________________________________________\n",
      "Layer (type)                 Output Shape              Param #   \n",
      "=================================================================\n",
      "lambda (Lambda)              (None, 125)               0         \n",
      "_________________________________________________________________\n",
      "embedding (Embedding)        (None, 125, 2)            100004    \n",
      "_________________________________________________________________\n",
      "aggregation_layer (Aggregati (None, 2)                 2         \n",
      "=================================================================\n",
      "Total params: 100,006\n",
      "Trainable params: 100,006\n",
      "Non-trainable params: 0\n",
      "_________________________________________________________________\n"
     ]
    }
   ],
   "source": [
    "model0.compile(optimizer=\"adam\",loss=\"sparse_categorical_crossentropy\",metrics=[\"accuracy\"])\n",
    "model0.summary()"
   ]
  },
  {
   "cell_type": "code",
   "execution_count": 27,
   "metadata": {
    "ExecuteTime": {
     "end_time": "2019-04-11T01:32:39.098351Z",
     "start_time": "2019-04-11T01:32:39.096048Z"
    }
   },
   "outputs": [],
   "source": [
    "nepochs=20"
   ]
  },
  {
   "cell_type": "code",
   "execution_count": 28,
   "metadata": {
    "ExecuteTime": {
     "end_time": "2019-04-11T01:34:08.548535Z",
     "start_time": "2019-04-11T01:32:39.099649Z"
    }
   },
   "outputs": [
    {
     "name": "stdout",
     "output_type": "stream",
     "text": [
      "Train on 486027 samples, validate on 25581 samples\n",
      "Epoch 1/20\n"
     ]
    },
    {
     "name": "stderr",
     "output_type": "stream",
     "text": [
      "/home/manel/anaconda3/lib/python3.6/site-packages/tensorflow/python/ops/gradients_impl.py:108: UserWarning: Converting sparse IndexedSlices to a dense Tensor of unknown shape. This may consume a large amount of memory.\n",
      "  \"Converting sparse IndexedSlices to a dense Tensor of unknown shape. \"\n"
     ]
    },
    {
     "name": "stdout",
     "output_type": "stream",
     "text": [
      " - 4s - loss: 0.5013 - acc: 0.7588 - val_loss: 0.3940 - val_acc: 0.8148\n",
      "Epoch 2/20\n",
      " - 5s - loss: 0.3558 - acc: 0.8379 - val_loss: 0.3357 - val_acc: 0.8509\n",
      "Epoch 3/20\n",
      " - 4s - loss: 0.3135 - acc: 0.8637 - val_loss: 0.3081 - val_acc: 0.8691\n",
      "Epoch 4/20\n",
      " - 4s - loss: 0.2904 - acc: 0.8771 - val_loss: 0.2924 - val_acc: 0.8768\n",
      "Epoch 5/20\n",
      " - 4s - loss: 0.2756 - acc: 0.8859 - val_loss: 0.2821 - val_acc: 0.8825\n",
      "Epoch 6/20\n",
      " - 4s - loss: 0.2651 - acc: 0.8917 - val_loss: 0.2751 - val_acc: 0.8858\n",
      "Epoch 7/20\n",
      " - 4s - loss: 0.2572 - acc: 0.8962 - val_loss: 0.2698 - val_acc: 0.8895\n",
      "Epoch 8/20\n",
      " - 4s - loss: 0.2510 - acc: 0.8993 - val_loss: 0.2659 - val_acc: 0.8918\n",
      "Epoch 9/20\n",
      " - 4s - loss: 0.2459 - acc: 0.9017 - val_loss: 0.2629 - val_acc: 0.8934\n",
      "Epoch 10/20\n",
      " - 4s - loss: 0.2417 - acc: 0.9036 - val_loss: 0.2602 - val_acc: 0.8949\n",
      "Epoch 11/20\n",
      " - 4s - loss: 0.2381 - acc: 0.9054 - val_loss: 0.2582 - val_acc: 0.8954\n",
      "Epoch 12/20\n",
      " - 5s - loss: 0.2349 - acc: 0.9071 - val_loss: 0.2567 - val_acc: 0.8963\n",
      "Epoch 13/20\n",
      " - 5s - loss: 0.2322 - acc: 0.9084 - val_loss: 0.2553 - val_acc: 0.8972\n",
      "Epoch 14/20\n",
      " - 5s - loss: 0.2298 - acc: 0.9097 - val_loss: 0.2543 - val_acc: 0.8988\n",
      "Epoch 15/20\n",
      " - 4s - loss: 0.2275 - acc: 0.9106 - val_loss: 0.2533 - val_acc: 0.8998\n",
      "Epoch 16/20\n",
      " - 4s - loss: 0.2256 - acc: 0.9116 - val_loss: 0.2526 - val_acc: 0.8989\n",
      "Epoch 17/20\n",
      " - 5s - loss: 0.2237 - acc: 0.9125 - val_loss: 0.2521 - val_acc: 0.8993\n",
      "Epoch 18/20\n",
      " - 4s - loss: 0.2221 - acc: 0.9135 - val_loss: 0.2514 - val_acc: 0.8995\n",
      "Epoch 19/20\n",
      " - 4s - loss: 0.2205 - acc: 0.9140 - val_loss: 0.2510 - val_acc: 0.9006\n",
      "Epoch 20/20\n",
      " - 4s - loss: 0.2191 - acc: 0.9147 - val_loss: 0.2508 - val_acc: 0.8998\n"
     ]
    }
   ],
   "source": [
    "result0=model0.fit(X_train,Y_train,validation_data=(X_val,Y_val),epochs=nepochs,batch_size=5000,verbose=2)"
   ]
  },
  {
   "cell_type": "code",
   "execution_count": 29,
   "metadata": {
    "ExecuteTime": {
     "end_time": "2019-04-11T01:34:08.822894Z",
     "start_time": "2019-04-11T01:34:08.550378Z"
    }
   },
   "outputs": [
    {
     "data": {
      "text/plain": [
       "<matplotlib.legend.Legend at 0x7fbc254b5c18>"
      ]
     },
     "execution_count": 29,
     "metadata": {},
     "output_type": "execute_result"
    },
    {
     "data": {
      "image/png": "[encoded data removed]",
      "text/plain": [
       "<matplotlib.figure.Figure at 0x7fbc1d5555c0>"
      ]
     },
     "metadata": {},
     "output_type": "display_data"
    }
   ],
   "source": [
    "history=result0.history\n",
    "plt.figure(figsize=(12,6))\n",
    "plt.subplot(1, 2, 1)\n",
    "plt.plot(history[\"loss\"],label=\"loss\")\n",
    "plt.plot(history[\"val_loss\"],label=\"valuation loss\")\n",
    "plt.title('Loss')\n",
    "plt.xlabel('epoch')\n",
    "plt.legend()\n",
    "\n",
    "plt.subplot(1, 2, 2)\n",
    "plt.plot(history[\"acc\"],label=\"accuracy\")\n",
    "plt.plot(history[\"val_acc\"],label=\"valuation accuracy\")\n",
    "plt.title('Accuracy')\n",
    "plt.xlabel('epoch')\n",
    "plt.legend()"
   ]
  },
  {
   "cell_type": "code",
   "execution_count": 31,
   "metadata": {
    "ExecuteTime": {
     "end_time": "2019-04-11T01:34:09.137512Z",
     "start_time": "2019-04-11T01:34:08.988978Z"
    },
    "scrolled": true
   },
   "outputs": [
    {
     "data": {
      "text/plain": [
       "0.8997693600719284"
      ]
     },
     "execution_count": 31,
     "metadata": {},
     "output_type": "execute_result"
    }
   ],
   "source": [
    "Y_pred=np.argmax(model0.predict(X_val),axis=-1)\n",
    "np.mean(Y_pred==Y_val)"
   ]
  },
  {
   "cell_type": "markdown",
   "metadata": {
    "ExecuteTime": {
     "end_time": "2017-12-29T09:41:15.129928Z",
     "start_time": "2017-12-29T09:41:15.114296Z"
    }
   },
   "source": [
    "## Dense Neural Network"
   ]
  },
  {
   "cell_type": "markdown",
   "metadata": {},
   "source": [
    "### Build Dense Neural Network"
   ]
  },
  {
   "cell_type": "code",
   "execution_count": 32,
   "metadata": {
    "ExecuteTime": {
     "end_time": "2019-04-11T01:34:09.146324Z",
     "start_time": "2019-04-11T01:34:09.139285Z"
    }
   },
   "outputs": [],
   "source": [
    "def text_dnn_net(W,V,E,hidden1,hidden2,dropout):\n",
    "    model=keras.Sequential(\n",
    "        [\n",
    "            keras.layers.Lambda(lambda x: x+2,input_shape=(W,)), # add two to handle padding and unknown words\n",
    "            keras.layers.Embedding(V,E,input_length=W,\n",
    "                                   #embeddings_initializer=keras.initializers.RandomUniform(minval=-1, maxval=1)\n",
    "                                  ),\n",
    "            keras.layers.Flatten(),\n",
    "            keras.layers.Dropout(dropout),\n",
    "            keras.layers.Dense(hidden1,activation=\"relu\"),\n",
    "            keras.layers.Dense(hidden2,activation=\"relu\"),\n",
    "            keras.layers.Dropout(dropout),\n",
    "            keras.layers.Dense(2,activation=\"softmax\")\n",
    "        ]\n",
    "    )\n",
    "    return model"
   ]
  },
  {
   "cell_type": "code",
   "execution_count": 33,
   "metadata": {
    "ExecuteTime": {
     "end_time": "2019-04-11T01:34:09.154829Z",
     "start_time": "2019-04-11T01:34:09.147966Z"
    }
   },
   "outputs": [],
   "source": [
    "dropout=0.5\n",
    "hidden1=128\n",
    "hidden2=64\n",
    "E=15"
   ]
  },
  {
   "cell_type": "code",
   "execution_count": 34,
   "metadata": {
    "ExecuteTime": {
     "end_time": "2019-04-11T01:34:09.401484Z",
     "start_time": "2019-04-11T01:34:09.156485Z"
    }
   },
   "outputs": [
    {
     "name": "stdout",
     "output_type": "stream",
     "text": [
      "_________________________________________________________________\n",
      "Layer (type)                 Output Shape              Param #   \n",
      "=================================================================\n",
      "lambda_1 (Lambda)            (None, 125)               0         \n",
      "_________________________________________________________________\n",
      "embedding_1 (Embedding)      (None, 125, 15)           750030    \n",
      "_________________________________________________________________\n",
      "flatten (Flatten)            (None, 1875)              0         \n",
      "_________________________________________________________________\n",
      "dropout (Dropout)            (None, 1875)              0         \n",
      "_________________________________________________________________\n",
      "dense (Dense)                (None, 128)               240128    \n",
      "_________________________________________________________________\n",
      "dense_1 (Dense)              (None, 64)                8256      \n",
      "_________________________________________________________________\n",
      "dropout_1 (Dropout)          (None, 64)                0         \n",
      "_________________________________________________________________\n",
      "dense_2 (Dense)              (None, 2)                 130       \n",
      "=================================================================\n",
      "Total params: 998,544\n",
      "Trainable params: 998,544\n",
      "Non-trainable params: 0\n",
      "_________________________________________________________________\n"
     ]
    }
   ],
   "source": [
    "model1=text_dnn_net(W,V,E,hidden1,hidden2,dropout)\n",
    "model1.compile(optimizer=\"adam\",loss=\"sparse_categorical_crossentropy\",metrics=[\"accuracy\"])\n",
    "model1.summary()"
   ]
  },
  {
   "cell_type": "code",
   "execution_count": 35,
   "metadata": {
    "ExecuteTime": {
     "end_time": "2019-04-11T01:40:44.479238Z",
     "start_time": "2019-04-11T01:34:09.402984Z"
    }
   },
   "outputs": [
    {
     "name": "stderr",
     "output_type": "stream",
     "text": [
      "/home/manel/anaconda3/lib/python3.6/site-packages/tensorflow/python/ops/gradients_impl.py:108: UserWarning: Converting sparse IndexedSlices to a dense Tensor of unknown shape. This may consume a large amount of memory.\n",
      "  \"Converting sparse IndexedSlices to a dense Tensor of unknown shape. \"\n"
     ]
    },
    {
     "name": "stdout",
     "output_type": "stream",
     "text": [
      "Train on 486027 samples, validate on 25581 samples\n",
      "Epoch 1/20\n",
      " - 19s - loss: 0.4335 - acc: 0.8026 - val_loss: 0.2782 - val_acc: 0.8791\n",
      "Epoch 2/20\n",
      " - 19s - loss: 0.2665 - acc: 0.8905 - val_loss: 0.2410 - val_acc: 0.8997\n",
      "Epoch 3/20\n",
      " - 21s - loss: 0.2367 - acc: 0.9048 - val_loss: 0.2349 - val_acc: 0.9036\n",
      "Epoch 4/20\n",
      " - 20s - loss: 0.2190 - acc: 0.9134 - val_loss: 0.2198 - val_acc: 0.9113\n",
      "Epoch 5/20\n",
      " - 19s - loss: 0.2044 - acc: 0.9194 - val_loss: 0.2154 - val_acc: 0.9131\n",
      "Epoch 6/20\n",
      " - 20s - loss: 0.1931 - acc: 0.9244 - val_loss: 0.2102 - val_acc: 0.9167\n",
      "Epoch 7/20\n",
      " - 19s - loss: 0.1829 - acc: 0.9290 - val_loss: 0.2090 - val_acc: 0.9181\n",
      "Epoch 8/20\n",
      " - 20s - loss: 0.1737 - acc: 0.9323 - val_loss: 0.2083 - val_acc: 0.9187\n",
      "Epoch 9/20\n",
      " - 19s - loss: 0.1654 - acc: 0.9354 - val_loss: 0.2129 - val_acc: 0.9190\n",
      "Epoch 10/20\n",
      " - 19s - loss: 0.1585 - acc: 0.9387 - val_loss: 0.2109 - val_acc: 0.9201\n",
      "Epoch 11/20\n",
      " - 20s - loss: 0.1529 - acc: 0.9409 - val_loss: 0.2182 - val_acc: 0.9178\n",
      "Epoch 12/20\n",
      " - 20s - loss: 0.1477 - acc: 0.9430 - val_loss: 0.2216 - val_acc: 0.9192\n",
      "Epoch 13/20\n",
      " - 20s - loss: 0.1429 - acc: 0.9444 - val_loss: 0.2204 - val_acc: 0.9200\n",
      "Epoch 14/20\n",
      " - 20s - loss: 0.1389 - acc: 0.9462 - val_loss: 0.2162 - val_acc: 0.9205\n",
      "Epoch 15/20\n",
      " - 20s - loss: 0.1360 - acc: 0.9474 - val_loss: 0.2244 - val_acc: 0.9207\n",
      "Epoch 16/20\n",
      " - 20s - loss: 0.1313 - acc: 0.9493 - val_loss: 0.2250 - val_acc: 0.9211\n",
      "Epoch 17/20\n",
      " - 20s - loss: 0.1289 - acc: 0.9502 - val_loss: 0.2240 - val_acc: 0.9213\n",
      "Epoch 18/20\n",
      " - 20s - loss: 0.1254 - acc: 0.9516 - val_loss: 0.2265 - val_acc: 0.9219\n",
      "Epoch 19/20\n",
      " - 20s - loss: 0.1232 - acc: 0.9527 - val_loss: 0.2291 - val_acc: 0.9224\n",
      "Epoch 20/20\n",
      " - 20s - loss: 0.1211 - acc: 0.9532 - val_loss: 0.2299 - val_acc: 0.9240\n"
     ]
    }
   ],
   "source": [
    "result1=model1.fit(X_train,Y_train,validation_data=(X_val,Y_val),epochs=nepochs,batch_size=5000,verbose=2)"
   ]
  },
  {
   "cell_type": "code",
   "execution_count": 36,
   "metadata": {
    "ExecuteTime": {
     "end_time": "2019-04-11T01:40:44.859583Z",
     "start_time": "2019-04-11T01:40:44.481420Z"
    },
    "scrolled": true
   },
   "outputs": [
    {
     "data": {
      "text/plain": [
       "<matplotlib.legend.Legend at 0x7fbc21f3cac8>"
      ]
     },
     "execution_count": 36,
     "metadata": {},
     "output_type": "execute_result"
    },
    {
     "data": {
      "image/png": "[encoded data removed]",
      "text/plain": [
       "<matplotlib.figure.Figure at 0x7fbc232b37f0>"
      ]
     },
     "metadata": {},
     "output_type": "display_data"
    }
   ],
   "source": [
    "history=result1.history\n",
    "plt.figure(figsize=(12,6))\n",
    "plt.subplot(1, 2, 1)\n",
    "plt.plot(history[\"loss\"],label=\"loss\")\n",
    "plt.plot(history[\"val_loss\"],label=\"valuation loss\")\n",
    "plt.title('Loss')\n",
    "plt.xlabel('epoch')\n",
    "plt.legend()\n",
    "\n",
    "plt.subplot(1, 2, 2)\n",
    "plt.plot(history[\"acc\"],label=\"accuracy\")\n",
    "plt.plot(history[\"val_acc\"],label=\"valuation accuracy\")\n",
    "plt.title('Accuracy')\n",
    "plt.xlabel('epoch')\n",
    "plt.legend()"
   ]
  },
  {
   "cell_type": "markdown",
   "metadata": {
    "ExecuteTime": {
     "end_time": "2017-12-17T22:57:20.878364Z",
     "start_time": "2017-12-17T22:57:20.862737Z"
    }
   },
   "source": [
    "### layer size optimization"
   ]
  },
  {
   "cell_type": "code",
   "execution_count": 37,
   "metadata": {
    "ExecuteTime": {
     "end_time": "2019-04-11T03:14:59.910488Z",
     "start_time": "2019-04-11T01:40:44.862250Z"
    }
   },
   "outputs": [
    {
     "name": "stderr",
     "output_type": "stream",
     "text": [
      "/home/manel/anaconda3/lib/python3.6/site-packages/tensorflow/python/ops/gradients_impl.py:108: UserWarning: Converting sparse IndexedSlices to a dense Tensor of unknown shape. This may consume a large amount of memory.\n",
      "  \"Converting sparse IndexedSlices to a dense Tensor of unknown shape. \"\n"
     ]
    },
    {
     "name": "stdout",
     "output_type": "stream",
     "text": [
      "Train on 486027 samples, validate on 25581 samples\n",
      "Epoch 1/20\n",
      " - 15s - loss: 0.4541 - acc: 0.7881 - val_loss: 0.3038 - val_acc: 0.8734\n",
      "Epoch 2/20\n",
      " - 15s - loss: 0.2770 - acc: 0.8851 - val_loss: 0.2474 - val_acc: 0.8972\n",
      "Epoch 3/20\n",
      " - 14s - loss: 0.2487 - acc: 0.8992 - val_loss: 0.2372 - val_acc: 0.9021\n",
      "Epoch 4/20\n",
      " - 14s - loss: 0.2336 - acc: 0.9063 - val_loss: 0.2279 - val_acc: 0.9080\n",
      "Epoch 5/20\n",
      " - 14s - loss: 0.2225 - acc: 0.9115 - val_loss: 0.2229 - val_acc: 0.9109\n",
      "Epoch 6/20\n",
      " - 14s - loss: 0.2128 - acc: 0.9160 - val_loss: 0.2200 - val_acc: 0.9120\n",
      "Epoch 7/20\n",
      " - 14s - loss: 0.2051 - acc: 0.9184 - val_loss: 0.2207 - val_acc: 0.9120\n",
      "Epoch 8/20\n",
      " - 14s - loss: 0.1970 - acc: 0.9223 - val_loss: 0.2143 - val_acc: 0.9145\n",
      "Epoch 9/20\n",
      " - 14s - loss: 0.1910 - acc: 0.9243 - val_loss: 0.2134 - val_acc: 0.9161\n",
      "Epoch 10/20\n",
      " - 14s - loss: 0.1853 - acc: 0.9269 - val_loss: 0.2134 - val_acc: 0.9168\n",
      "Epoch 11/20\n",
      " - 14s - loss: 0.1793 - acc: 0.9295 - val_loss: 0.2171 - val_acc: 0.9156\n",
      "Epoch 12/20\n",
      " - 14s - loss: 0.1739 - acc: 0.9314 - val_loss: 0.2131 - val_acc: 0.9178\n",
      "Epoch 13/20\n",
      " - 14s - loss: 0.1705 - acc: 0.9330 - val_loss: 0.2151 - val_acc: 0.9184\n",
      "Epoch 14/20\n",
      " - 14s - loss: 0.1670 - acc: 0.9342 - val_loss: 0.2134 - val_acc: 0.9183\n",
      "Epoch 15/20\n",
      " - 14s - loss: 0.1625 - acc: 0.9363 - val_loss: 0.2158 - val_acc: 0.9194\n",
      "Epoch 16/20\n",
      " - 14s - loss: 0.1591 - acc: 0.9377 - val_loss: 0.2143 - val_acc: 0.9206\n",
      "Epoch 17/20\n",
      " - 14s - loss: 0.1572 - acc: 0.9382 - val_loss: 0.2130 - val_acc: 0.9206\n",
      "Epoch 18/20\n",
      " - 14s - loss: 0.1545 - acc: 0.9392 - val_loss: 0.2195 - val_acc: 0.9196\n",
      "Epoch 19/20\n",
      " - 14s - loss: 0.1512 - acc: 0.9404 - val_loss: 0.2268 - val_acc: 0.9187\n",
      "Epoch 20/20\n",
      " - 14s - loss: 0.1495 - acc: 0.9419 - val_loss: 0.2201 - val_acc: 0.9207\n",
      "10 128 64 0.9681437451005809 0.9206833196513037\n",
      "Train on 486027 samples, validate on 25581 samples\n",
      "Epoch 1/20\n",
      " - 15s - loss: 0.4524 - acc: 0.7878 - val_loss: 0.2941 - val_acc: 0.8761\n",
      "Epoch 2/20\n",
      " - 15s - loss: 0.2704 - acc: 0.8870 - val_loss: 0.2430 - val_acc: 0.8993\n",
      "Epoch 3/20\n",
      " - 15s - loss: 0.2425 - acc: 0.9012 - val_loss: 0.2352 - val_acc: 0.9039\n",
      "Epoch 4/20\n",
      " - 15s - loss: 0.2277 - acc: 0.9084 - val_loss: 0.2271 - val_acc: 0.9087\n",
      "Epoch 5/20\n",
      " - 15s - loss: 0.2161 - acc: 0.9129 - val_loss: 0.2207 - val_acc: 0.9129\n",
      "Epoch 6/20\n",
      " - 15s - loss: 0.2067 - acc: 0.9173 - val_loss: 0.2161 - val_acc: 0.9137\n",
      "Epoch 7/20\n",
      " - 15s - loss: 0.1994 - acc: 0.9205 - val_loss: 0.2165 - val_acc: 0.9142\n",
      "Epoch 8/20\n",
      " - 14s - loss: 0.1922 - acc: 0.9233 - val_loss: 0.2126 - val_acc: 0.9168\n",
      "Epoch 9/20\n",
      " - 15s - loss: 0.1845 - acc: 0.9269 - val_loss: 0.2166 - val_acc: 0.9167\n",
      "Epoch 10/20\n",
      " - 15s - loss: 0.1799 - acc: 0.9284 - val_loss: 0.2244 - val_acc: 0.9147\n",
      "Epoch 11/20\n",
      " - 15s - loss: 0.1741 - acc: 0.9306 - val_loss: 0.2095 - val_acc: 0.9188\n",
      "Epoch 12/20\n",
      " - 15s - loss: 0.1694 - acc: 0.9330 - val_loss: 0.2141 - val_acc: 0.9181\n",
      "Epoch 13/20\n",
      " - 15s - loss: 0.1659 - acc: 0.9342 - val_loss: 0.2108 - val_acc: 0.9193\n",
      "Epoch 14/20\n",
      " - 15s - loss: 0.1620 - acc: 0.9360 - val_loss: 0.2153 - val_acc: 0.9185\n",
      "Epoch 15/20\n",
      " - 15s - loss: 0.1596 - acc: 0.9371 - val_loss: 0.2123 - val_acc: 0.9189\n",
      "Epoch 16/20\n",
      " - 14s - loss: 0.1568 - acc: 0.9381 - val_loss: 0.2158 - val_acc: 0.9193\n",
      "Epoch 17/20\n",
      " - 15s - loss: 0.1531 - acc: 0.9396 - val_loss: 0.2118 - val_acc: 0.9224\n",
      "Epoch 18/20\n",
      " - 15s - loss: 0.1508 - acc: 0.9405 - val_loss: 0.2162 - val_acc: 0.9206\n",
      "Epoch 19/20\n",
      " - 15s - loss: 0.1476 - acc: 0.9419 - val_loss: 0.2108 - val_acc: 0.9219\n",
      "Epoch 20/20\n",
      " - 15s - loss: 0.1462 - acc: 0.9429 - val_loss: 0.2172 - val_acc: 0.9194\n",
      "10 128 128 0.9686745798072947 0.9193542082013995\n",
      "Train on 486027 samples, validate on 25581 samples\n",
      "Epoch 1/20\n",
      " - 16s - loss: 0.4397 - acc: 0.7979 - val_loss: 0.3059 - val_acc: 0.8745\n",
      "Epoch 2/20\n",
      " - 16s - loss: 0.2742 - acc: 0.8846 - val_loss: 0.2444 - val_acc: 0.8981\n",
      "Epoch 3/20\n",
      " - 16s - loss: 0.2422 - acc: 0.9009 - val_loss: 0.2324 - val_acc: 0.9063\n",
      "Epoch 4/20\n",
      " - 16s - loss: 0.2268 - acc: 0.9080 - val_loss: 0.2232 - val_acc: 0.9106\n",
      "Epoch 5/20\n",
      " - 16s - loss: 0.2137 - acc: 0.9140 - val_loss: 0.2193 - val_acc: 0.9127\n",
      "Epoch 6/20\n",
      " - 16s - loss: 0.2034 - acc: 0.9184 - val_loss: 0.2150 - val_acc: 0.9146\n",
      "Epoch 7/20\n",
      " - 16s - loss: 0.1959 - acc: 0.9213 - val_loss: 0.2154 - val_acc: 0.9150\n",
      "Epoch 8/20\n",
      " - 16s - loss: 0.1880 - acc: 0.9245 - val_loss: 0.2115 - val_acc: 0.9174\n",
      "Epoch 9/20\n",
      " - 16s - loss: 0.1823 - acc: 0.9273 - val_loss: 0.2121 - val_acc: 0.9178\n",
      "Epoch 10/20\n",
      " - 16s - loss: 0.1763 - acc: 0.9300 - val_loss: 0.2094 - val_acc: 0.9195\n",
      "Epoch 11/20\n",
      " - 16s - loss: 0.1718 - acc: 0.9318 - val_loss: 0.2150 - val_acc: 0.9174\n",
      "Epoch 12/20\n",
      " - 16s - loss: 0.1670 - acc: 0.9337 - val_loss: 0.2099 - val_acc: 0.9203\n",
      "Epoch 13/20\n",
      " - 16s - loss: 0.1629 - acc: 0.9352 - val_loss: 0.2110 - val_acc: 0.9200\n",
      "Epoch 14/20\n",
      " - 16s - loss: 0.1597 - acc: 0.9365 - val_loss: 0.2080 - val_acc: 0.9213\n",
      "Epoch 15/20\n",
      " - 16s - loss: 0.1560 - acc: 0.9381 - val_loss: 0.2108 - val_acc: 0.9214\n",
      "Epoch 16/20\n",
      " - 16s - loss: 0.1539 - acc: 0.9392 - val_loss: 0.2101 - val_acc: 0.9208\n",
      "Epoch 17/20\n",
      " - 16s - loss: 0.1513 - acc: 0.9401 - val_loss: 0.2172 - val_acc: 0.9198\n",
      "Epoch 18/20\n",
      " - 16s - loss: 0.1487 - acc: 0.9409 - val_loss: 0.2169 - val_acc: 0.9212\n",
      "Epoch 19/20\n",
      " - 16s - loss: 0.1462 - acc: 0.9427 - val_loss: 0.2158 - val_acc: 0.9204\n",
      "Epoch 20/20\n",
      " - 16s - loss: 0.1440 - acc: 0.9430 - val_loss: 0.2175 - val_acc: 0.9184\n",
      "10 128 256 0.9699461141047719 0.91841601188382\n",
      "Train on 486027 samples, validate on 25581 samples\n",
      "Epoch 1/20\n",
      " - 21s - loss: 0.4294 - acc: 0.8041 - val_loss: 0.2807 - val_acc: 0.8803\n",
      "Epoch 2/20\n",
      " - 21s - loss: 0.2726 - acc: 0.8873 - val_loss: 0.2418 - val_acc: 0.8998\n",
      "Epoch 3/20\n",
      " - 20s - loss: 0.2436 - acc: 0.9014 - val_loss: 0.2299 - val_acc: 0.9070\n",
      "Epoch 4/20\n",
      " - 21s - loss: 0.2278 - acc: 0.9091 - val_loss: 0.2276 - val_acc: 0.9072\n",
      "Epoch 5/20\n",
      " - 22s - loss: 0.2166 - acc: 0.9139 - val_loss: 0.2185 - val_acc: 0.9135\n",
      "Epoch 6/20\n",
      " - 20s - loss: 0.2064 - acc: 0.9179 - val_loss: 0.2142 - val_acc: 0.9153\n",
      "Epoch 7/20\n",
      " - 20s - loss: 0.1989 - acc: 0.9213 - val_loss: 0.2115 - val_acc: 0.9160\n",
      "Epoch 8/20\n",
      " - 21s - loss: 0.1911 - acc: 0.9244 - val_loss: 0.2108 - val_acc: 0.9166\n",
      "Epoch 9/20\n",
      " - 20s - loss: 0.1843 - acc: 0.9275 - val_loss: 0.2112 - val_acc: 0.9183\n",
      "Epoch 10/20\n",
      " - 21s - loss: 0.1783 - acc: 0.9296 - val_loss: 0.2116 - val_acc: 0.9185\n",
      "Epoch 11/20\n",
      " - 21s - loss: 0.1739 - acc: 0.9312 - val_loss: 0.2085 - val_acc: 0.9190\n",
      "Epoch 12/20\n",
      " - 21s - loss: 0.1689 - acc: 0.9339 - val_loss: 0.2127 - val_acc: 0.9183\n",
      "Epoch 13/20\n",
      " - 21s - loss: 0.1651 - acc: 0.9352 - val_loss: 0.2089 - val_acc: 0.9201\n",
      "Epoch 14/20\n",
      " - 21s - loss: 0.1602 - acc: 0.9372 - val_loss: 0.2092 - val_acc: 0.9195\n",
      "Epoch 15/20\n",
      " - 20s - loss: 0.1574 - acc: 0.9385 - val_loss: 0.2130 - val_acc: 0.9200\n",
      "Epoch 16/20\n",
      " - 20s - loss: 0.1543 - acc: 0.9396 - val_loss: 0.2165 - val_acc: 0.9188\n",
      "Epoch 17/20\n",
      " - 20s - loss: 0.1505 - acc: 0.9413 - val_loss: 0.2136 - val_acc: 0.9208\n",
      "Epoch 18/20\n",
      " - 20s - loss: 0.1486 - acc: 0.9421 - val_loss: 0.2118 - val_acc: 0.9217\n",
      "Epoch 19/20\n",
      " - 20s - loss: 0.1458 - acc: 0.9434 - val_loss: 0.2163 - val_acc: 0.9222\n",
      "Epoch 20/20\n",
      " - 20s - loss: 0.1431 - acc: 0.9443 - val_loss: 0.2193 - val_acc: 0.9212\n",
      "10 256 64 0.9706497787159972 0.9211915093233259\n",
      "Train on 486027 samples, validate on 25581 samples\n",
      "Epoch 1/20\n",
      " - 22s - loss: 0.4270 - acc: 0.8041 - val_loss: 0.2808 - val_acc: 0.8772\n",
      "Epoch 2/20\n",
      " - 21s - loss: 0.2721 - acc: 0.8864 - val_loss: 0.2458 - val_acc: 0.8977\n",
      "Epoch 3/20\n",
      " - 21s - loss: 0.2445 - acc: 0.9010 - val_loss: 0.2335 - val_acc: 0.9049\n",
      "Epoch 4/20\n",
      " - 21s - loss: 0.2292 - acc: 0.9081 - val_loss: 0.2267 - val_acc: 0.9096\n",
      "Epoch 5/20\n",
      " - 21s - loss: 0.2179 - acc: 0.9130 - val_loss: 0.2215 - val_acc: 0.9117\n",
      "Epoch 6/20\n",
      " - 21s - loss: 0.2069 - acc: 0.9180 - val_loss: 0.2159 - val_acc: 0.9147\n",
      "Epoch 7/20\n",
      " - 21s - loss: 0.1984 - acc: 0.9213 - val_loss: 0.2130 - val_acc: 0.9161\n",
      "Epoch 8/20\n",
      " - 21s - loss: 0.1907 - acc: 0.9246 - val_loss: 0.2146 - val_acc: 0.9153\n",
      "Epoch 9/20\n",
      " - 21s - loss: 0.1832 - acc: 0.9278 - val_loss: 0.2111 - val_acc: 0.9178\n",
      "Epoch 10/20\n",
      " - 21s - loss: 0.1768 - acc: 0.9304 - val_loss: 0.2157 - val_acc: 0.9168\n",
      "Epoch 11/20\n",
      " - 21s - loss: 0.1716 - acc: 0.9322 - val_loss: 0.2094 - val_acc: 0.9202\n",
      "Epoch 12/20\n",
      " - 21s - loss: 0.1669 - acc: 0.9342 - val_loss: 0.2116 - val_acc: 0.9197\n"
     ]
    },
    {
     "name": "stdout",
     "output_type": "stream",
     "text": [
      "Epoch 13/20\n",
      " - 21s - loss: 0.1615 - acc: 0.9363 - val_loss: 0.2108 - val_acc: 0.9193\n",
      "Epoch 14/20\n",
      " - 21s - loss: 0.1582 - acc: 0.9380 - val_loss: 0.2105 - val_acc: 0.9196\n",
      "Epoch 15/20\n",
      " - 21s - loss: 0.1540 - acc: 0.9398 - val_loss: 0.2120 - val_acc: 0.9204\n",
      "Epoch 16/20\n",
      " - 21s - loss: 0.1512 - acc: 0.9409 - val_loss: 0.2134 - val_acc: 0.9213\n",
      "Epoch 17/20\n",
      " - 21s - loss: 0.1476 - acc: 0.9420 - val_loss: 0.2147 - val_acc: 0.9213\n",
      "Epoch 18/20\n",
      " - 21s - loss: 0.1441 - acc: 0.9437 - val_loss: 0.2174 - val_acc: 0.9210\n",
      "Epoch 19/20\n",
      " - 21s - loss: 0.1435 - acc: 0.9439 - val_loss: 0.2147 - val_acc: 0.9222\n",
      "Epoch 20/20\n",
      " - 21s - loss: 0.1399 - acc: 0.9454 - val_loss: 0.2156 - val_acc: 0.9226\n",
      "10 256 128 0.9732525147779856 0.9226378953129276\n",
      "Train on 486027 samples, validate on 25581 samples\n",
      "Epoch 1/20\n",
      " - 24s - loss: 0.4268 - acc: 0.8057 - val_loss: 0.2786 - val_acc: 0.8804\n",
      "Epoch 2/20\n",
      " - 24s - loss: 0.2671 - acc: 0.8883 - val_loss: 0.2434 - val_acc: 0.8990\n",
      "Epoch 3/20\n",
      " - 24s - loss: 0.2413 - acc: 0.9012 - val_loss: 0.2330 - val_acc: 0.9052\n",
      "Epoch 4/20\n",
      " - 24s - loss: 0.2258 - acc: 0.9086 - val_loss: 0.2244 - val_acc: 0.9096\n",
      "Epoch 5/20\n",
      " - 24s - loss: 0.2134 - acc: 0.9139 - val_loss: 0.2172 - val_acc: 0.9128\n",
      "Epoch 6/20\n",
      " - 24s - loss: 0.2031 - acc: 0.9183 - val_loss: 0.2166 - val_acc: 0.9131\n",
      "Epoch 7/20\n",
      " - 24s - loss: 0.1933 - acc: 0.9226 - val_loss: 0.2107 - val_acc: 0.9165\n",
      "Epoch 8/20\n",
      " - 24s - loss: 0.1854 - acc: 0.9265 - val_loss: 0.2085 - val_acc: 0.9185\n",
      "Epoch 9/20\n",
      " - 24s - loss: 0.1790 - acc: 0.9286 - val_loss: 0.2052 - val_acc: 0.9197\n",
      "Epoch 10/20\n",
      " - 24s - loss: 0.1733 - acc: 0.9313 - val_loss: 0.2061 - val_acc: 0.9203\n",
      "Epoch 11/20\n",
      " - 24s - loss: 0.1681 - acc: 0.9333 - val_loss: 0.2099 - val_acc: 0.9201\n",
      "Epoch 12/20\n",
      " - 24s - loss: 0.1632 - acc: 0.9353 - val_loss: 0.2072 - val_acc: 0.9218\n",
      "Epoch 13/20\n",
      " - 24s - loss: 0.1582 - acc: 0.9377 - val_loss: 0.2097 - val_acc: 0.9205\n",
      "Epoch 14/20\n",
      " - 24s - loss: 0.1542 - acc: 0.9390 - val_loss: 0.2068 - val_acc: 0.9226\n",
      "Epoch 15/20\n",
      " - 25s - loss: 0.1512 - acc: 0.9405 - val_loss: 0.2138 - val_acc: 0.9211\n",
      "Epoch 16/20\n",
      " - 24s - loss: 0.1471 - acc: 0.9421 - val_loss: 0.2120 - val_acc: 0.9235\n",
      "Epoch 17/20\n",
      " - 24s - loss: 0.1448 - acc: 0.9429 - val_loss: 0.2101 - val_acc: 0.9227\n",
      "Epoch 18/20\n",
      " - 25s - loss: 0.1416 - acc: 0.9441 - val_loss: 0.2108 - val_acc: 0.9219\n",
      "Epoch 19/20\n",
      " - 25s - loss: 0.1396 - acc: 0.9452 - val_loss: 0.2119 - val_acc: 0.9227\n",
      "Epoch 20/20\n",
      " - 25s - loss: 0.1368 - acc: 0.9464 - val_loss: 0.2137 - val_acc: 0.9224\n",
      "10 256 256 0.9759313782979135 0.9224424377467652\n",
      "Train on 486027 samples, validate on 25581 samples\n",
      "Epoch 1/20\n",
      " - 21s - loss: 0.4301 - acc: 0.8036 - val_loss: 0.2801 - val_acc: 0.8781\n",
      "Epoch 2/20\n",
      " - 21s - loss: 0.2676 - acc: 0.8899 - val_loss: 0.2419 - val_acc: 0.9015\n",
      "Epoch 3/20\n",
      " - 21s - loss: 0.2375 - acc: 0.9047 - val_loss: 0.2282 - val_acc: 0.9081\n",
      "Epoch 4/20\n",
      " - 21s - loss: 0.2193 - acc: 0.9133 - val_loss: 0.2213 - val_acc: 0.9123\n",
      "Epoch 5/20\n",
      " - 21s - loss: 0.2045 - acc: 0.9199 - val_loss: 0.2163 - val_acc: 0.9149\n",
      "Epoch 6/20\n",
      " - 21s - loss: 0.1912 - acc: 0.9252 - val_loss: 0.2120 - val_acc: 0.9169\n",
      "Epoch 7/20\n",
      " - 21s - loss: 0.1815 - acc: 0.9291 - val_loss: 0.2075 - val_acc: 0.9187\n",
      "Epoch 8/20\n",
      " - 21s - loss: 0.1729 - acc: 0.9329 - val_loss: 0.2068 - val_acc: 0.9195\n",
      "Epoch 9/20\n",
      " - 21s - loss: 0.1651 - acc: 0.9361 - val_loss: 0.2108 - val_acc: 0.9207\n",
      "Epoch 10/20\n",
      " - 21s - loss: 0.1579 - acc: 0.9387 - val_loss: 0.2134 - val_acc: 0.9208\n",
      "Epoch 11/20\n",
      " - 21s - loss: 0.1523 - acc: 0.9412 - val_loss: 0.2126 - val_acc: 0.9203\n",
      "Epoch 12/20\n",
      " - 21s - loss: 0.1470 - acc: 0.9432 - val_loss: 0.2116 - val_acc: 0.9213\n",
      "Epoch 13/20\n",
      " - 21s - loss: 0.1423 - acc: 0.9448 - val_loss: 0.2211 - val_acc: 0.9203\n",
      "Epoch 14/20\n",
      " - 21s - loss: 0.1373 - acc: 0.9469 - val_loss: 0.2144 - val_acc: 0.9211\n",
      "Epoch 15/20\n",
      " - 21s - loss: 0.1333 - acc: 0.9485 - val_loss: 0.2172 - val_acc: 0.9217\n",
      "Epoch 16/20\n",
      " - 21s - loss: 0.1308 - acc: 0.9497 - val_loss: 0.2190 - val_acc: 0.9222\n",
      "Epoch 17/20\n",
      " - 21s - loss: 0.1280 - acc: 0.9503 - val_loss: 0.2267 - val_acc: 0.9218\n",
      "Epoch 18/20\n",
      " - 21s - loss: 0.1262 - acc: 0.9516 - val_loss: 0.2253 - val_acc: 0.9213\n",
      "Epoch 19/20\n",
      " - 21s - loss: 0.1227 - acc: 0.9526 - val_loss: 0.2262 - val_acc: 0.9230\n",
      "Epoch 20/20\n",
      " - 21s - loss: 0.1196 - acc: 0.9540 - val_loss: 0.2233 - val_acc: 0.9230\n",
      "15 128 64 0.9807520981344657 0.9230288104452523\n",
      "Train on 486027 samples, validate on 25581 samples\n",
      "Epoch 1/20\n",
      " - 22s - loss: 0.4228 - acc: 0.8052 - val_loss: 0.2805 - val_acc: 0.8787\n",
      "Epoch 2/20\n",
      " - 21s - loss: 0.2633 - acc: 0.8902 - val_loss: 0.2396 - val_acc: 0.9006\n",
      "Epoch 3/20\n",
      " - 21s - loss: 0.2330 - acc: 0.9055 - val_loss: 0.2279 - val_acc: 0.9074\n",
      "Epoch 4/20\n",
      " - 21s - loss: 0.2148 - acc: 0.9136 - val_loss: 0.2180 - val_acc: 0.9127\n",
      "Epoch 5/20\n",
      " - 21s - loss: 0.2010 - acc: 0.9198 - val_loss: 0.2121 - val_acc: 0.9158\n",
      "Epoch 6/20\n",
      " - 21s - loss: 0.1884 - acc: 0.9249 - val_loss: 0.2063 - val_acc: 0.9188\n",
      "Epoch 7/20\n",
      " - 21s - loss: 0.1772 - acc: 0.9301 - val_loss: 0.2052 - val_acc: 0.9198\n",
      "Epoch 8/20\n",
      " - 21s - loss: 0.1686 - acc: 0.9339 - val_loss: 0.2092 - val_acc: 0.9188\n",
      "Epoch 9/20\n",
      " - 21s - loss: 0.1612 - acc: 0.9367 - val_loss: 0.2030 - val_acc: 0.9239\n",
      "Epoch 10/20\n",
      " - 21s - loss: 0.1533 - acc: 0.9398 - val_loss: 0.2062 - val_acc: 0.9221\n",
      "Epoch 11/20\n",
      " - 21s - loss: 0.1475 - acc: 0.9421 - val_loss: 0.2051 - val_acc: 0.9240\n",
      "Epoch 12/20\n",
      " - 21s - loss: 0.1426 - acc: 0.9444 - val_loss: 0.2090 - val_acc: 0.9222\n",
      "Epoch 13/20\n",
      " - 21s - loss: 0.1383 - acc: 0.9464 - val_loss: 0.2114 - val_acc: 0.9234\n",
      "Epoch 14/20\n",
      " - 21s - loss: 0.1339 - acc: 0.9479 - val_loss: 0.2093 - val_acc: 0.9235\n",
      "Epoch 15/20\n",
      " - 21s - loss: 0.1304 - acc: 0.9493 - val_loss: 0.2133 - val_acc: 0.9223\n",
      "Epoch 16/20\n",
      " - 21s - loss: 0.1269 - acc: 0.9507 - val_loss: 0.2227 - val_acc: 0.9238\n",
      "Epoch 17/20\n",
      " - 21s - loss: 0.1244 - acc: 0.9517 - val_loss: 0.2142 - val_acc: 0.9233\n",
      "Epoch 18/20\n",
      " - 21s - loss: 0.1207 - acc: 0.9530 - val_loss: 0.2243 - val_acc: 0.9233\n",
      "Epoch 19/20\n",
      " - 21s - loss: 0.1192 - acc: 0.9539 - val_loss: 0.2247 - val_acc: 0.9233\n",
      "Epoch 20/20\n",
      " - 21s - loss: 0.1174 - acc: 0.9544 - val_loss: 0.2210 - val_acc: 0.9242\n",
      "15 128 128 0.9820112874387636 0.9242406473554591\n",
      "Train on 486027 samples, validate on 25581 samples\n",
      "Epoch 1/20\n",
      " - 23s - loss: 0.4223 - acc: 0.8082 - val_loss: 0.2771 - val_acc: 0.8814\n",
      "Epoch 2/20\n",
      " - 23s - loss: 0.2619 - acc: 0.8903 - val_loss: 0.2396 - val_acc: 0.9027\n",
      "Epoch 3/20\n",
      " - 23s - loss: 0.2336 - acc: 0.9053 - val_loss: 0.2321 - val_acc: 0.9061\n",
      "Epoch 4/20\n",
      " - 23s - loss: 0.2160 - acc: 0.9132 - val_loss: 0.2200 - val_acc: 0.9115\n",
      "Epoch 5/20\n",
      " - 23s - loss: 0.2017 - acc: 0.9197 - val_loss: 0.2120 - val_acc: 0.9165\n",
      "Epoch 6/20\n",
      " - 23s - loss: 0.1888 - acc: 0.9250 - val_loss: 0.2107 - val_acc: 0.9169\n",
      "Epoch 7/20\n",
      " - 23s - loss: 0.1776 - acc: 0.9297 - val_loss: 0.2089 - val_acc: 0.9189\n",
      "Epoch 8/20\n",
      " - 23s - loss: 0.1692 - acc: 0.9331 - val_loss: 0.2108 - val_acc: 0.9196\n",
      "Epoch 9/20\n",
      " - 23s - loss: 0.1611 - acc: 0.9368 - val_loss: 0.2039 - val_acc: 0.9210\n",
      "Epoch 10/20\n",
      " - 23s - loss: 0.1526 - acc: 0.9399 - val_loss: 0.2078 - val_acc: 0.9222\n",
      "Epoch 11/20\n",
      " - 23s - loss: 0.1469 - acc: 0.9423 - val_loss: 0.2123 - val_acc: 0.9221\n",
      "Epoch 12/20\n",
      " - 23s - loss: 0.1420 - acc: 0.9442 - val_loss: 0.2119 - val_acc: 0.9231\n",
      "Epoch 13/20\n",
      " - 23s - loss: 0.1372 - acc: 0.9464 - val_loss: 0.2233 - val_acc: 0.9219\n",
      "Epoch 14/20\n",
      " - 23s - loss: 0.1333 - acc: 0.9481 - val_loss: 0.2185 - val_acc: 0.9215\n",
      "Epoch 15/20\n",
      " - 23s - loss: 0.1300 - acc: 0.9493 - val_loss: 0.2217 - val_acc: 0.9231\n",
      "Epoch 16/20\n",
      " - 23s - loss: 0.1263 - acc: 0.9508 - val_loss: 0.2187 - val_acc: 0.9235\n",
      "Epoch 17/20\n",
      " - 23s - loss: 0.1237 - acc: 0.9519 - val_loss: 0.2179 - val_acc: 0.9231\n",
      "Epoch 18/20\n",
      " - 23s - loss: 0.1211 - acc: 0.9532 - val_loss: 0.2187 - val_acc: 0.9227\n",
      "Epoch 19/20\n",
      " - 23s - loss: 0.1181 - acc: 0.9541 - val_loss: 0.2229 - val_acc: 0.9247\n",
      "Epoch 20/20\n",
      " - 23s - loss: 0.1154 - acc: 0.9553 - val_loss: 0.2318 - val_acc: 0.9226\n",
      "15 128 256 0.9789641316223173 0.9225597122864626\n",
      "Train on 486027 samples, validate on 25581 samples\n",
      "Epoch 1/20\n",
      " - 31s - loss: 0.4196 - acc: 0.8072 - val_loss: 0.2771 - val_acc: 0.8817\n",
      "Epoch 2/20\n",
      " - 31s - loss: 0.2641 - acc: 0.8905 - val_loss: 0.2392 - val_acc: 0.9016\n",
      "Epoch 3/20\n",
      " - 31s - loss: 0.2362 - acc: 0.9050 - val_loss: 0.2270 - val_acc: 0.9072\n"
     ]
    },
    {
     "name": "stdout",
     "output_type": "stream",
     "text": [
      "Epoch 4/20\n",
      " - 31s - loss: 0.2184 - acc: 0.9129 - val_loss: 0.2173 - val_acc: 0.9126\n",
      "Epoch 5/20\n",
      " - 31s - loss: 0.2043 - acc: 0.9190 - val_loss: 0.2123 - val_acc: 0.9162\n",
      "Epoch 6/20\n",
      " - 31s - loss: 0.1917 - acc: 0.9247 - val_loss: 0.2082 - val_acc: 0.9167\n",
      "Epoch 7/20\n",
      " - 31s - loss: 0.1808 - acc: 0.9290 - val_loss: 0.2064 - val_acc: 0.9192\n",
      "Epoch 8/20\n",
      " - 30s - loss: 0.1707 - acc: 0.9334 - val_loss: 0.2057 - val_acc: 0.9184\n",
      "Epoch 9/20\n",
      " - 31s - loss: 0.1622 - acc: 0.9367 - val_loss: 0.2149 - val_acc: 0.9184\n",
      "Epoch 10/20\n",
      " - 31s - loss: 0.1567 - acc: 0.9390 - val_loss: 0.2078 - val_acc: 0.9214\n",
      "Epoch 11/20\n",
      " - 31s - loss: 0.1502 - acc: 0.9416 - val_loss: 0.2118 - val_acc: 0.9220\n",
      "Epoch 12/20\n",
      " - 31s - loss: 0.1453 - acc: 0.9440 - val_loss: 0.2149 - val_acc: 0.9204\n",
      "Epoch 13/20\n",
      " - 31s - loss: 0.1388 - acc: 0.9464 - val_loss: 0.2239 - val_acc: 0.9190\n",
      "Epoch 14/20\n",
      " - 31s - loss: 0.1355 - acc: 0.9476 - val_loss: 0.2138 - val_acc: 0.9215\n",
      "Epoch 15/20\n",
      " - 31s - loss: 0.1303 - acc: 0.9499 - val_loss: 0.2206 - val_acc: 0.9228\n",
      "Epoch 16/20\n",
      " - 31s - loss: 0.1264 - acc: 0.9512 - val_loss: 0.2228 - val_acc: 0.9227\n",
      "Epoch 17/20\n",
      " - 31s - loss: 0.1239 - acc: 0.9521 - val_loss: 0.2254 - val_acc: 0.9226\n",
      "Epoch 18/20\n",
      " - 31s - loss: 0.1204 - acc: 0.9540 - val_loss: 0.2205 - val_acc: 0.9222\n",
      "Epoch 19/20\n",
      " - 31s - loss: 0.1170 - acc: 0.9554 - val_loss: 0.2346 - val_acc: 0.9222\n",
      "Epoch 20/20\n",
      " - 30s - loss: 0.1153 - acc: 0.9559 - val_loss: 0.2384 - val_acc: 0.9209\n",
      "15 256 64 0.9795340588074325 0.9208787772174661\n",
      "Train on 486027 samples, validate on 25581 samples\n",
      "Epoch 1/20\n",
      " - 32s - loss: 0.4189 - acc: 0.8071 - val_loss: 0.2700 - val_acc: 0.8854\n",
      "Epoch 2/20\n",
      " - 32s - loss: 0.2607 - acc: 0.8925 - val_loss: 0.2379 - val_acc: 0.9028\n",
      "Epoch 3/20\n",
      " - 32s - loss: 0.2324 - acc: 0.9064 - val_loss: 0.2261 - val_acc: 0.9093\n",
      "Epoch 4/20\n",
      " - 32s - loss: 0.2141 - acc: 0.9146 - val_loss: 0.2158 - val_acc: 0.9147\n",
      "Epoch 5/20\n",
      " - 32s - loss: 0.2005 - acc: 0.9206 - val_loss: 0.2096 - val_acc: 0.9171\n",
      "Epoch 6/20\n",
      " - 31s - loss: 0.1868 - acc: 0.9259 - val_loss: 0.2078 - val_acc: 0.9174\n",
      "Epoch 7/20\n",
      " - 31s - loss: 0.1763 - acc: 0.9306 - val_loss: 0.2057 - val_acc: 0.9197\n",
      "Epoch 8/20\n",
      " - 31s - loss: 0.1677 - acc: 0.9346 - val_loss: 0.2083 - val_acc: 0.9182\n",
      "Epoch 9/20\n",
      " - 31s - loss: 0.1599 - acc: 0.9374 - val_loss: 0.2018 - val_acc: 0.9206\n",
      "Epoch 10/20\n",
      " - 31s - loss: 0.1524 - acc: 0.9403 - val_loss: 0.2030 - val_acc: 0.9223\n",
      "Epoch 11/20\n",
      " - 32s - loss: 0.1463 - acc: 0.9430 - val_loss: 0.2049 - val_acc: 0.9229\n",
      "Epoch 12/20\n",
      " - 31s - loss: 0.1401 - acc: 0.9456 - val_loss: 0.2069 - val_acc: 0.9221\n",
      "Epoch 13/20\n",
      " - 32s - loss: 0.1364 - acc: 0.9473 - val_loss: 0.2109 - val_acc: 0.9229\n",
      "Epoch 14/20\n",
      " - 31s - loss: 0.1310 - acc: 0.9495 - val_loss: 0.2108 - val_acc: 0.9234\n",
      "Epoch 15/20\n",
      " - 31s - loss: 0.1270 - acc: 0.9510 - val_loss: 0.2126 - val_acc: 0.9236\n",
      "Epoch 16/20\n",
      " - 31s - loss: 0.1230 - acc: 0.9525 - val_loss: 0.2129 - val_acc: 0.9246\n",
      "Epoch 17/20\n",
      " - 31s - loss: 0.1199 - acc: 0.9538 - val_loss: 0.2136 - val_acc: 0.9233\n",
      "Epoch 18/20\n",
      " - 32s - loss: 0.1170 - acc: 0.9550 - val_loss: 0.2152 - val_acc: 0.9249\n",
      "Epoch 19/20\n",
      " - 32s - loss: 0.1142 - acc: 0.9561 - val_loss: 0.2287 - val_acc: 0.9209\n",
      "Epoch 20/20\n",
      " - 32s - loss: 0.1122 - acc: 0.9569 - val_loss: 0.2168 - val_acc: 0.9240\n",
      "15 256 128 0.9831922917862588 0.9240060982760643\n",
      "Train on 486027 samples, validate on 25581 samples\n",
      "Epoch 1/20\n",
      " - 34s - loss: 0.4137 - acc: 0.8114 - val_loss: 0.2695 - val_acc: 0.8848\n",
      "Epoch 2/20\n",
      " - 34s - loss: 0.2601 - acc: 0.8919 - val_loss: 0.2389 - val_acc: 0.9016\n",
      "Epoch 3/20\n",
      " - 34s - loss: 0.2325 - acc: 0.9056 - val_loss: 0.2280 - val_acc: 0.9077\n",
      "Epoch 4/20\n",
      " - 34s - loss: 0.2151 - acc: 0.9142 - val_loss: 0.2191 - val_acc: 0.9122\n",
      "Epoch 5/20\n",
      " - 34s - loss: 0.1991 - acc: 0.9212 - val_loss: 0.2165 - val_acc: 0.9136\n",
      "Epoch 6/20\n",
      " - 34s - loss: 0.1863 - acc: 0.9263 - val_loss: 0.2086 - val_acc: 0.9177\n",
      "Epoch 7/20\n",
      " - 34s - loss: 0.1748 - acc: 0.9309 - val_loss: 0.2069 - val_acc: 0.9191\n",
      "Epoch 8/20\n",
      " - 34s - loss: 0.1654 - acc: 0.9348 - val_loss: 0.2054 - val_acc: 0.9210\n",
      "Epoch 9/20\n",
      " - 34s - loss: 0.1568 - acc: 0.9388 - val_loss: 0.2075 - val_acc: 0.9221\n",
      "Epoch 10/20\n",
      " - 34s - loss: 0.1484 - acc: 0.9420 - val_loss: 0.2056 - val_acc: 0.9225\n",
      "Epoch 11/20\n",
      " - 34s - loss: 0.1430 - acc: 0.9440 - val_loss: 0.2099 - val_acc: 0.9236\n",
      "Epoch 12/20\n",
      " - 34s - loss: 0.1380 - acc: 0.9465 - val_loss: 0.2098 - val_acc: 0.9243\n",
      "Epoch 13/20\n",
      " - 34s - loss: 0.1331 - acc: 0.9483 - val_loss: 0.2113 - val_acc: 0.9232\n",
      "Epoch 14/20\n",
      " - 34s - loss: 0.1284 - acc: 0.9502 - val_loss: 0.2159 - val_acc: 0.9232\n",
      "Epoch 15/20\n",
      " - 34s - loss: 0.1244 - acc: 0.9519 - val_loss: 0.2166 - val_acc: 0.9235\n",
      "Epoch 16/20\n",
      " - 34s - loss: 0.1208 - acc: 0.9533 - val_loss: 0.2148 - val_acc: 0.9243\n",
      "Epoch 17/20\n",
      " - 34s - loss: 0.1179 - acc: 0.9547 - val_loss: 0.2179 - val_acc: 0.9239\n",
      "Epoch 18/20\n",
      " - 34s - loss: 0.1146 - acc: 0.9557 - val_loss: 0.2238 - val_acc: 0.9240\n",
      "Epoch 19/20\n",
      " - 34s - loss: 0.1123 - acc: 0.9566 - val_loss: 0.2243 - val_acc: 0.9260\n",
      "Epoch 20/20\n",
      " - 34s - loss: 0.1100 - acc: 0.9576 - val_loss: 0.2256 - val_acc: 0.9258\n",
      "15 256 256 0.9844041586167024 0.9257652163715258\n"
     ]
    }
   ],
   "source": [
    "results=[]\n",
    "for E in [10,15]:\n",
    "  for hidden1 in [128,256]:\n",
    "    for hidden2 in [64,128,256]:\n",
    "        # Build the Estimator\n",
    "        model = text_dnn_net(W,V,E,hidden1,hidden2,dropout)\n",
    "        model.compile(optimizer=\"adam\",loss=\"sparse_categorical_crossentropy\",metrics=[\"accuracy\"])\n",
    "        model.fit(X_train,Y_train,validation_data=(X_val,Y_val),epochs=nepochs,batch_size=5000,verbose=2)\n",
    "        Y_pred=np.argmax(model.predict(X_train),axis=-1)\n",
    "        acc_train=np.mean(Y_pred==Y_train)\n",
    "        Y_pred=np.argmax(model.predict(X_val),axis=-1)\n",
    "        acc_val=np.mean(Y_pred==Y_val)\n",
    "        print(E,hidden1,hidden2,acc_train,acc_val)\n",
    "        results.append((E,hidden1,hidden2,acc_train,acc_val))\n",
    "        "
   ]
  },
  {
   "cell_type": "code",
   "execution_count": null,
   "metadata": {},
   "outputs": [],
   "source": []
  },
  {
   "cell_type": "code",
   "execution_count": 38,
   "metadata": {
    "ExecuteTime": {
     "end_time": "2019-04-11T03:14:59.914555Z",
     "start_time": "2019-04-11T03:14:59.912423Z"
    }
   },
   "outputs": [],
   "source": [
    "import pandas as pd"
   ]
  },
  {
   "cell_type": "code",
   "execution_count": 39,
   "metadata": {
    "ExecuteTime": {
     "end_time": "2019-04-11T03:14:59.944808Z",
     "start_time": "2019-04-11T03:14:59.916399Z"
    }
   },
   "outputs": [
    {
     "data": {
      "text/html": [
       "<div>\n",
       "<style scoped>\n",
       "    .dataframe tbody tr th:only-of-type {\n",
       "        vertical-align: middle;\n",
       "    }\n",
       "\n",
       "    .dataframe tbody tr th {\n",
       "        vertical-align: top;\n",
       "    }\n",
       "\n",
       "    .dataframe thead th {\n",
       "        text-align: right;\n",
       "    }\n",
       "</style>\n",
       "<table border=\"1\" class=\"dataframe\">\n",
       "  <thead>\n",
       "    <tr style=\"text-align: right;\">\n",
       "      <th></th>\n",
       "      <th>E</th>\n",
       "      <th>layer1</th>\n",
       "      <th>layer2</th>\n",
       "      <th>train</th>\n",
       "      <th>valuation</th>\n",
       "    </tr>\n",
       "  </thead>\n",
       "  <tbody>\n",
       "    <tr>\n",
       "      <th>0</th>\n",
       "      <td>10</td>\n",
       "      <td>128</td>\n",
       "      <td>64</td>\n",
       "      <td>0.968144</td>\n",
       "      <td>0.920683</td>\n",
       "    </tr>\n",
       "    <tr>\n",
       "      <th>1</th>\n",
       "      <td>10</td>\n",
       "      <td>128</td>\n",
       "      <td>128</td>\n",
       "      <td>0.968675</td>\n",
       "      <td>0.919354</td>\n",
       "    </tr>\n",
       "    <tr>\n",
       "      <th>2</th>\n",
       "      <td>10</td>\n",
       "      <td>128</td>\n",
       "      <td>256</td>\n",
       "      <td>0.969946</td>\n",
       "      <td>0.918416</td>\n",
       "    </tr>\n",
       "    <tr>\n",
       "      <th>3</th>\n",
       "      <td>10</td>\n",
       "      <td>256</td>\n",
       "      <td>64</td>\n",
       "      <td>0.970650</td>\n",
       "      <td>0.921192</td>\n",
       "    </tr>\n",
       "    <tr>\n",
       "      <th>4</th>\n",
       "      <td>10</td>\n",
       "      <td>256</td>\n",
       "      <td>128</td>\n",
       "      <td>0.973253</td>\n",
       "      <td>0.922638</td>\n",
       "    </tr>\n",
       "  </tbody>\n",
       "</table>\n",
       "</div>"
      ],
      "text/plain": [
       "    E  layer1  layer2     train  valuation\n",
       "0  10     128      64  0.968144   0.920683\n",
       "1  10     128     128  0.968675   0.919354\n",
       "2  10     128     256  0.969946   0.918416\n",
       "3  10     256      64  0.970650   0.921192\n",
       "4  10     256     128  0.973253   0.922638"
      ]
     },
     "execution_count": 39,
     "metadata": {},
     "output_type": "execute_result"
    }
   ],
   "source": [
    "data=pd.DataFrame(results,columns=[\"E\",\"layer1\",\"layer2\",\"train\",\"valuation\"])\n",
    "data.head()"
   ]
  },
  {
   "cell_type": "code",
   "execution_count": 40,
   "metadata": {
    "ExecuteTime": {
     "end_time": "2019-04-11T03:14:59.955329Z",
     "start_time": "2019-04-11T03:14:59.949028Z"
    }
   },
   "outputs": [],
   "source": [
    "data.to_csv(data_dir+\"/DNN_Binary_Text_AmazonReviews.csv\")\n",
    "val_error=data[[\"E\",\"layer1\",\"layer2\",\"valuation\"]]"
   ]
  },
  {
   "cell_type": "code",
   "execution_count": 41,
   "metadata": {
    "ExecuteTime": {
     "end_time": "2019-04-11T03:14:59.967494Z",
     "start_time": "2019-04-11T03:14:59.957490Z"
    }
   },
   "outputs": [
    {
     "data": {
      "text/plain": [
       "0.9257652163715258"
      ]
     },
     "execution_count": 41,
     "metadata": {},
     "output_type": "execute_result"
    }
   ],
   "source": [
    "data[\"valuation\"].max()"
   ]
  },
  {
   "cell_type": "code",
   "execution_count": 42,
   "metadata": {
    "ExecuteTime": {
     "end_time": "2019-04-11T03:14:59.979089Z",
     "start_time": "2019-04-11T03:14:59.969771Z"
    }
   },
   "outputs": [
    {
     "data": {
      "text/plain": [
       "E             15.000000\n",
       "layer1       256.000000\n",
       "layer2       256.000000\n",
       "train          0.984404\n",
       "valuation      0.925765\n",
       "Name: 11, dtype: float64"
      ]
     },
     "execution_count": 42,
     "metadata": {},
     "output_type": "execute_result"
    }
   ],
   "source": [
    "best=data.iloc[data[\"valuation\"].idxmax()]\n",
    "best_E=int(best[\"E\"])\n",
    "best_hidden1=int(best[\"layer1\"])\n",
    "best_hidden2=int(best[\"layer2\"])\n",
    "best"
   ]
  },
  {
   "cell_type": "markdown",
   "metadata": {},
   "source": [
    "The best model achieves 92.6% accuracy using and embedding of size 15, and two dense layers of $256\\times 256$ units."
   ]
  },
  {
   "cell_type": "markdown",
   "metadata": {
    "ExecuteTime": {
     "end_time": "2017-12-17T22:59:13.144106Z",
     "start_time": "2017-12-17T22:59:13.128480Z"
    }
   },
   "source": [
    "### Test of best model"
   ]
  },
  {
   "cell_type": "code",
   "execution_count": 43,
   "metadata": {
    "ExecuteTime": {
     "end_time": "2019-04-11T03:15:00.127742Z",
     "start_time": "2019-04-11T03:14:59.980988Z"
    }
   },
   "outputs": [],
   "source": [
    "model=text_dnn_net(W,V,best_E,best_hidden1,best_hidden2,dropout)"
   ]
  },
  {
   "cell_type": "code",
   "execution_count": 44,
   "metadata": {
    "ExecuteTime": {
     "end_time": "2019-04-11T03:15:00.407842Z",
     "start_time": "2019-04-11T03:15:00.129784Z"
    }
   },
   "outputs": [
    {
     "name": "stdout",
     "output_type": "stream",
     "text": [
      "(511608, 125) (511608,) (56846, 125) (56846,)\n"
     ]
    }
   ],
   "source": [
    "X=np.concatenate([X_train,X_val])\n",
    "Y=np.concatenate([Y_train,Y_val])\n",
    "print(X.shape,Y.shape,X_test.shape,Y_test.shape)"
   ]
  },
  {
   "cell_type": "code",
   "execution_count": 45,
   "metadata": {
    "ExecuteTime": {
     "end_time": "2019-04-11T03:15:00.510985Z",
     "start_time": "2019-04-11T03:15:00.409363Z"
    }
   },
   "outputs": [
    {
     "name": "stdout",
     "output_type": "stream",
     "text": [
      "_________________________________________________________________\n",
      "Layer (type)                 Output Shape              Param #   \n",
      "=================================================================\n",
      "lambda_14 (Lambda)           (None, 125)               0         \n",
      "_________________________________________________________________\n",
      "embedding_14 (Embedding)     (None, 125, 15)           750030    \n",
      "_________________________________________________________________\n",
      "flatten_13 (Flatten)         (None, 1875)              0         \n",
      "_________________________________________________________________\n",
      "dropout_26 (Dropout)         (None, 1875)              0         \n",
      "_________________________________________________________________\n",
      "dense_39 (Dense)             (None, 256)               480256    \n",
      "_________________________________________________________________\n",
      "dense_40 (Dense)             (None, 256)               65792     \n",
      "_________________________________________________________________\n",
      "dropout_27 (Dropout)         (None, 256)               0         \n",
      "_________________________________________________________________\n",
      "dense_41 (Dense)             (None, 2)                 514       \n",
      "=================================================================\n",
      "Total params: 1,296,592\n",
      "Trainable params: 1,296,592\n",
      "Non-trainable params: 0\n",
      "_________________________________________________________________\n"
     ]
    }
   ],
   "source": [
    "model.compile(optimizer=\"adam\",loss=\"sparse_categorical_crossentropy\",metrics=[\"accuracy\"])\n",
    "model.summary()"
   ]
  },
  {
   "cell_type": "markdown",
   "metadata": {},
   "source": [
    "This model is a **very large**"
   ]
  },
  {
   "cell_type": "code",
   "execution_count": 46,
   "metadata": {
    "ExecuteTime": {
     "end_time": "2019-04-11T03:27:00.155275Z",
     "start_time": "2019-04-11T03:15:00.512484Z"
    }
   },
   "outputs": [
    {
     "name": "stderr",
     "output_type": "stream",
     "text": [
      "/home/manel/anaconda3/lib/python3.6/site-packages/tensorflow/python/ops/gradients_impl.py:108: UserWarning: Converting sparse IndexedSlices to a dense Tensor of unknown shape. This may consume a large amount of memory.\n",
      "  \"Converting sparse IndexedSlices to a dense Tensor of unknown shape. \"\n"
     ]
    },
    {
     "name": "stdout",
     "output_type": "stream",
     "text": [
      "Train on 511608 samples, validate on 56846 samples\n",
      "Epoch 1/20\n",
      " - 37s - loss: 0.4024 - acc: 0.8144 - val_loss: 0.2610 - val_acc: 0.8915\n",
      "Epoch 2/20\n",
      " - 36s - loss: 0.2545 - acc: 0.8947 - val_loss: 0.2326 - val_acc: 0.9064\n",
      "Epoch 3/20\n",
      " - 36s - loss: 0.2288 - acc: 0.9071 - val_loss: 0.2222 - val_acc: 0.9107\n",
      "Epoch 4/20\n",
      " - 36s - loss: 0.2117 - acc: 0.9153 - val_loss: 0.2129 - val_acc: 0.9163\n",
      "Epoch 5/20\n",
      " - 36s - loss: 0.1972 - acc: 0.9212 - val_loss: 0.2096 - val_acc: 0.9172\n",
      "Epoch 6/20\n",
      " - 36s - loss: 0.1837 - acc: 0.9270 - val_loss: 0.2053 - val_acc: 0.9208\n",
      "Epoch 7/20\n",
      " - 36s - loss: 0.1725 - acc: 0.9322 - val_loss: 0.2052 - val_acc: 0.9206\n",
      "Epoch 8/20\n",
      " - 36s - loss: 0.1626 - acc: 0.9358 - val_loss: 0.2028 - val_acc: 0.9225\n",
      "Epoch 9/20\n",
      " - 36s - loss: 0.1560 - acc: 0.9388 - val_loss: 0.2079 - val_acc: 0.9246\n",
      "Epoch 10/20\n",
      " - 36s - loss: 0.1473 - acc: 0.9422 - val_loss: 0.2059 - val_acc: 0.9241\n",
      "Epoch 11/20\n",
      " - 36s - loss: 0.1418 - acc: 0.9446 - val_loss: 0.2091 - val_acc: 0.9254\n",
      "Epoch 12/20\n",
      " - 36s - loss: 0.1361 - acc: 0.9465 - val_loss: 0.2139 - val_acc: 0.9260\n",
      "Epoch 13/20\n",
      " - 36s - loss: 0.1315 - acc: 0.9487 - val_loss: 0.2100 - val_acc: 0.9254\n",
      "Epoch 14/20\n",
      " - 36s - loss: 0.1271 - acc: 0.9504 - val_loss: 0.2141 - val_acc: 0.9247\n",
      "Epoch 15/20\n",
      " - 36s - loss: 0.1232 - acc: 0.9524 - val_loss: 0.2151 - val_acc: 0.9270\n",
      "Epoch 16/20\n",
      " - 36s - loss: 0.1199 - acc: 0.9533 - val_loss: 0.2245 - val_acc: 0.9268\n",
      "Epoch 17/20\n",
      " - 36s - loss: 0.1166 - acc: 0.9550 - val_loss: 0.2175 - val_acc: 0.9271\n",
      "Epoch 18/20\n",
      " - 35s - loss: 0.1132 - acc: 0.9564 - val_loss: 0.2216 - val_acc: 0.9271\n",
      "Epoch 19/20\n",
      " - 36s - loss: 0.1110 - acc: 0.9572 - val_loss: 0.2240 - val_acc: 0.9267\n",
      "Epoch 20/20\n",
      " - 36s - loss: 0.1087 - acc: 0.9578 - val_loss: 0.2245 - val_acc: 0.9267\n"
     ]
    },
    {
     "data": {
      "text/plain": [
       "<tensorflow.python.keras.callbacks.History at 0x7fbc26cd6320>"
      ]
     },
     "execution_count": 46,
     "metadata": {},
     "output_type": "execute_result"
    }
   ],
   "source": [
    "model.fit(X,Y,validation_data=(X_test,Y_test),epochs=nepochs,batch_size=5000,verbose=2)  "
   ]
  },
  {
   "cell_type": "code",
   "execution_count": 47,
   "metadata": {
    "ExecuteTime": {
     "end_time": "2019-04-11T03:27:03.149315Z",
     "start_time": "2019-04-11T03:27:00.157464Z"
    }
   },
   "outputs": [
    {
     "data": {
      "text/plain": [
       "0.9266790979136614"
      ]
     },
     "execution_count": 47,
     "metadata": {},
     "output_type": "execute_result"
    }
   ],
   "source": [
    "Y_pred=np.argmax(model.predict(X_test),axis=-1)\n",
    "np.mean(Y_pred==Y_test)"
   ]
  },
  {
   "cell_type": "markdown",
   "metadata": {},
   "source": [
    "So we achieve close to 92.7% accuracy on the test set"
   ]
  }
 ],
 "metadata": {
  "kernelspec": {
   "display_name": "Python 3",
   "language": "python",
   "name": "python3"
  },
  "language_info": {
   "codemirror_mode": {
    "name": "ipython",
    "version": 3
   },
   "file_extension": ".py",
   "mimetype": "text/x-python",
   "name": "python",
   "nbconvert_exporter": "python",
   "pygments_lexer": "ipython3",
   "version": "3.6.8"
  },
  "toc": {
   "base_numbering": 1,
   "nav_menu": {},
   "number_sections": true,
   "sideBar": true,
   "skip_h1_title": true,
   "title_cell": "Table of Contents",
   "title_sidebar": "Contents",
   "toc_cell": false,
   "toc_position": {},
   "toc_section_display": "block",
   "toc_window_display": true
  }
 },
 "nbformat": 4,
 "nbformat_minor": 2
}
