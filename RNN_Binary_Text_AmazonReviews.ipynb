{
 "cells": [
  {
   "cell_type": "markdown",
   "metadata": {},
   "source": [
    "# Dense Neural Network for Text Classification"
   ]
  },
  {
   "cell_type": "markdown",
   "metadata": {},
   "source": [
    "## Preliminaries"
   ]
  },
  {
   "cell_type": "markdown",
   "metadata": {},
   "source": [
    "### Imports"
   ]
  },
  {
   "cell_type": "code",
   "execution_count": 1,
   "metadata": {
    "ExecuteTime": {
     "end_time": "2019-04-10T12:19:10.653979Z",
     "start_time": "2019-04-10T12:19:02.831098Z"
    }
   },
   "outputs": [],
   "source": [
    "import os\n",
    "import pickle \n",
    "\n",
    "import numpy as np\n",
    "import pandas as pd\n",
    "import matplotlib.pyplot as plt\n",
    "\n",
    "from sklearn.feature_extraction.text import TfidfVectorizer\n",
    "from sklearn.model_selection import train_test_split\n",
    "from sklearn import metrics\n",
    "\n",
    "import tensorflow as tf\n",
    "import tensorflow.keras as keras\n",
    "\n",
    "\n",
    "%matplotlib inline\n",
    "\n",
    "import sys\n",
    "sys.path.append(\"../..\")\n",
    "\n",
    "from E4525_ML import text\n",
    "from E4525_ML import plots\n",
    "from E4525_ML.notebook_utils import get_logger,LoggingCallback\n"
   ]
  },
  {
   "cell_type": "code",
   "execution_count": 2,
   "metadata": {
    "ExecuteTime": {
     "end_time": "2019-04-10T12:19:10.670554Z",
     "start_time": "2019-04-10T12:19:10.653979Z"
    }
   },
   "outputs": [
    {
     "data": {
      "text/plain": [
       "'1.13.1'"
      ]
     },
     "execution_count": 2,
     "metadata": {},
     "output_type": "execute_result"
    }
   ],
   "source": [
    "tf.__version__"
   ]
  },
  {
   "cell_type": "code",
   "execution_count": 3,
   "metadata": {
    "ExecuteTime": {
     "end_time": "2019-04-10T12:19:10.690554Z",
     "start_time": "2019-04-10T12:19:10.670554Z"
    }
   },
   "outputs": [],
   "source": [
    "logger=get_logger()"
   ]
  },
  {
   "cell_type": "code",
   "execution_count": 4,
   "metadata": {
    "ExecuteTime": {
     "end_time": "2019-04-10T12:19:10.710567Z",
     "start_time": "2019-04-10T12:19:10.690554Z"
    }
   },
   "outputs": [],
   "source": [
    "seed=456\n",
    "np.random.seed(seed)"
   ]
  },
  {
   "cell_type": "markdown",
   "metadata": {},
   "source": [
    "### Data Processing"
   ]
  },
  {
   "cell_type": "code",
   "execution_count": 5,
   "metadata": {
    "ExecuteTime": {
     "end_time": "2019-04-10T12:19:10.722555Z",
     "start_time": "2019-04-10T12:19:10.710567Z"
    }
   },
   "outputs": [],
   "source": [
    "reviews_filename=\"../../raw/amazon-reviews/Reviews.csv\""
   ]
  },
  {
   "cell_type": "code",
   "execution_count": 6,
   "metadata": {
    "ExecuteTime": {
     "end_time": "2019-04-10T12:19:16.196976Z",
     "start_time": "2019-04-10T12:19:12.283532Z"
    }
   },
   "outputs": [],
   "source": [
    "data=pd.read_csv(reviews_filename)"
   ]
  },
  {
   "cell_type": "code",
   "execution_count": 7,
   "metadata": {
    "ExecuteTime": {
     "end_time": "2019-04-10T12:19:16.203638Z",
     "start_time": "2019-04-10T12:19:16.196976Z"
    }
   },
   "outputs": [],
   "source": [
    "data_dir=r\"../../data/amazon-reviews\""
   ]
  },
  {
   "cell_type": "markdown",
   "metadata": {},
   "source": [
    "### Split into Train, Validation and Test Sets"
   ]
  },
  {
   "cell_type": "code",
   "execution_count": 8,
   "metadata": {
    "ExecuteTime": {
     "end_time": "2019-04-10T12:19:16.215639Z",
     "start_time": "2019-04-10T12:19:16.203638Z"
    }
   },
   "outputs": [
    {
     "name": "stdout",
     "output_type": "stream",
     "text": [
      "(568454,)\n"
     ]
    },
    {
     "name": "stderr",
     "output_type": "stream",
     "text": [
      "C:\\ProgramData\\Anaconda3\\lib\\site-packages\\ipykernel_launcher.py:1: FutureWarning: Method .as_matrix will be removed in a future version. Use .values instead.\n",
      "  \"\"\"Entry point for launching an IPython kernel.\n",
      "C:\\ProgramData\\Anaconda3\\lib\\site-packages\\ipykernel_launcher.py:2: FutureWarning: Method .as_matrix will be removed in a future version. Use .values instead.\n",
      "  \n"
     ]
    }
   ],
   "source": [
    "documents_all=data[\"Text\"].as_matrix()\n",
    "labels_all=data[\"Score\"].as_matrix()\n",
    "print(documents_all.shape)"
   ]
  },
  {
   "cell_type": "code",
   "execution_count": 9,
   "metadata": {
    "ExecuteTime": {
     "end_time": "2019-04-10T12:19:16.346391Z",
     "start_time": "2019-04-10T12:19:16.215639Z"
    }
   },
   "outputs": [
    {
     "name": "stdout",
     "output_type": "stream",
     "text": [
      "(511608,) (56846,)\n"
     ]
    }
   ],
   "source": [
    "docs,docs_test,labels,labels_test=train_test_split(documents_all,labels_all,test_size=0.1)\n",
    "print(docs.shape,docs_test.shape)"
   ]
  },
  {
   "cell_type": "code",
   "execution_count": 10,
   "metadata": {
    "ExecuteTime": {
     "end_time": "2019-04-10T12:19:16.452416Z",
     "start_time": "2019-04-10T12:19:16.346391Z"
    }
   },
   "outputs": [
    {
     "name": "stdout",
     "output_type": "stream",
     "text": [
      "(486027,) (25581,)\n"
     ]
    }
   ],
   "source": [
    "docs_train,docs_val,labels_train,labels_val=train_test_split(docs,labels,test_size=0.05)\n",
    "print(docs_train.shape,docs_val.shape)"
   ]
  },
  {
   "cell_type": "markdown",
   "metadata": {
    "ExecuteTime": {
     "end_time": "2017-12-23T10:54:41.615545Z",
     "start_time": "2017-12-23T10:54:41.599916Z"
    }
   },
   "source": [
    "### Text Embedding Pipeline"
   ]
  },
  {
   "cell_type": "code",
   "execution_count": 11,
   "metadata": {
    "ExecuteTime": {
     "end_time": "2019-04-10T12:19:18.542654Z",
     "start_time": "2019-04-10T12:19:18.355219Z"
    }
   },
   "outputs": [
    {
     "name": "stdout",
     "output_type": "stream",
     "text": [
      "[nltk_data] Downloading package stopwords to\n",
      "[nltk_data]     C:\\Users\\Manel\\AppData\\Roaming\\nltk_data...\n",
      "[nltk_data]   Package stopwords is already up-to-date!\n",
      "[nltk_data] Downloading package punkt to\n",
      "[nltk_data]     C:\\Users\\Manel\\AppData\\Roaming\\nltk_data...\n",
      "[nltk_data]   Package punkt is already up-to-date!\n"
     ]
    },
    {
     "data": {
      "text/plain": [
       "True"
      ]
     },
     "execution_count": 11,
     "metadata": {},
     "output_type": "execute_result"
    }
   ],
   "source": [
    "import nltk\n",
    "nltk.download(\"stopwords\")\n",
    "nltk.download(\"punkt\")"
   ]
  },
  {
   "cell_type": "code",
   "execution_count": 49,
   "metadata": {
    "ExecuteTime": {
     "end_time": "2019-04-10T23:36:49.167862Z",
     "start_time": "2019-04-10T23:36:49.136629Z"
    }
   },
   "outputs": [],
   "source": [
    "countVectorizer=TfidfVectorizer(input=\"content\",decode_error=\"ignore\",\n",
    "                                       max_features=50000,\n",
    "                                       #tokenizer=text.stem_tokenizer,\n",
    "                                       #stop_words=text.stop_words()\n",
    "                               )\n",
    "dencoder=text.DocumentEncoder(countVectorizer)\n"
   ]
  },
  {
   "cell_type": "code",
   "execution_count": 50,
   "metadata": {
    "ExecuteTime": {
     "end_time": "2019-04-10T23:38:10.878358Z",
     "start_time": "2019-04-10T23:37:16.410456Z"
    }
   },
   "outputs": [
    {
     "name": "stdout",
     "output_type": "stream",
     "text": [
      "(486027,) (25581,) (56846,)\n"
     ]
    }
   ],
   "source": [
    "pickle_filename=data_dir+\"/amazon_reviews.p\"\n",
    "if True: \n",
    "    texts_train=dencoder.fit_transform(docs_train)\n",
    "    texts_val=dencoder.transform(docs_val)\n",
    "    texts_test=dencoder.transform(docs_test)\n",
    "    \n",
    "    file=open(pickle_filename,\"wb\")\n",
    "    pickle.dump((countVectorizer,texts_train,labels_train,texts_val,labels_val,texts_test,labels_test),file)\n",
    "    file.close()\n",
    "else:\n",
    "    file=open(pickle_filename,\"rb\")\n",
    "    countVectorizer,texts_train,labels_train,texts_val,labels_val,texts_test,labels_test=pickle.load(file)\n",
    "    file.close()\n",
    "print(texts_train.shape,texts_val.shape,texts_test.shape)"
   ]
  },
  {
   "cell_type": "code",
   "execution_count": 51,
   "metadata": {
    "ExecuteTime": {
     "end_time": "2019-04-10T23:38:10.933875Z",
     "start_time": "2019-04-10T23:38:10.878358Z"
    }
   },
   "outputs": [],
   "source": [
    "ltexts=[len(text) for text in texts_train]"
   ]
  },
  {
   "cell_type": "code",
   "execution_count": 52,
   "metadata": {
    "ExecuteTime": {
     "end_time": "2019-04-10T23:38:11.136549Z",
     "start_time": "2019-04-10T23:38:10.933875Z"
    }
   },
   "outputs": [
    {
     "data": {
      "text/plain": [
       "(array([ 66793., 159835.,  94500.,  56948.,  34429.,  22415.,  14285.,\n",
       "          9634.,   6959.,   4860.]),\n",
       " array([  0.,  25.,  50.,  75., 100., 125., 150., 175., 200., 225., 250.]),\n",
       " <a list of 10 Patch objects>)"
      ]
     },
     "execution_count": 52,
     "metadata": {},
     "output_type": "execute_result"
    },
    {
     "data": {
      "image/png": "[encoded data removed]",
      "text/plain": [
       "<Figure size 432x288 with 1 Axes>"
      ]
     },
     "metadata": {},
     "output_type": "display_data"
    }
   ],
   "source": [
    "plt.hist(ltexts,range=[0,250])"
   ]
  },
  {
   "cell_type": "code",
   "execution_count": 53,
   "metadata": {
    "ExecuteTime": {
     "end_time": "2019-04-10T23:38:11.144548Z",
     "start_time": "2019-04-10T23:38:11.136549Z"
    }
   },
   "outputs": [],
   "source": [
    "def pad_texts(texts,W):\n",
    "    fragments=[]\n",
    "    fragment_labels=[]\n",
    "    for idx,text in enumerate(texts):\n",
    "            fragment=text[0:W]\n",
    "            fragment=np.pad(fragment,(W-len(fragment),0),mode=\"constant\",constant_values=-2)\n",
    "            fragments.append(fragment)\n",
    "    return np.array(fragments)"
   ]
  },
  {
   "cell_type": "code",
   "execution_count": 54,
   "metadata": {
    "ExecuteTime": {
     "end_time": "2019-04-10T23:38:11.152548Z",
     "start_time": "2019-04-10T23:38:11.144548Z"
    }
   },
   "outputs": [],
   "source": [
    "W=125"
   ]
  },
  {
   "cell_type": "code",
   "execution_count": 55,
   "metadata": {
    "ExecuteTime": {
     "end_time": "2019-04-10T23:38:21.144238Z",
     "start_time": "2019-04-10T23:38:11.152548Z"
    },
    "scrolled": false
   },
   "outputs": [
    {
     "name": "stdout",
     "output_type": "stream",
     "text": [
      "(486027, 125) (486027,)\n"
     ]
    }
   ],
   "source": [
    "X_train=pad_texts(texts_train,W)\n",
    "Y_train=labels_train>3\n",
    "print(X_train.shape,Y_train.shape)"
   ]
  },
  {
   "cell_type": "code",
   "execution_count": 56,
   "metadata": {
    "ExecuteTime": {
     "end_time": "2019-04-10T23:38:21.706190Z",
     "start_time": "2019-04-10T23:38:21.144238Z"
    }
   },
   "outputs": [
    {
     "name": "stdout",
     "output_type": "stream",
     "text": [
      "(25581, 125) (25581,)\n"
     ]
    }
   ],
   "source": [
    "X_val=pad_texts(texts_val,W)\n",
    "Y_val=labels_val>3\n",
    "print(X_val.shape,Y_val.shape)"
   ]
  },
  {
   "cell_type": "code",
   "execution_count": 57,
   "metadata": {
    "ExecuteTime": {
     "end_time": "2019-04-10T23:38:22.747802Z",
     "start_time": "2019-04-10T23:38:21.707413Z"
    }
   },
   "outputs": [
    {
     "name": "stdout",
     "output_type": "stream",
     "text": [
      "(56846, 125) (56846,)\n"
     ]
    }
   ],
   "source": [
    "\n",
    "X_test=pad_texts(texts_test,W)\n",
    "Y_test=labels_test>3\n",
    "print(X_test.shape,Y_test.shape)"
   ]
  },
  {
   "cell_type": "code",
   "execution_count": 58,
   "metadata": {
    "ExecuteTime": {
     "end_time": "2019-04-10T23:38:22.755653Z",
     "start_time": "2019-04-10T23:38:22.747802Z"
    }
   },
   "outputs": [
    {
     "data": {
      "text/plain": [
       "array([-2.0000e+00, -2.0000e+00, -2.0000e+00, -2.0000e+00, -2.0000e+00,\n",
       "       -2.0000e+00, -2.0000e+00, -2.0000e+00, -2.0000e+00, -2.0000e+00,\n",
       "       -2.0000e+00, -2.0000e+00, -2.0000e+00, -2.0000e+00, -2.0000e+00,\n",
       "       -2.0000e+00, -2.0000e+00, -2.0000e+00, -2.0000e+00,  4.4839e+04,\n",
       "        1.0765e+04,  4.8210e+04,  3.5747e+04,  2.3155e+04,  4.4669e+04,\n",
       "        3.2617e+04,  6.2360e+03,  1.8644e+04,  2.9720e+04,  2.2655e+04,\n",
       "        1.5654e+04,  4.5233e+04,  1.0317e+04,  6.5730e+03,  2.9720e+04,\n",
       "        1.1753e+04,  3.0350e+04,  2.6865e+04,  3.0000e+04,  2.4270e+04,\n",
       "        2.0997e+04,  8.7540e+03,  2.7641e+04,  4.3350e+03,  4.0171e+04,\n",
       "        2.3155e+04,  4.4669e+04,  3.2617e+04,  2.2284e+04,  4.4656e+04,\n",
       "        4.9292e+04,  6.0480e+03,  1.8440e+03,  4.5233e+04,  4.2263e+04,\n",
       "        4.4695e+04,  4.7108e+04,  2.5500e+03,  2.3155e+04,  4.4669e+04,\n",
       "        1.9348e+04,  8.3380e+03,  4.6697e+04,  4.4656e+04,  4.8229e+04,\n",
       "        4.4669e+04,  9.1410e+03,  1.6973e+04,  8.7540e+03,  4.4669e+04,\n",
       "        1.6593e+04,  4.3232e+04,  2.0270e+03,  3.0161e+04,  2.1720e+03,\n",
       "        4.5389e+04,  3.4524e+04,  3.1086e+04,  4.4669e+04,  1.0765e+04,\n",
       "        1.8644e+04,  2.4270e+04,  4.8210e+04,  6.2900e+03,  2.1675e+04,\n",
       "        4.1740e+03,  4.4669e+04,  3.4537e+04,  3.1113e+04,  1.8644e+04,\n",
       "        4.0457e+04,  3.0529e+04,  4.3469e+04,  4.8814e+04,  4.8639e+04,\n",
       "        4.8521e+04,  4.5233e+04,  4.4669e+04,  3.4537e+04,  3.1113e+04,\n",
       "        4.4756e+04,  4.0307e+04,  2.8115e+04,  4.4669e+04,  7.5280e+03,\n",
       "        3.3450e+03,  4.0400e+03,  4.4695e+04,  4.5233e+04,  3.7723e+04,\n",
       "        2.4270e+04,  3.4026e+04,  1.1634e+04,  2.8115e+04,  1.8640e+03,\n",
       "        4.4669e+04,  3.6932e+04,  4.5233e+04,  2.9720e+04,  2.0270e+03,\n",
       "        4.1740e+03,  4.9704e+04,  1.5802e+04,  1.1778e+04,  4.6283e+04])"
      ]
     },
     "execution_count": 58,
     "metadata": {},
     "output_type": "execute_result"
    }
   ],
   "source": [
    "X_train[0]"
   ]
  },
  {
   "cell_type": "code",
   "execution_count": 59,
   "metadata": {
    "ExecuteTime": {
     "end_time": "2019-04-10T23:38:22.854138Z",
     "start_time": "2019-04-10T23:38:22.755653Z"
    }
   },
   "outputs": [
    {
     "data": {
      "text/plain": [
       "(49999.0, -2.0)"
      ]
     },
     "execution_count": 59,
     "metadata": {},
     "output_type": "execute_result"
    }
   ],
   "source": [
    "X_train.max(),X_train.min()"
   ]
  },
  {
   "cell_type": "code",
   "execution_count": 60,
   "metadata": {
    "ExecuteTime": {
     "end_time": "2019-04-10T23:38:22.862137Z",
     "start_time": "2019-04-10T23:38:22.854138Z"
    }
   },
   "outputs": [
    {
     "name": "stdout",
     "output_type": "stream",
     "text": [
      "2 50002\n"
     ]
    }
   ],
   "source": [
    "num_classes = 2\n",
    "V=len(countVectorizer.vocabulary_)+2 # one for unknown words, one for padding\n",
    "print(num_classes,V)"
   ]
  },
  {
   "cell_type": "markdown",
   "metadata": {
    "ExecuteTime": {
     "end_time": "2017-12-29T09:41:15.129928Z",
     "start_time": "2017-12-29T09:41:15.114296Z"
    }
   },
   "source": [
    "## Recurrent Neural Network Model"
   ]
  },
  {
   "cell_type": "code",
   "execution_count": 61,
   "metadata": {
    "ExecuteTime": {
     "end_time": "2019-04-10T23:38:22.870137Z",
     "start_time": "2019-04-10T23:38:22.862137Z"
    }
   },
   "outputs": [],
   "source": [
    " def build_model(W,V,E,hidden1,hidden2,dropout):\n",
    "    model=keras.Sequential(\n",
    "        [ keras.layers.Lambda(lambda x: x+2,input_shape=(W,)), # add two to handle padding and unknown words\n",
    "          keras.layers.Embedding(V,E,input_length=W),\n",
    "         keras.layers.CuDNNLSTM(hidden1,return_sequences=True),\n",
    "         keras.layers.CuDNNLSTM(hidden2),\n",
    "         keras.layers.Dropout(dropout),\n",
    "         #keras.layers.Flatten(),\n",
    "         keras.layers.Dense(2,activation=\"softmax\")\n",
    "        ])\n",
    "    model.compile(optimizer=tf.train.AdamOptimizer(learning_rate=0.001),loss=\"sparse_categorical_crossentropy\",metrics=[\"accuracy\"]) \n",
    "    return model"
   ]
  },
  {
   "cell_type": "code",
   "execution_count": 62,
   "metadata": {
    "ExecuteTime": {
     "end_time": "2019-04-10T23:38:22.886137Z",
     "start_time": "2019-04-10T23:38:22.870137Z"
    }
   },
   "outputs": [
    {
     "name": "stdout",
     "output_type": "stream",
     "text": [
      "486027 125 8 2\n"
     ]
    }
   ],
   "source": [
    "N=X_train.shape[0]\n",
    "D=X_train.shape[1]\n",
    "K=num_classes\n",
    "print(N,D,E,K)"
   ]
  },
  {
   "cell_type": "code",
   "execution_count": 86,
   "metadata": {
    "ExecuteTime": {
     "end_time": "2019-04-11T08:30:11.908366Z",
     "start_time": "2019-04-11T08:30:11.892746Z"
    }
   },
   "outputs": [],
   "source": [
    "droput=0.4\n",
    "E=10\n",
    "hidden1=16\n",
    "hidden2=16"
   ]
  },
  {
   "cell_type": "code",
   "execution_count": 87,
   "metadata": {
    "ExecuteTime": {
     "end_time": "2019-04-11T08:30:12.885465Z",
     "start_time": "2019-04-11T08:30:12.869988Z"
    }
   },
   "outputs": [
    {
     "data": {
      "text/plain": [
       "(125, 50002, 10, 16, 16, 0.4)"
      ]
     },
     "execution_count": 87,
     "metadata": {},
     "output_type": "execute_result"
    }
   ],
   "source": [
    "W,V,E,hidden1,hidden2,droput"
   ]
  },
  {
   "cell_type": "code",
   "execution_count": 88,
   "metadata": {
    "ExecuteTime": {
     "end_time": "2019-04-11T08:30:14.051917Z",
     "start_time": "2019-04-11T08:30:13.755258Z"
    }
   },
   "outputs": [
    {
     "name": "stdout",
     "output_type": "stream",
     "text": [
      "_________________________________________________________________\n",
      "Layer (type)                 Output Shape              Param #   \n",
      "=================================================================\n",
      "lambda_36 (Lambda)           (None, 125)               0         \n",
      "_________________________________________________________________\n",
      "embedding_36 (Embedding)     (None, 125, 10)           500020    \n",
      "_________________________________________________________________\n",
      "cu_dnnlstm_70 (CuDNNLSTM)    (None, 125, 16)           1792      \n",
      "_________________________________________________________________\n",
      "cu_dnnlstm_71 (CuDNNLSTM)    (None, 16)                2176      \n",
      "_________________________________________________________________\n",
      "dropout_35 (Dropout)         (None, 16)                0         \n",
      "_________________________________________________________________\n",
      "dense_35 (Dense)             (None, 2)                 34        \n",
      "=================================================================\n",
      "Total params: 504,022\n",
      "Trainable params: 504,022\n",
      "Non-trainable params: 0\n",
      "_________________________________________________________________\n"
     ]
    }
   ],
   "source": [
    "model0=build_model(W,V,E,hidden1,hidden2,droput)\n",
    "model0.summary()"
   ]
  },
  {
   "cell_type": "code",
   "execution_count": 89,
   "metadata": {
    "ExecuteTime": {
     "end_time": "2019-04-11T08:30:19.849751Z",
     "start_time": "2019-04-11T08:30:19.834269Z"
    }
   },
   "outputs": [],
   "source": [
    "nepochs=5"
   ]
  },
  {
   "cell_type": "code",
   "execution_count": 90,
   "metadata": {
    "ExecuteTime": {
     "end_time": "2019-04-11T08:36:24.235471Z",
     "start_time": "2019-04-11T08:30:20.563020Z"
    }
   },
   "outputs": [
    {
     "name": "stdout",
     "output_type": "stream",
     "text": [
      "2019-04-11 04:31:38,137|\t0: TRAIN loss 0.2774,  acc 0.8873  ||  VAL loss 0.2395, acc 0.8990\n",
      "2019-04-11 04:32:49,088|\t1: TRAIN loss 0.2080,  acc 0.9194  ||  VAL loss 0.2004, acc 0.9199\n",
      "2019-04-11 04:34:00,862|\t2: TRAIN loss 0.1709,  acc 0.9356  ||  VAL loss 0.1852, acc 0.9277\n",
      "2019-04-11 04:35:12,584|\t3: TRAIN loss 0.1464,  acc 0.9455  ||  VAL loss 0.1927, acc 0.9307\n",
      "2019-04-11 04:36:24,222|\t4: TRAIN loss 0.1297,  acc 0.9522  ||  VAL loss 0.1919, acc 0.9256\n"
     ]
    },
    {
     "data": {
      "text/plain": [
       "<tensorflow.python.keras.callbacks.History at 0x20adb3328d0>"
      ]
     },
     "execution_count": 90,
     "metadata": {},
     "output_type": "execute_result"
    }
   ],
   "source": [
    "model0.fit(X_train,Y_train,validation_data=(X_val,Y_val),\n",
    "            callbacks=[LoggingCallback(1,logger)],\n",
    "           verbose=0,epochs=nepochs,batch_size=128)"
   ]
  },
  {
   "cell_type": "code",
   "execution_count": 91,
   "metadata": {
    "ExecuteTime": {
     "end_time": "2019-04-11T08:36:31.658129Z",
     "start_time": "2019-04-11T08:36:24.235471Z"
    }
   },
   "outputs": [
    {
     "data": {
      "text/plain": [
       "0.9255697588053634"
      ]
     },
     "execution_count": 91,
     "metadata": {},
     "output_type": "execute_result"
    }
   ],
   "source": [
    "Y_pred=np.argmax(model0.predict(X_val),axis=1)\n",
    "np.mean(Y_pred==Y_val)"
   ]
  },
  {
   "cell_type": "code",
   "execution_count": null,
   "metadata": {},
   "outputs": [],
   "source": []
  },
  {
   "cell_type": "markdown",
   "metadata": {
    "ExecuteTime": {
     "end_time": "2017-12-17T22:57:20.878364Z",
     "start_time": "2017-12-17T22:57:20.862737Z"
    }
   },
   "source": [
    "## Hyperparameter Search\n",
    "\n",
    "Now we perform layer size optimization"
   ]
  },
  {
   "cell_type": "code",
   "execution_count": 92,
   "metadata": {
    "ExecuteTime": {
     "end_time": "2019-04-11T14:51:28.785320Z",
     "start_time": "2019-04-11T08:36:31.658129Z"
    }
   },
   "outputs": [
    {
     "name": "stdout",
     "output_type": "stream",
     "text": [
      "2019-04-11 04:37:49,322|\t0: TRAIN loss 0.2859,  acc 0.8854  ||  VAL loss 0.2333, acc 0.9051\n",
      "2019-04-11 04:39:01,377|\t1: TRAIN loss 0.2176,  acc 0.9157  ||  VAL loss 0.2165, acc 0.9110\n",
      "2019-04-11 04:40:13,811|\t2: TRAIN loss 0.1879,  acc 0.9277  ||  VAL loss 0.2200, acc 0.9102\n",
      "2019-04-11 04:41:26,221|\t3: TRAIN loss 0.1637,  acc 0.9381  ||  VAL loss 0.2001, acc 0.9211\n",
      "2019-04-11 04:42:38,762|\t4: TRAIN loss 0.1442,  acc 0.9466  ||  VAL loss 0.2223, acc 0.9235\n",
      "10 8 8 0.9554284021258078 0.923497908604042\n",
      "2019-04-11 04:46:07,933|\t0: TRAIN loss 0.2721,  acc 0.8894  ||  VAL loss 0.2342, acc 0.9045\n",
      "2019-04-11 04:47:20,044|\t1: TRAIN loss 0.2049,  acc 0.9201  ||  VAL loss 0.2093, acc 0.9174\n",
      "2019-04-11 04:48:32,497|\t2: TRAIN loss 0.1718,  acc 0.9346  ||  VAL loss 0.2059, acc 0.9213\n",
      "2019-04-11 04:49:45,015|\t3: TRAIN loss 0.1484,  acc 0.9442  ||  VAL loss 0.1907, acc 0.9277\n",
      "2019-04-11 04:50:57,519|\t4: TRAIN loss 0.1310,  acc 0.9515  ||  VAL loss 0.1926, acc 0.9306\n",
      "10 8 32 0.9626728556232472 0.9305734724991205\n",
      "2019-04-11 04:55:13,420|\t0: TRAIN loss 0.2725,  acc 0.8886  ||  VAL loss 0.2439, acc 0.8998\n",
      "2019-04-11 04:57:17,854|\t1: TRAIN loss 0.2146,  acc 0.9149  ||  VAL loss 0.2178, acc 0.9128\n",
      "2019-04-11 04:59:21,997|\t2: TRAIN loss 0.1844,  acc 0.9281  ||  VAL loss 0.2171, acc 0.9102\n",
      "2019-04-11 05:01:26,105|\t3: TRAIN loss 0.1624,  acc 0.9372  ||  VAL loss 0.2022, acc 0.9201\n",
      "2019-04-11 05:03:30,271|\t4: TRAIN loss 0.1433,  acc 0.9452  ||  VAL loss 0.2014, acc 0.9260\n",
      "10 8 256 0.9569694687743685 0.9259606739376881\n",
      "2019-04-11 05:07:08,886|\t0: TRAIN loss 0.2832,  acc 0.8863  ||  VAL loss 0.2256, acc 0.9069\n",
      "2019-04-11 05:08:21,482|\t1: TRAIN loss 0.2070,  acc 0.9205  ||  VAL loss 0.1935, acc 0.9238\n",
      "2019-04-11 05:09:34,174|\t2: TRAIN loss 0.1713,  acc 0.9358  ||  VAL loss 0.1900, acc 0.9234\n",
      "2019-04-11 05:10:46,857|\t3: TRAIN loss 0.1465,  acc 0.9461  ||  VAL loss 0.1823, acc 0.9289\n",
      "2019-04-11 05:11:59,506|\t4: TRAIN loss 0.1285,  acc 0.9530  ||  VAL loss 0.1927, acc 0.9318\n",
      "10 32 8 0.9656418264828909 0.9317853094093272\n",
      "2019-04-11 05:15:31,235|\t0: TRAIN loss 0.2726,  acc 0.8884  ||  VAL loss 0.2411, acc 0.9002\n",
      "2019-04-11 05:16:44,443|\t1: TRAIN loss 0.2000,  acc 0.9213  ||  VAL loss 0.1945, acc 0.9227\n",
      "2019-04-11 05:17:57,600|\t2: TRAIN loss 0.1647,  acc 0.9371  ||  VAL loss 0.1889, acc 0.9281\n",
      "2019-04-11 05:19:10,998|\t3: TRAIN loss 0.1421,  acc 0.9461  ||  VAL loss 0.1929, acc 0.9257\n",
      "2019-04-11 05:20:24,810|\t4: TRAIN loss 0.1236,  acc 0.9542  ||  VAL loss 0.1879, acc 0.9317\n",
      "10 32 32 0.9645307770967456 0.9316680348696298\n",
      "2019-04-11 05:24:50,486|\t0: TRAIN loss 0.2729,  acc 0.8879  ||  VAL loss 0.2334, acc 0.9054\n",
      "2019-04-11 05:26:55,117|\t1: TRAIN loss 0.2048,  acc 0.9190  ||  VAL loss 0.2069, acc 0.9191\n",
      "2019-04-11 05:28:59,318|\t2: TRAIN loss 0.1683,  acc 0.9352  ||  VAL loss 0.1866, acc 0.9256\n",
      "2019-04-11 05:31:04,020|\t3: TRAIN loss 0.1443,  acc 0.9456  ||  VAL loss 0.1855, acc 0.9295\n",
      "2019-04-11 05:33:08,154|\t4: TRAIN loss 0.1251,  acc 0.9536  ||  VAL loss 0.1872, acc 0.9319\n",
      "10 32 256 0.9652632466920562 0.9318634924357921\n",
      "2019-04-11 05:37:35,312|\t0: TRAIN loss 0.2825,  acc 0.8867  ||  VAL loss 0.2231, acc 0.9090\n",
      "2019-04-11 05:39:39,473|\t1: TRAIN loss 0.2016,  acc 0.9239  ||  VAL loss 0.1884, acc 0.9261\n",
      "2019-04-11 05:41:43,279|\t2: TRAIN loss 0.1674,  acc 0.9379  ||  VAL loss 0.1820, acc 0.9298\n",
      "2019-04-11 05:43:47,550|\t3: TRAIN loss 0.1428,  acc 0.9474  ||  VAL loss 0.1760, acc 0.9328\n",
      "2019-04-11 05:45:51,754|\t4: TRAIN loss 0.1253,  acc 0.9547  ||  VAL loss 0.1931, acc 0.9320\n",
      "10 256 8 0.9629341579788777 0.9320198584887222\n",
      "2019-04-11 05:50:27,072|\t0: TRAIN loss 0.2719,  acc 0.8890  ||  VAL loss 0.2115, acc 0.9149\n",
      "2019-04-11 05:52:34,113|\t1: TRAIN loss 0.1878,  acc 0.9276  ||  VAL loss 0.1841, acc 0.9276\n",
      "2019-04-11 06:00:48,211|\t2: TRAIN loss 0.1545,  acc 0.9418  ||  VAL loss 0.1846, acc 0.9283\n",
      "2019-04-11 06:03:42,564|\t3: TRAIN loss 0.1336,  acc 0.9509  ||  VAL loss 0.1750, acc 0.9348\n",
      "2019-04-11 06:08:26,864|\t4: TRAIN loss 0.1161,  acc 0.9581  ||  VAL loss 0.1819, acc 0.9340\n",
      "10 256 32 0.9686540048186624 0.933974434150346\n",
      "2019-04-11 06:18:54,683|\t0: TRAIN loss 0.2737,  acc 0.8875  ||  VAL loss 0.2503, acc 0.8976\n",
      "2019-04-11 06:22:14,039|\t1: TRAIN loss 0.1950,  acc 0.9241  ||  VAL loss 0.1899, acc 0.9246\n",
      "2019-04-11 06:25:33,942|\t2: TRAIN loss 0.1593,  acc 0.9394  ||  VAL loss 0.1893, acc 0.9268\n",
      "2019-04-11 06:28:53,236|\t3: TRAIN loss 0.1364,  acc 0.9490  ||  VAL loss 0.2043, acc 0.9322\n",
      "2019-04-11 06:32:12,800|\t4: TRAIN loss 0.1177,  acc 0.9569  ||  VAL loss 0.1809, acc 0.9333\n",
      "10 256 256 0.967337205546194 0.9333098784253938\n",
      "2019-04-11 06:36:31,289|\t0: TRAIN loss 0.2672,  acc 0.8941  ||  VAL loss 0.2079, acc 0.9147\n",
      "2019-04-11 06:37:52,118|\t1: TRAIN loss 0.1827,  acc 0.9326  ||  VAL loss 0.1862, acc 0.9291\n",
      "2019-04-11 06:39:12,898|\t2: TRAIN loss 0.1482,  acc 0.9462  ||  VAL loss 0.1853, acc 0.9328\n",
      "2019-04-11 06:40:33,741|\t3: TRAIN loss 0.1251,  acc 0.9558  ||  VAL loss 0.2039, acc 0.9298\n",
      "2019-04-11 06:41:54,526|\t4: TRAIN loss 0.1058,  acc 0.9634  ||  VAL loss 0.2107, acc 0.9269\n",
      "50 8 8 0.9712114759056596 0.9268988702552676\n",
      "2019-04-11 06:45:43,147|\t0: TRAIN loss 0.2527,  acc 0.8965  ||  VAL loss 0.2026, acc 0.9168\n",
      "2019-04-11 06:47:04,379|\t1: TRAIN loss 0.1719,  acc 0.9342  ||  VAL loss 0.1817, acc 0.9281\n",
      "2019-04-11 06:48:25,615|\t2: TRAIN loss 0.1375,  acc 0.9488  ||  VAL loss 0.1763, acc 0.9343\n",
      "2019-04-11 06:49:46,831|\t3: TRAIN loss 0.1139,  acc 0.9585  ||  VAL loss 0.1985, acc 0.9337\n",
      "2019-04-11 06:51:08,116|\t4: TRAIN loss 0.0961,  acc 0.9659  ||  VAL loss 0.1944, acc 0.9333\n",
      "50 8 32 0.974188676760756 0.9333098784253938\n",
      "2019-04-11 06:55:47,259|\t0: TRAIN loss 0.2466,  acc 0.9005  ||  VAL loss 0.1962, acc 0.9222\n",
      "2019-04-11 06:58:01,129|\t1: TRAIN loss 0.1681,  acc 0.9361  ||  VAL loss 0.1807, acc 0.9284\n",
      "2019-04-11 07:00:14,417|\t2: TRAIN loss 0.1339,  acc 0.9502  ||  VAL loss 0.1819, acc 0.9318\n",
      "2019-04-11 07:02:28,406|\t3: TRAIN loss 0.1101,  acc 0.9598  ||  VAL loss 0.1901, acc 0.9334\n",
      "2019-04-11 07:04:41,702|\t4: TRAIN loss 0.0918,  acc 0.9672  ||  VAL loss 0.2043, acc 0.9321\n",
      "50 8 256 0.9737771769881097 0.932098041515187\n",
      "2019-04-11 07:08:43,846|\t0: TRAIN loss 0.2608,  acc 0.8966  ||  VAL loss 0.2080, acc 0.9168\n",
      "2019-04-11 07:10:06,358|\t1: TRAIN loss 0.1780,  acc 0.9336  ||  VAL loss 0.1815, acc 0.9307\n",
      "2019-04-11 07:11:28,961|\t2: TRAIN loss 0.1435,  acc 0.9476  ||  VAL loss 0.1922, acc 0.9346\n",
      "2019-04-11 07:12:51,612|\t3: TRAIN loss 0.1184,  acc 0.9577  ||  VAL loss 0.1981, acc 0.9325\n",
      "2019-04-11 07:14:14,189|\t4: TRAIN loss 0.0982,  acc 0.9656  ||  VAL loss 0.2019, acc 0.9380\n",
      "50 32 8 0.9765980079296006 0.9379617685000586\n",
      "2019-04-11 07:18:10,341|\t0: TRAIN loss 0.2505,  acc 0.8984  ||  VAL loss 0.1984, acc 0.9214\n",
      "2019-04-11 07:19:33,031|\t1: TRAIN loss 0.1683,  acc 0.9356  ||  VAL loss 0.1778, acc 0.9308\n",
      "2019-04-11 07:20:55,740|\t2: TRAIN loss 0.1342,  acc 0.9502  ||  VAL loss 0.1696, acc 0.9344\n",
      "2019-04-11 07:22:18,426|\t3: TRAIN loss 0.1086,  acc 0.9602  ||  VAL loss 0.1803, acc 0.9375\n",
      "2019-04-11 07:23:41,066|\t4: TRAIN loss 0.0888,  acc 0.9679  ||  VAL loss 0.1935, acc 0.9375\n",
      "50 32 32 0.978935326638232 0.9375317618545014\n",
      "2019-04-11 07:28:21,308|\t0: TRAIN loss 0.2477,  acc 0.8997  ||  VAL loss 0.1946, acc 0.9213\n",
      "2019-04-11 07:30:36,565|\t1: TRAIN loss 0.1677,  acc 0.9355  ||  VAL loss 0.1857, acc 0.9266\n",
      "2019-04-11 07:32:52,002|\t2: TRAIN loss 0.1329,  acc 0.9499  ||  VAL loss 0.1754, acc 0.9342\n",
      "2019-04-11 07:35:07,193|\t3: TRAIN loss 0.1074,  acc 0.9607  ||  VAL loss 0.1928, acc 0.9342\n",
      "2019-04-11 07:37:22,324|\t4: TRAIN loss 0.0874,  acc 0.9685  ||  VAL loss 0.2126, acc 0.9392\n",
      "50 32 256 0.9784476994076461 0.939212696923498\n",
      "2019-04-11 07:42:28,743|\t0: TRAIN loss 0.3043,  acc 0.8732  ||  VAL loss 0.2142, acc 0.9119\n",
      "2019-04-11 07:44:46,332|\t1: TRAIN loss 0.1998,  acc 0.9238  ||  VAL loss 0.1872, acc 0.9261\n",
      "2019-04-11 07:47:04,063|\t2: TRAIN loss 0.1621,  acc 0.9396  ||  VAL loss 0.1796, acc 0.9287\n",
      "2019-04-11 07:49:21,712|\t3: TRAIN loss 0.1347,  acc 0.9506  ||  VAL loss 0.1819, acc 0.9321\n",
      "2019-04-11 07:51:39,633|\t4: TRAIN loss 0.1125,  acc 0.9595  ||  VAL loss 0.2095, acc 0.9355\n",
      "50 256 8 0.9698247216718413 0.935538094679645\n",
      "2019-04-11 07:56:44,610|\t0: TRAIN loss 0.2510,  acc 0.8984  ||  VAL loss 0.2007, acc 0.9187\n"
     ]
    },
    {
     "name": "stdout",
     "output_type": "stream",
     "text": [
      "2019-04-11 07:59:03,405|\t1: TRAIN loss 0.1693,  acc 0.9359  ||  VAL loss 0.1747, acc 0.9318\n",
      "2019-04-11 08:01:22,108|\t2: TRAIN loss 0.1352,  acc 0.9500  ||  VAL loss 0.1732, acc 0.9353\n",
      "2019-04-11 08:03:40,854|\t3: TRAIN loss 0.1087,  acc 0.9605  ||  VAL loss 0.1833, acc 0.9339\n",
      "2019-04-11 08:05:59,226|\t4: TRAIN loss 0.0876,  acc 0.9685  ||  VAL loss 0.1972, acc 0.9366\n",
      "50 256 32 0.9790196840916245 0.9366326570501544\n",
      "2019-04-11 08:12:18,895|\t0: TRAIN loss 0.2545,  acc 0.8965  ||  VAL loss 0.1989, acc 0.9201\n",
      "2019-04-11 08:15:50,804|\t1: TRAIN loss 0.1692,  acc 0.9352  ||  VAL loss 0.1768, acc 0.9315\n",
      "2019-04-11 08:19:22,393|\t2: TRAIN loss 0.1341,  acc 0.9498  ||  VAL loss 0.1756, acc 0.9382\n",
      "2019-04-11 08:22:54,034|\t3: TRAIN loss 0.1084,  acc 0.9604  ||  VAL loss 0.1731, acc 0.9383\n",
      "2019-04-11 08:26:25,183|\t4: TRAIN loss 0.0868,  acc 0.9689  ||  VAL loss 0.1931, acc 0.9376\n",
      "50 256 256 0.979564921290381 0.9376490363941988\n",
      "2019-04-11 08:31:24,230|\t0: TRAIN loss 0.2490,  acc 0.9032  ||  VAL loss 0.1877, acc 0.9278\n",
      "2019-04-11 08:33:15,659|\t1: TRAIN loss 0.1659,  acc 0.9398  ||  VAL loss 0.1754, acc 0.9345\n",
      "2019-04-11 08:35:07,031|\t2: TRAIN loss 0.1296,  acc 0.9549  ||  VAL loss 0.1815, acc 0.9357\n",
      "2019-04-11 08:36:59,051|\t3: TRAIN loss 0.1040,  acc 0.9648  ||  VAL loss 0.1966, acc 0.9359\n",
      "2019-04-11 08:38:51,133|\t4: TRAIN loss 0.0856,  acc 0.9719  ||  VAL loss 0.2238, acc 0.9374\n",
      "200 8 8 0.981472222736597 0.9374144873148039\n",
      "2019-04-11 08:43:12,939|\t0: TRAIN loss 0.2352,  acc 0.9059  ||  VAL loss 0.1954, acc 0.9221\n",
      "2019-04-11 08:45:04,524|\t1: TRAIN loss 0.1536,  acc 0.9427  ||  VAL loss 0.1707, acc 0.9344\n",
      "2019-04-11 08:46:56,017|\t2: TRAIN loss 0.1171,  acc 0.9577  ||  VAL loss 0.1703, acc 0.9377\n",
      "2019-04-11 08:48:47,498|\t3: TRAIN loss 0.0905,  acc 0.9679  ||  VAL loss 0.1901, acc 0.9361\n",
      "2019-04-11 08:50:38,946|\t4: TRAIN loss 0.0720,  acc 0.9750  ||  VAL loss 0.2162, acc 0.9371\n",
      "200 8 32 0.9851901231824569 0.9371017552089441\n",
      "2019-04-11 08:55:56,661|\t0: TRAIN loss 0.2345,  acc 0.9047  ||  VAL loss 0.1847, acc 0.9274\n",
      "2019-04-11 08:58:40,773|\t1: TRAIN loss 0.1533,  acc 0.9419  ||  VAL loss 0.1747, acc 0.9333\n",
      "2019-04-11 09:01:24,760|\t2: TRAIN loss 0.1163,  acc 0.9575  ||  VAL loss 0.1770, acc 0.9373\n",
      "2019-04-11 09:04:08,734|\t3: TRAIN loss 0.0901,  acc 0.9679  ||  VAL loss 0.1840, acc 0.9360\n",
      "2019-04-11 09:06:52,668|\t4: TRAIN loss 0.0724,  acc 0.9748  ||  VAL loss 0.2059, acc 0.9361\n",
      "200 8 256 0.9852168706676789 0.9360853758648997\n",
      "2019-04-11 09:11:28,235|\t0: TRAIN loss 0.2470,  acc 0.9043  ||  VAL loss 0.1801, acc 0.9281\n",
      "2019-04-11 09:13:21,660|\t1: TRAIN loss 0.1609,  acc 0.9407  ||  VAL loss 0.1729, acc 0.9356\n",
      "2019-04-11 09:15:15,591|\t2: TRAIN loss 0.1225,  acc 0.9561  ||  VAL loss 0.1741, acc 0.9385\n",
      "2019-04-11 09:17:09,368|\t3: TRAIN loss 0.0926,  acc 0.9674  ||  VAL loss 0.1916, acc 0.9382\n",
      "2019-04-11 09:19:03,195|\t4: TRAIN loss 0.0700,  acc 0.9759  ||  VAL loss 0.2086, acc 0.9383\n",
      "200 32 8 0.986052215206151 0.9383135921191509\n",
      "2019-04-11 09:23:25,324|\t0: TRAIN loss 0.2304,  acc 0.9077  ||  VAL loss 0.1782, acc 0.9296\n",
      "2019-04-11 09:25:19,011|\t1: TRAIN loss 0.1485,  acc 0.9439  ||  VAL loss 0.1667, acc 0.9369\n",
      "2019-04-11 09:27:12,732|\t2: TRAIN loss 0.1087,  acc 0.9604  ||  VAL loss 0.1761, acc 0.9409\n",
      "2019-04-11 09:29:06,411|\t3: TRAIN loss 0.0803,  acc 0.9715  ||  VAL loss 0.1816, acc 0.9399\n",
      "2019-04-11 09:30:59,970|\t4: TRAIN loss 0.0594,  acc 0.9794  ||  VAL loss 0.2185, acc 0.9360\n",
      "200 32 32 0.9861694926413553 0.9360071928384348\n",
      "2019-04-11 09:36:12,895|\t0: TRAIN loss 0.2301,  acc 0.9073  ||  VAL loss 0.1859, acc 0.9288\n",
      "2019-04-11 09:38:58,476|\t1: TRAIN loss 0.1497,  acc 0.9434  ||  VAL loss 0.1642, acc 0.9371\n",
      "2019-04-11 09:41:44,164|\t2: TRAIN loss 0.1109,  acc 0.9595  ||  VAL loss 0.1785, acc 0.9373\n",
      "2019-04-11 09:44:29,737|\t3: TRAIN loss 0.0815,  acc 0.9709  ||  VAL loss 0.1973, acc 0.9386\n",
      "2019-04-11 09:47:15,460|\t4: TRAIN loss 0.0603,  acc 0.9790  ||  VAL loss 0.2043, acc 0.9386\n",
      "200 32 256 0.9868402372707689 0.9386263242250108\n",
      "2019-04-11 09:53:04,150|\t0: TRAIN loss 0.2470,  acc 0.9035  ||  VAL loss 0.1828, acc 0.9272\n",
      "2019-04-11 09:56:08,976|\t1: TRAIN loss 0.1621,  acc 0.9400  ||  VAL loss 0.1658, acc 0.9371\n",
      "2019-04-11 09:59:13,729|\t2: TRAIN loss 0.1216,  acc 0.9562  ||  VAL loss 0.1705, acc 0.9404\n",
      "2019-04-11 10:02:18,239|\t3: TRAIN loss 0.0914,  acc 0.9681  ||  VAL loss 0.1845, acc 0.9400\n",
      "2019-04-11 10:05:23,034|\t4: TRAIN loss 0.0668,  acc 0.9767  ||  VAL loss 0.2142, acc 0.9402\n",
      "200 256 8 0.9865995099037708 0.9401508932410774\n",
      "2019-04-11 10:11:23,542|\t0: TRAIN loss 0.2357,  acc 0.9058  ||  VAL loss 0.1917, acc 0.9265\n",
      "2019-04-11 10:14:29,464|\t1: TRAIN loss 0.1534,  acc 0.9421  ||  VAL loss 0.1665, acc 0.9374\n",
      "2019-04-11 10:17:35,108|\t2: TRAIN loss 0.1142,  acc 0.9582  ||  VAL loss 0.1722, acc 0.9378\n",
      "2019-04-11 10:20:40,722|\t3: TRAIN loss 0.0835,  acc 0.9703  ||  VAL loss 0.1808, acc 0.9379\n",
      "2019-04-11 10:23:46,343|\t4: TRAIN loss 0.0604,  acc 0.9787  ||  VAL loss 0.2043, acc 0.9376\n",
      "200 256 32 0.9880047816273582 0.9376099448809664\n",
      "2019-04-11 10:31:00,089|\t0: TRAIN loss 0.2325,  acc 0.9070  ||  VAL loss 0.1855, acc 0.9245\n",
      "2019-04-11 10:35:19,929|\t1: TRAIN loss 0.1507,  acc 0.9429  ||  VAL loss 0.1667, acc 0.9364\n",
      "2019-04-11 10:39:40,023|\t2: TRAIN loss 0.1109,  acc 0.9594  ||  VAL loss 0.1690, acc 0.9401\n",
      "2019-04-11 10:43:59,977|\t3: TRAIN loss 0.0796,  acc 0.9714  ||  VAL loss 0.1910, acc 0.9401\n",
      "2019-04-11 10:48:19,615|\t4: TRAIN loss 0.0561,  acc 0.9801  ||  VAL loss 0.2236, acc 0.9391\n",
      "200 256 256 0.9873052320138593 0.939134513897033\n"
     ]
    }
   ],
   "source": [
    "results=[]\n",
    "for E in [10,50,200]:\n",
    "    for hidden1 in [8,32,256]:\n",
    "        for hidden2 in [8,32,256]:\n",
    "        # Build the Recurrent Network\n",
    "            model=build_model(W,V,E,hidden1,hidden2,droput)\n",
    "            model.fit(X_train,Y_train,validation_data=(X_val,Y_val),\n",
    "                  callbacks=[LoggingCallback(1,logger)],verbose=0,\n",
    "                  epochs=nepochs,batch_size=128)\n",
    "            Y_pred=np.argmax(model.predict(X_train),axis=1)\n",
    "            acc_train=np.mean(Y_pred==Y_train)\n",
    "            Y_pred=np.argmax(model.predict(X_val),axis=1)\n",
    "            acc_val=np.mean(Y_pred==Y_val)\n",
    "            print(E,hidden1,hidden2,acc_train,acc_val)\n",
    "            results.append((E,hidden1,hidden2,acc_train,acc_val))\n",
    "        "
   ]
  },
  {
   "cell_type": "code",
   "execution_count": null,
   "metadata": {},
   "outputs": [],
   "source": []
  },
  {
   "cell_type": "code",
   "execution_count": 93,
   "metadata": {
    "ExecuteTime": {
     "end_time": "2019-04-11T14:51:28.791303Z",
     "start_time": "2019-04-11T14:51:28.787338Z"
    }
   },
   "outputs": [],
   "source": [
    "import pandas as pd"
   ]
  },
  {
   "cell_type": "code",
   "execution_count": 99,
   "metadata": {
    "ExecuteTime": {
     "end_time": "2019-04-11T21:53:11.212614Z",
     "start_time": "2019-04-11T21:53:11.200664Z"
    }
   },
   "outputs": [
    {
     "data": {
      "text/html": [
       "<div>\n",
       "<style scoped>\n",
       "    .dataframe tbody tr th:only-of-type {\n",
       "        vertical-align: middle;\n",
       "    }\n",
       "\n",
       "    .dataframe tbody tr th {\n",
       "        vertical-align: top;\n",
       "    }\n",
       "\n",
       "    .dataframe thead th {\n",
       "        text-align: right;\n",
       "    }\n",
       "</style>\n",
       "<table border=\"1\" class=\"dataframe\">\n",
       "  <thead>\n",
       "    <tr style=\"text-align: right;\">\n",
       "      <th></th>\n",
       "      <th>E</th>\n",
       "      <th>hidden1</th>\n",
       "      <th>hidden2</th>\n",
       "      <th>train</th>\n",
       "      <th>valuation</th>\n",
       "    </tr>\n",
       "  </thead>\n",
       "  <tbody>\n",
       "    <tr>\n",
       "      <th>0</th>\n",
       "      <td>10</td>\n",
       "      <td>8</td>\n",
       "      <td>8</td>\n",
       "      <td>0.955428</td>\n",
       "      <td>0.923498</td>\n",
       "    </tr>\n",
       "    <tr>\n",
       "      <th>1</th>\n",
       "      <td>10</td>\n",
       "      <td>8</td>\n",
       "      <td>32</td>\n",
       "      <td>0.962673</td>\n",
       "      <td>0.930573</td>\n",
       "    </tr>\n",
       "    <tr>\n",
       "      <th>2</th>\n",
       "      <td>10</td>\n",
       "      <td>8</td>\n",
       "      <td>256</td>\n",
       "      <td>0.956969</td>\n",
       "      <td>0.925961</td>\n",
       "    </tr>\n",
       "    <tr>\n",
       "      <th>3</th>\n",
       "      <td>10</td>\n",
       "      <td>32</td>\n",
       "      <td>8</td>\n",
       "      <td>0.965642</td>\n",
       "      <td>0.931785</td>\n",
       "    </tr>\n",
       "    <tr>\n",
       "      <th>4</th>\n",
       "      <td>10</td>\n",
       "      <td>32</td>\n",
       "      <td>32</td>\n",
       "      <td>0.964531</td>\n",
       "      <td>0.931668</td>\n",
       "    </tr>\n",
       "  </tbody>\n",
       "</table>\n",
       "</div>"
      ],
      "text/plain": [
       "    E  hidden1  hidden2     train  valuation\n",
       "0  10        8        8  0.955428   0.923498\n",
       "1  10        8       32  0.962673   0.930573\n",
       "2  10        8      256  0.956969   0.925961\n",
       "3  10       32        8  0.965642   0.931785\n",
       "4  10       32       32  0.964531   0.931668"
      ]
     },
     "execution_count": 99,
     "metadata": {},
     "output_type": "execute_result"
    }
   ],
   "source": [
    "data=pd.DataFrame(results,columns=[\"E\",\"hidden1\",\"hidden2\",\"train\",\"valuation\"])\n",
    "data.head()"
   ]
  },
  {
   "cell_type": "code",
   "execution_count": 101,
   "metadata": {
    "ExecuteTime": {
     "end_time": "2019-04-11T21:53:51.710338Z",
     "start_time": "2019-04-11T21:53:51.702324Z"
    }
   },
   "outputs": [],
   "source": [
    "data.to_csv(data_dir+\"/RNN_Text_AmazonReviews.csv\")\n",
    "val_error=data[[\"E\",\"hidden1\",\"hidden2\",\"valuation\"]]"
   ]
  },
  {
   "cell_type": "code",
   "execution_count": 102,
   "metadata": {
    "ExecuteTime": {
     "end_time": "2019-04-11T21:53:53.034822Z",
     "start_time": "2019-04-11T21:53:53.028857Z"
    }
   },
   "outputs": [
    {
     "data": {
      "text/plain": [
       "0.9401508932410774"
      ]
     },
     "execution_count": 102,
     "metadata": {},
     "output_type": "execute_result"
    }
   ],
   "source": [
    "data[\"valuation\"].max()"
   ]
  },
  {
   "cell_type": "code",
   "execution_count": 103,
   "metadata": {
    "ExecuteTime": {
     "end_time": "2019-04-11T21:53:54.038124Z",
     "start_time": "2019-04-11T21:53:54.027130Z"
    }
   },
   "outputs": [
    {
     "name": "stderr",
     "output_type": "stream",
     "text": [
      "C:\\ProgramData\\Anaconda3\\lib\\site-packages\\ipykernel_launcher.py:1: FutureWarning: 'argmax' is deprecated, use 'idxmax' instead. The behavior of 'argmax'\n",
      "will be corrected to return the positional maximum in the future.\n",
      "Use 'series.values.argmax' to get the position of the maximum now.\n",
      "  \"\"\"Entry point for launching an IPython kernel.\n"
     ]
    },
    {
     "data": {
      "text/plain": [
       "E            200.000000\n",
       "hidden1      256.000000\n",
       "hidden2        8.000000\n",
       "train          0.986600\n",
       "valuation      0.940151\n",
       "Name: 24, dtype: float64"
      ]
     },
     "execution_count": 103,
     "metadata": {},
     "output_type": "execute_result"
    }
   ],
   "source": [
    "best=data.iloc[data[\"valuation\"].argmax()]\n",
    "best"
   ]
  },
  {
   "cell_type": "markdown",
   "metadata": {
    "collapsed": true
   },
   "source": [
    "The best model achieves 83.3% accuracy using a 300 dimensional embedding, and two LSTM layers of size 256 units"
   ]
  },
  {
   "cell_type": "markdown",
   "metadata": {
    "ExecuteTime": {
     "end_time": "2017-12-17T22:59:13.144106Z",
     "start_time": "2017-12-17T22:59:13.128480Z"
    }
   },
   "source": [
    "## Test of best model"
   ]
  },
  {
   "cell_type": "code",
   "execution_count": 104,
   "metadata": {
    "ExecuteTime": {
     "end_time": "2019-04-11T21:54:01.555189Z",
     "start_time": "2019-04-11T21:54:01.550204Z"
    }
   },
   "outputs": [],
   "source": [
    "best_E=int(best[\"E\"])\n",
    "best_hidden1=int(best[\"hidden1\"])\n",
    "best_hidden2=int(best[\"hidden2\"])"
   ]
  },
  {
   "cell_type": "code",
   "execution_count": 105,
   "metadata": {
    "ExecuteTime": {
     "end_time": "2019-04-11T21:54:03.197708Z",
     "start_time": "2019-04-11T21:54:03.007207Z"
    }
   },
   "outputs": [
    {
     "name": "stdout",
     "output_type": "stream",
     "text": [
      "(511608, 125) (511608,)\n"
     ]
    }
   ],
   "source": [
    "X=np.concatenate([X_train,X_val])\n",
    "Y=np.concatenate([Y_train,Y_val])\n",
    "print(X.shape,Y.shape)"
   ]
  },
  {
   "cell_type": "code",
   "execution_count": 106,
   "metadata": {
    "ExecuteTime": {
     "end_time": "2019-04-11T21:54:04.879727Z",
     "start_time": "2019-04-11T21:54:04.583519Z"
    }
   },
   "outputs": [],
   "source": [
    "best_model=build_model(W,V,best_E,best_hidden1,best_hidden2,droput)"
   ]
  },
  {
   "cell_type": "code",
   "execution_count": 107,
   "metadata": {
    "ExecuteTime": {
     "end_time": "2019-04-11T22:11:16.860525Z",
     "start_time": "2019-04-11T21:54:06.536289Z"
    }
   },
   "outputs": [
    {
     "name": "stdout",
     "output_type": "stream",
     "text": [
      "Train on 511608 samples, validate on 56846 samples\n",
      "Epoch 1/5\n",
      "511360/511608 [============================>.] - ETA: 0s - loss: 0.2800 - acc: 0.8879- ETA: 7s - loss - ETA: 5s -2019-04-11 17:57:43,336|\t0: TRAIN loss 0.2800,  acc 0.8880  ||  VAL loss 0.1972, acc 0.9207\n",
      "511608/511608 [==============================] - 207s 405us/sample - loss: 0.2800 - acc: 0.8880 - val_loss: 0.1972 - val_acc: 0.9207\n",
      "Epoch 2/5\n",
      "511488/511608 [============================>.] - ETA: 0s - loss: 0.1821 - acc: 0.9330- ETA: 0s - loss: 0.1821 - a2019-04-11 18:01:08,071|\t1: TRAIN loss 0.1821,  acc 0.9330  ||  VAL loss 0.1728, acc 0.9315\n",
      "511608/511608 [==============================] - 205s 400us/sample - loss: 0.1821 - acc: 0.9330 - val_loss: 0.1728 - val_acc: 0.9315\n",
      "Epoch 3/5\n",
      "511488/511608 [============================>.] - ETA: 0s - loss: 0.1405 - acc: 0.9481- ETA: 3s - loss:  - ETA: 2s - loss: 0.14 - ETA: 0s - loss: 0.1404 - acc2019-04-11 18:04:31,139|\t2: TRAIN loss 0.1405,  acc 0.9481  ||  VAL loss 0.1672, acc 0.9357\n",
      "511608/511608 [==============================] - 203s 397us/sample - loss: 0.1405 - acc: 0.9481 - val_loss: 0.1672 - val_acc: 0.9357\n",
      "Epoch 4/5\n",
      "511360/511608 [============================>.] - ETA: 0s - loss: 0.1097 - acc: 0.95952019-04-11 18:07:54,012|\t3: TRAIN loss 0.1097,  acc 0.9595  ||  VAL loss 0.1791, acc 0.9382\n",
      "511608/511608 [==============================] - 203s 397us/sample - loss: 0.1097 - acc: 0.9595 - val_loss: 0.1791 - val_acc: 0.9382\n",
      "Epoch 5/5\n",
      "511360/511608 [============================>.] - ETA: 0s - loss: 0.0846 - acc: 0.9691- ETA: 2s2019-04-11 18:11:16,855|\t4: TRAIN loss 0.0846,  acc 0.9691  ||  VAL loss 0.2266, acc 0.9389\n",
      "511608/511608 [==============================] - 203s 396us/sample - loss: 0.0846 - acc: 0.9691 - val_loss: 0.2266 - val_acc: 0.9389\n"
     ]
    }
   ],
   "source": [
    "best_results=best_model.fit(X,Y,\n",
    "                            validation_data=(X_test,Y_test),\n",
    "                            callbacks=[LoggingCallback(1,logger)],\n",
    "                            epochs=nepochs,batch_size=128)"
   ]
  },
  {
   "cell_type": "code",
   "execution_count": 109,
   "metadata": {
    "ExecuteTime": {
     "end_time": "2019-04-11T23:07:30.990056Z",
     "start_time": "2019-04-11T23:07:10.116907Z"
    }
   },
   "outputs": [
    {
     "data": {
      "text/plain": [
       "0.9403124230376807"
      ]
     },
     "execution_count": 109,
     "metadata": {},
     "output_type": "execute_result"
    }
   ],
   "source": [
    "Y_pred=np.argmax(model.predict(X_test),axis=1)\n",
    "np.mean(Y_pred==Y_test)"
   ]
  }
 ],
 "metadata": {
  "kernelspec": {
   "display_name": "Python 3",
   "language": "python",
   "name": "python3"
  },
  "language_info": {
   "codemirror_mode": {
    "name": "ipython",
    "version": 3
   },
   "file_extension": ".py",
   "mimetype": "text/x-python",
   "name": "python",
   "nbconvert_exporter": "python",
   "pygments_lexer": "ipython3",
   "version": "3.6.4"
  },
  "toc": {
   "base_numbering": 1,
   "nav_menu": {},
   "number_sections": true,
   "sideBar": true,
   "skip_h1_title": true,
   "title_cell": "Table of Contents",
   "title_sidebar": "Contents",
   "toc_cell": false,
   "toc_position": {},
   "toc_section_display": "block",
   "toc_window_display": true
  }
 },
 "nbformat": 4,
 "nbformat_minor": 2
}
