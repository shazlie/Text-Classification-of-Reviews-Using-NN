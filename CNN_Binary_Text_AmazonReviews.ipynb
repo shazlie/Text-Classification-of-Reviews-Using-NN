{
 "cells": [
  {
   "cell_type": "markdown",
   "metadata": {},
   "source": [
    "# Convolutional Neural Network for Text Classification"
   ]
  },
  {
   "cell_type": "markdown",
   "metadata": {},
   "source": [
    "## Preliminaries"
   ]
  },
  {
   "cell_type": "markdown",
   "metadata": {},
   "source": [
    "### Imports"
   ]
  },
  {
   "cell_type": "code",
   "execution_count": 1,
   "metadata": {
    "ExecuteTime": {
     "end_time": "2019-04-11T10:10:32.879481Z",
     "start_time": "2019-04-11T10:10:28.638827Z"
    }
   },
   "outputs": [
    {
     "name": "stdout",
     "output_type": "stream",
     "text": [
      "1.13.1\n"
     ]
    }
   ],
   "source": [
    "import os\n",
    "import pickle \n",
    "\n",
    "import numpy as np\n",
    "import pandas as pd\n",
    "import matplotlib.pyplot as plt\n",
    "\n",
    "from sklearn.feature_extraction.text import TfidfVectorizer\n",
    "from sklearn.model_selection import train_test_split\n",
    "from sklearn import metrics\n",
    "\n",
    "\n",
    "import tensorflow as tf\n",
    "from tensorflow import keras\n",
    "import tensorflow.keras.backend as K\n",
    "print(tf.__version__)\n",
    "\n",
    "%matplotlib inline\n",
    "\n",
    "import sys\n",
    "sys.path.append(\"../..\")\n",
    "\n",
    "from E4525_ML.notebook_utils import get_logger,LoggingCallback\n",
    "from E4525_ML import text\n",
    "from E4525_ML import plots"
   ]
  },
  {
   "cell_type": "code",
   "execution_count": 2,
   "metadata": {
    "ExecuteTime": {
     "end_time": "2019-04-11T10:10:33.792039Z",
     "start_time": "2019-04-11T10:10:32.880478Z"
    }
   },
   "outputs": [],
   "source": [
    "#\n",
    "from tensorflow.keras.backend import set_session\n",
    "\n",
    "config = tf.ConfigProto()\n",
    "config.gpu_options.allow_growth = True  # dynamically grow the memory used on the GPU\n",
    "config.log_device_placement = True  # to log device placement (on which device the operation ran)\n",
    "                                    # (nothing gets printed in Jupyter, only if you run it standalone)\n",
    "\n",
    "sess = tf.Session(config=config)\n",
    "\n",
    "set_session(sess)  # set this TensorFlow session as the default session for Keras"
   ]
  },
  {
   "cell_type": "code",
   "execution_count": 3,
   "metadata": {
    "ExecuteTime": {
     "end_time": "2019-04-11T10:10:33.797025Z",
     "start_time": "2019-04-11T10:10:33.793037Z"
    }
   },
   "outputs": [],
   "source": [
    "logger=get_logger(\"CNN_Binary_Text_AmazonReviews.log\")"
   ]
  },
  {
   "cell_type": "code",
   "execution_count": 4,
   "metadata": {
    "ExecuteTime": {
     "end_time": "2019-04-11T10:10:33.808994Z",
     "start_time": "2019-04-11T10:10:33.799022Z"
    }
   },
   "outputs": [],
   "source": [
    "seed=456\n",
    "np.random.seed(seed)"
   ]
  },
  {
   "cell_type": "markdown",
   "metadata": {},
   "source": [
    "### Data"
   ]
  },
  {
   "cell_type": "code",
   "execution_count": 5,
   "metadata": {
    "ExecuteTime": {
     "end_time": "2019-04-11T10:10:33.818967Z",
     "start_time": "2019-04-11T10:10:33.809991Z"
    }
   },
   "outputs": [],
   "source": [
    "reviews_filename=\"../../raw/amazon-reviews/Reviews.csv\""
   ]
  },
  {
   "cell_type": "code",
   "execution_count": 6,
   "metadata": {
    "ExecuteTime": {
     "end_time": "2019-04-11T10:10:37.855169Z",
     "start_time": "2019-04-11T10:10:33.820962Z"
    }
   },
   "outputs": [],
   "source": [
    "data=pd.read_csv(reviews_filename)"
   ]
  },
  {
   "cell_type": "code",
   "execution_count": 7,
   "metadata": {
    "ExecuteTime": {
     "end_time": "2019-04-11T10:10:37.860155Z",
     "start_time": "2019-04-11T10:10:37.856165Z"
    }
   },
   "outputs": [],
   "source": [
    "data_dir=r\"../../data/amazon-reviews\""
   ]
  },
  {
   "cell_type": "markdown",
   "metadata": {},
   "source": [
    "### Split into Train, Validation and Test Sets"
   ]
  },
  {
   "cell_type": "code",
   "execution_count": 8,
   "metadata": {
    "ExecuteTime": {
     "end_time": "2019-04-11T10:10:37.880119Z",
     "start_time": "2019-04-11T10:10:37.862150Z"
    }
   },
   "outputs": [
    {
     "name": "stdout",
     "output_type": "stream",
     "text": [
      "(568454,)\n"
     ]
    },
    {
     "name": "stderr",
     "output_type": "stream",
     "text": [
      "/usr/local/share/anaconda3/lib/python3.7/site-packages/ipykernel_launcher.py:1: FutureWarning: Method .as_matrix will be removed in a future version. Use .values instead.\n",
      "  \"\"\"Entry point for launching an IPython kernel.\n",
      "/usr/local/share/anaconda3/lib/python3.7/site-packages/ipykernel_launcher.py:2: FutureWarning: Method .as_matrix will be removed in a future version. Use .values instead.\n",
      "  \n"
     ]
    }
   ],
   "source": [
    "documents_all=data[\"Text\"].as_matrix()\n",
    "labels_all=data[\"Score\"].as_matrix()\n",
    "print(documents_all.shape)"
   ]
  },
  {
   "cell_type": "code",
   "execution_count": 9,
   "metadata": {
    "ExecuteTime": {
     "end_time": "2019-04-11T10:10:38.014742Z",
     "start_time": "2019-04-11T10:10:37.881099Z"
    }
   },
   "outputs": [
    {
     "name": "stdout",
     "output_type": "stream",
     "text": [
      "(511608,) (56846,)\n"
     ]
    }
   ],
   "source": [
    "docs,docs_test,labels,labels_test=train_test_split(documents_all,labels_all,test_size=0.1)\n",
    "print(docs.shape,docs_test.shape)"
   ]
  },
  {
   "cell_type": "code",
   "execution_count": 10,
   "metadata": {
    "ExecuteTime": {
     "end_time": "2019-04-11T10:10:38.118464Z",
     "start_time": "2019-04-11T10:10:38.015741Z"
    }
   },
   "outputs": [
    {
     "name": "stdout",
     "output_type": "stream",
     "text": [
      "(486027,) (25581,)\n"
     ]
    }
   ],
   "source": [
    "docs_train,docs_val,labels_train,labels_val=train_test_split(docs,labels,test_size=0.05)\n",
    "print(docs_train.shape,docs_val.shape)"
   ]
  },
  {
   "cell_type": "markdown",
   "metadata": {
    "ExecuteTime": {
     "end_time": "2017-12-23T10:54:41.615545Z",
     "start_time": "2017-12-23T10:54:41.599916Z"
    }
   },
   "source": [
    "## Text Embedding Pipeline"
   ]
  },
  {
   "cell_type": "code",
   "execution_count": 11,
   "metadata": {
    "ExecuteTime": {
     "end_time": "2019-04-11T10:10:38.124447Z",
     "start_time": "2019-04-11T10:10:38.119462Z"
    }
   },
   "outputs": [],
   "source": [
    "countVectorizer=TfidfVectorizer(input=\"content\",decode_error=\"ignore\",\n",
    "                                       max_features=50000,\n",
    "                                       #tokenizer=text.stem_tokenizer,\n",
    "                                       #stop_words=text.stop_words()\n",
    "                               )\n",
    "dencoder=text.DocumentEncoder(countVectorizer)\n"
   ]
  },
  {
   "cell_type": "code",
   "execution_count": 12,
   "metadata": {
    "ExecuteTime": {
     "end_time": "2019-04-11T10:11:44.265492Z",
     "start_time": "2019-04-11T10:10:38.126443Z"
    }
   },
   "outputs": [
    {
     "name": "stdout",
     "output_type": "stream",
     "text": [
      "(486027,) (25581,) (56846,)\n"
     ]
    }
   ],
   "source": [
    "pickle_filename=data_dir+\"/amazon_reviews.p\"\n",
    "if True:\n",
    "    texts_train=dencoder.fit_transform(docs_train)\n",
    "    texts_val=dencoder.transform(docs_val)\n",
    "    texts_test=dencoder.transform(docs_test)\n",
    "    \n",
    "    file=open(pickle_filename,\"wb\")\n",
    "    pickle.dump((countVectorizer,texts_train,labels_train,texts_val,labels_val,texts_test,labels_test),file)\n",
    "    file.close()\n",
    "else:\n",
    "    file=open(pickle_filename,\"rb\")\n",
    "    countVectorizer,texts_train,labels_train,texts_val,labels_val,texts_test,labels_test=pickle.load(file)\n",
    "    file.close()\n",
    "print(texts_train.shape,texts_val.shape,texts_test.shape)"
   ]
  },
  {
   "cell_type": "code",
   "execution_count": 13,
   "metadata": {
    "ExecuteTime": {
     "end_time": "2019-04-11T10:11:44.331316Z",
     "start_time": "2019-04-11T10:11:44.267487Z"
    }
   },
   "outputs": [],
   "source": [
    "ltexts=[len(text) for text in texts_train]"
   ]
  },
  {
   "cell_type": "code",
   "execution_count": 14,
   "metadata": {
    "ExecuteTime": {
     "end_time": "2019-04-11T10:11:44.568684Z",
     "start_time": "2019-04-11T10:11:44.333311Z"
    }
   },
   "outputs": [
    {
     "data": {
      "text/plain": [
       "(array([ 66793., 159835.,  94500.,  56948.,  34429.,  22415.,  14285.,\n",
       "          9634.,   6959.,   4860.]),\n",
       " array([  0.,  25.,  50.,  75., 100., 125., 150., 175., 200., 225., 250.]),\n",
       " <a list of 10 Patch objects>)"
      ]
     },
     "execution_count": 14,
     "metadata": {},
     "output_type": "execute_result"
    },
    {
     "data": {
      "image/png": "[encoded data removed]",
      "text/plain": [
       "<Figure size 432x288 with 1 Axes>"
      ]
     },
     "metadata": {
      "needs_background": "light"
     },
     "output_type": "display_data"
    }
   ],
   "source": [
    "plt.hist(ltexts,range=[0,250])"
   ]
  },
  {
   "cell_type": "code",
   "execution_count": 15,
   "metadata": {
    "ExecuteTime": {
     "end_time": "2019-04-11T10:11:44.576659Z",
     "start_time": "2019-04-11T10:11:44.571673Z"
    }
   },
   "outputs": [],
   "source": [
    "def pad_texts(texts,W):\n",
    "    fragments=[]\n",
    "    fragment_labels=[]\n",
    "    for idx,text in enumerate(texts):\n",
    "            fragment=text[0:W]\n",
    "            fragment=np.pad(fragment,(W-len(fragment),0),mode=\"constant\",constant_values=-2)\n",
    "            fragments.append(fragment)\n",
    "    return np.array(fragments)"
   ]
  },
  {
   "cell_type": "code",
   "execution_count": 16,
   "metadata": {
    "ExecuteTime": {
     "end_time": "2019-04-11T10:11:44.588628Z",
     "start_time": "2019-04-11T10:11:44.577657Z"
    }
   },
   "outputs": [],
   "source": [
    "W=125"
   ]
  },
  {
   "cell_type": "code",
   "execution_count": 17,
   "metadata": {
    "ExecuteTime": {
     "end_time": "2019-04-11T10:11:56.593521Z",
     "start_time": "2019-04-11T10:11:44.590621Z"
    },
    "scrolled": false
   },
   "outputs": [
    {
     "name": "stdout",
     "output_type": "stream",
     "text": [
      "(486027, 125) (486027,)\n"
     ]
    }
   ],
   "source": [
    "X_train=pad_texts(texts_train,W)\n",
    "Y_train=labels_train>3\n",
    "print(X_train.shape,Y_train.shape)"
   ]
  },
  {
   "cell_type": "code",
   "execution_count": 18,
   "metadata": {
    "ExecuteTime": {
     "end_time": "2019-04-11T10:11:57.242771Z",
     "start_time": "2019-04-11T10:11:56.595503Z"
    }
   },
   "outputs": [
    {
     "name": "stdout",
     "output_type": "stream",
     "text": [
      "(25581, 125) (25581,)\n"
     ]
    }
   ],
   "source": [
    "X_val=pad_texts(texts_val,W)\n",
    "Y_val=labels_val>3\n",
    "print(X_val.shape,Y_val.shape)"
   ]
  },
  {
   "cell_type": "code",
   "execution_count": 19,
   "metadata": {
    "ExecuteTime": {
     "end_time": "2019-04-11T10:11:58.620094Z",
     "start_time": "2019-04-11T10:11:57.244768Z"
    }
   },
   "outputs": [
    {
     "name": "stdout",
     "output_type": "stream",
     "text": [
      "(56846, 125) (56846,)\n"
     ]
    }
   ],
   "source": [
    "X_test=pad_texts(texts_test,W)\n",
    "Y_test=labels_test>3\n",
    "print(X_test.shape,Y_test.shape)"
   ]
  },
  {
   "cell_type": "code",
   "execution_count": 20,
   "metadata": {
    "ExecuteTime": {
     "end_time": "2019-04-11T10:11:58.629062Z",
     "start_time": "2019-04-11T10:11:58.622081Z"
    }
   },
   "outputs": [
    {
     "data": {
      "text/plain": [
       "array([-2.0000e+00, -2.0000e+00, -2.0000e+00, -2.0000e+00, -2.0000e+00,\n",
       "       -2.0000e+00, -2.0000e+00, -2.0000e+00, -2.0000e+00, -2.0000e+00,\n",
       "       -2.0000e+00, -2.0000e+00, -2.0000e+00, -2.0000e+00, -2.0000e+00,\n",
       "       -2.0000e+00, -2.0000e+00, -2.0000e+00, -2.0000e+00,  4.4839e+04,\n",
       "        1.0765e+04,  4.8210e+04,  3.5747e+04,  2.3155e+04,  4.4669e+04,\n",
       "        3.2617e+04,  6.2360e+03,  1.8644e+04,  2.9720e+04,  2.2655e+04,\n",
       "        1.5654e+04,  4.5233e+04,  1.0317e+04,  6.5730e+03,  2.9720e+04,\n",
       "        1.1753e+04,  3.0350e+04,  2.6865e+04,  3.0000e+04,  2.4270e+04,\n",
       "        2.0997e+04,  8.7540e+03,  2.7641e+04,  4.3350e+03,  4.0171e+04,\n",
       "        2.3155e+04,  4.4669e+04,  3.2617e+04,  2.2284e+04,  4.4656e+04,\n",
       "        4.9292e+04,  6.0480e+03,  1.8440e+03,  4.5233e+04,  4.2263e+04,\n",
       "        4.4695e+04,  4.7108e+04,  2.5500e+03,  2.3155e+04,  4.4669e+04,\n",
       "        1.9348e+04,  8.3380e+03,  4.6697e+04,  4.4656e+04,  4.8229e+04,\n",
       "        4.4669e+04,  9.1410e+03,  1.6973e+04,  8.7540e+03,  4.4669e+04,\n",
       "        1.6593e+04,  4.3232e+04,  2.0270e+03,  3.0161e+04,  2.1720e+03,\n",
       "        4.5389e+04,  3.4524e+04,  3.1086e+04,  4.4669e+04,  1.0765e+04,\n",
       "        1.8644e+04,  2.4270e+04,  4.8210e+04,  6.2900e+03,  2.1675e+04,\n",
       "        4.1740e+03,  4.4669e+04,  3.4537e+04,  3.1113e+04,  1.8644e+04,\n",
       "        4.0457e+04,  3.0529e+04,  4.3469e+04,  4.8814e+04,  4.8639e+04,\n",
       "        4.8521e+04,  4.5233e+04,  4.4669e+04,  3.4537e+04,  3.1113e+04,\n",
       "        4.4756e+04,  4.0307e+04,  2.8115e+04,  4.4669e+04,  7.5280e+03,\n",
       "        3.3450e+03,  4.0400e+03,  4.4695e+04,  4.5233e+04,  3.7723e+04,\n",
       "        2.4270e+04,  3.4026e+04,  1.1634e+04,  2.8115e+04,  1.8640e+03,\n",
       "        4.4669e+04,  3.6932e+04,  4.5233e+04,  2.9720e+04,  2.0270e+03,\n",
       "        4.1740e+03,  4.9704e+04,  1.5802e+04,  1.1778e+04,  4.6283e+04])"
      ]
     },
     "execution_count": 20,
     "metadata": {},
     "output_type": "execute_result"
    }
   ],
   "source": [
    "X_train[0]"
   ]
  },
  {
   "cell_type": "code",
   "execution_count": 21,
   "metadata": {
    "ExecuteTime": {
     "end_time": "2019-04-11T10:11:58.718824Z",
     "start_time": "2019-04-11T10:11:58.631057Z"
    }
   },
   "outputs": [
    {
     "data": {
      "text/plain": [
       "(49999.0, -2.0)"
      ]
     },
     "execution_count": 21,
     "metadata": {},
     "output_type": "execute_result"
    }
   ],
   "source": [
    "X_train.max(),X_train.min()"
   ]
  },
  {
   "cell_type": "markdown",
   "metadata": {
    "ExecuteTime": {
     "end_time": "2017-12-17T22:56:28.160230Z",
     "start_time": "2017-12-17T22:56:28.124208Z"
    }
   },
   "source": [
    "## Text Embedding Model"
   ]
  },
  {
   "cell_type": "code",
   "execution_count": 22,
   "metadata": {
    "ExecuteTime": {
     "end_time": "2019-04-11T10:11:58.737772Z",
     "start_time": "2019-04-11T10:11:58.728797Z"
    }
   },
   "outputs": [
    {
     "name": "stdout",
     "output_type": "stream",
     "text": [
      "2 50002\n"
     ]
    }
   ],
   "source": [
    "num_classes = 2\n",
    "V=len(countVectorizer.vocabulary_)+2 # one for unknown words, one for padding\n",
    "print(num_classes,V)\n",
    "E=128\n",
    "F=128\n",
    "hidden1=128"
   ]
  },
  {
   "cell_type": "markdown",
   "metadata": {
    "ExecuteTime": {
     "end_time": "2017-12-29T09:41:15.129928Z",
     "start_time": "2017-12-29T09:41:15.114296Z"
    }
   },
   "source": [
    "## Convolutional Neural Network"
   ]
  },
  {
   "cell_type": "markdown",
   "metadata": {},
   "source": [
    "### Build Dense Neural Network"
   ]
  },
  {
   "cell_type": "code",
   "execution_count": 23,
   "metadata": {
    "ExecuteTime": {
     "end_time": "2019-04-11T10:11:58.747746Z",
     "start_time": "2019-04-11T10:11:58.738769Z"
    }
   },
   "outputs": [],
   "source": [
    "# here we have to use the funtional interface rather than the sequential model\n",
    "def text_conv_net(W,V,E,F,hidden1):\n",
    "    input1 = keras.layers.Input(shape=(W,))\n",
    "    adjust=keras.layers.Lambda(lambda x: x+2,input_shape=(W,))(input1) # add two to handle padding and unknown words\n",
    "    embedding= keras.layers.Embedding(V,E,input_length=W)(adjust)\n",
    "    conv1 = keras.layers.Convolution1D(F,2, padding=\"same\")(embedding)\n",
    "    features1=keras.layers.MaxPooling1D(pool_size=W)(conv1)\n",
    "    conv2 = keras.layers.Convolution1D(F,3, padding=\"same\")(embedding)\n",
    "    features2=keras.layers.MaxPooling1D(pool_size=W)(conv2)\n",
    "    conv3 = keras.layers.Convolution1D(F,4, padding=\"same\")(embedding)\n",
    "    features3=keras.layers.MaxPooling1D(pool_size=W)(conv3)\n",
    "    concat= keras.layers.concatenate([features1,features2,features3])\n",
    "    flat=keras.layers.Flatten()(concat)\n",
    "    drop1=keras.layers.Dropout(0.5)(flat)\n",
    "    dense1=keras.layers.Dense(hidden1, activation=keras.activations.relu)(drop1)\n",
    "    drop2=keras.layers.Dropout(0.5)(dense1)\n",
    "    out = keras.layers.Dense(1,activation=\"sigmoid\")(drop2)\n",
    "    model = keras.models.Model(inputs=[input1], outputs=out)\n",
    "    return model"
   ]
  },
  {
   "cell_type": "code",
   "execution_count": 24,
   "metadata": {
    "ExecuteTime": {
     "end_time": "2019-04-11T10:11:58.938236Z",
     "start_time": "2019-04-11T10:11:58.749740Z"
    }
   },
   "outputs": [
    {
     "name": "stdout",
     "output_type": "stream",
     "text": [
      "WARNING:tensorflow:From /usr/local/share/anaconda3/lib/python3.7/site-packages/tensorflow/python/ops/resource_variable_ops.py:435: colocate_with (from tensorflow.python.framework.ops) is deprecated and will be removed in a future version.\n",
      "Instructions for updating:\n",
      "Colocations handled automatically by placer.\n",
      "2019-04-11 14:05:56,028|From /usr/local/share/anaconda3/lib/python3.7/site-packages/tensorflow/python/ops/resource_variable_ops.py:435: colocate_with (from tensorflow.python.framework.ops) is deprecated and will be removed in a future version.\n",
      "Instructions for updating:\n",
      "Colocations handled automatically by placer.\n",
      "WARNING:tensorflow:From /usr/local/share/anaconda3/lib/python3.7/site-packages/tensorflow/python/keras/layers/core.py:143: calling dropout (from tensorflow.python.ops.nn_ops) with keep_prob is deprecated and will be removed in a future version.\n",
      "Instructions for updating:\n",
      "Please use `rate` instead of `keep_prob`. Rate should be set to `rate = 1 - keep_prob`.\n",
      "2019-04-11 14:05:56,123|From /usr/local/share/anaconda3/lib/python3.7/site-packages/tensorflow/python/keras/layers/core.py:143: calling dropout (from tensorflow.python.ops.nn_ops) with keep_prob is deprecated and will be removed in a future version.\n",
      "Instructions for updating:\n",
      "Please use `rate` instead of `keep_prob`. Rate should be set to `rate = 1 - keep_prob`.\n"
     ]
    }
   ],
   "source": [
    "model0=text_conv_net(W,V,E,F,hidden1)"
   ]
  },
  {
   "cell_type": "code",
   "execution_count": 25,
   "metadata": {
    "ExecuteTime": {
     "end_time": "2019-04-11T10:11:59.044953Z",
     "start_time": "2019-04-11T10:11:58.940231Z"
    }
   },
   "outputs": [],
   "source": [
    "model0.compile(optimizer=tf.train.AdamOptimizer(learning_rate=0.001), \n",
    "              loss='binary_crossentropy',\n",
    "              metrics=['accuracy'])"
   ]
  },
  {
   "cell_type": "code",
   "execution_count": 26,
   "metadata": {
    "ExecuteTime": {
     "end_time": "2019-04-11T10:11:59.054926Z",
     "start_time": "2019-04-11T10:11:59.046947Z"
    }
   },
   "outputs": [
    {
     "name": "stdout",
     "output_type": "stream",
     "text": [
      "__________________________________________________________________________________________________\n",
      "Layer (type)                    Output Shape         Param #     Connected to                     \n",
      "==================================================================================================\n",
      "input_1 (InputLayer)            (None, 125)          0                                            \n",
      "__________________________________________________________________________________________________\n",
      "lambda (Lambda)                 (None, 125)          0           input_1[0][0]                    \n",
      "__________________________________________________________________________________________________\n",
      "embedding (Embedding)           (None, 125, 128)     6400256     lambda[0][0]                     \n",
      "__________________________________________________________________________________________________\n",
      "conv1d (Conv1D)                 (None, 125, 128)     32896       embedding[0][0]                  \n",
      "__________________________________________________________________________________________________\n",
      "conv1d_1 (Conv1D)               (None, 125, 128)     49280       embedding[0][0]                  \n",
      "__________________________________________________________________________________________________\n",
      "conv1d_2 (Conv1D)               (None, 125, 128)     65664       embedding[0][0]                  \n",
      "__________________________________________________________________________________________________\n",
      "max_pooling1d (MaxPooling1D)    (None, 1, 128)       0           conv1d[0][0]                     \n",
      "__________________________________________________________________________________________________\n",
      "max_pooling1d_1 (MaxPooling1D)  (None, 1, 128)       0           conv1d_1[0][0]                   \n",
      "__________________________________________________________________________________________________\n",
      "max_pooling1d_2 (MaxPooling1D)  (None, 1, 128)       0           conv1d_2[0][0]                   \n",
      "__________________________________________________________________________________________________\n",
      "concatenate (Concatenate)       (None, 1, 384)       0           max_pooling1d[0][0]              \n",
      "                                                                 max_pooling1d_1[0][0]            \n",
      "                                                                 max_pooling1d_2[0][0]            \n",
      "__________________________________________________________________________________________________\n",
      "flatten (Flatten)               (None, 384)          0           concatenate[0][0]                \n",
      "__________________________________________________________________________________________________\n",
      "dropout (Dropout)               (None, 384)          0           flatten[0][0]                    \n",
      "__________________________________________________________________________________________________\n",
      "dense (Dense)                   (None, 128)          49280       dropout[0][0]                    \n",
      "__________________________________________________________________________________________________\n",
      "dropout_1 (Dropout)             (None, 128)          0           dense[0][0]                      \n",
      "__________________________________________________________________________________________________\n",
      "dense_1 (Dense)                 (None, 1)            129         dropout_1[0][0]                  \n",
      "==================================================================================================\n",
      "Total params: 6,597,505\n",
      "Trainable params: 6,597,505\n",
      "Non-trainable params: 0\n",
      "__________________________________________________________________________________________________\n"
     ]
    }
   ],
   "source": [
    "model0.summary()"
   ]
  },
  {
   "cell_type": "code",
   "execution_count": 27,
   "metadata": {
    "ExecuteTime": {
     "end_time": "2019-04-11T10:11:59.064907Z",
     "start_time": "2019-04-11T10:11:59.056918Z"
    }
   },
   "outputs": [
    {
     "data": {
      "text/plain": [
       "(486027, 125)"
      ]
     },
     "execution_count": 27,
     "metadata": {},
     "output_type": "execute_result"
    }
   ],
   "source": [
    "X_train.shape"
   ]
  },
  {
   "cell_type": "code",
   "execution_count": 28,
   "metadata": {
    "ExecuteTime": {
     "end_time": "2019-04-11T10:11:59.074870Z",
     "start_time": "2019-04-11T10:11:59.066891Z"
    }
   },
   "outputs": [],
   "source": [
    "nepochs=5"
   ]
  },
  {
   "cell_type": "code",
   "execution_count": 29,
   "metadata": {
    "ExecuteTime": {
     "end_time": "2019-04-11T10:12:03.778286Z",
     "start_time": "2019-04-11T10:11:59.076865Z"
    }
   },
   "outputs": [
    {
     "name": "stdout",
     "output_type": "stream",
     "text": [
      "Train on 486027 samples, validate on 25581 samples\n",
      "WARNING:tensorflow:From /usr/local/share/anaconda3/lib/python3.7/site-packages/tensorflow/python/ops/math_ops.py:3066: to_int32 (from tensorflow.python.ops.math_ops) is deprecated and will be removed in a future version.\n",
      "Instructions for updating:\n",
      "Use tf.cast instead.\n",
      "2019-04-11 14:05:56,518|From /usr/local/share/anaconda3/lib/python3.7/site-packages/tensorflow/python/ops/math_ops.py:3066: to_int32 (from tensorflow.python.ops.math_ops) is deprecated and will be removed in a future version.\n",
      "Instructions for updating:\n",
      "Use tf.cast instead.\n",
      "Epoch 1/5\n",
      "485888/486027 [============================>.] - ETA: 0s - loss: 0.2378 - acc: 0.90352019-04-11 14:09:10,133|\t0: TRAIN loss 0.2378,  acc 0.9035  ||  VAL loss 0.1768, acc 0.9302\n",
      "486027/486027 [==============================] - 192s 395us/sample - loss: 0.2378 - acc: 0.9035 - val_loss: 0.1768 - val_acc: 0.9302\n",
      "Epoch 2/5\n",
      "486016/486027 [============================>.] - ETA: 0s - loss: 0.1570 - acc: 0.94032019-04-11 14:12:19,138|\t1: TRAIN loss 0.1570,  acc 0.9403  ||  VAL loss 0.1620, acc 0.9365\n",
      "486027/486027 [==============================] - 189s 389us/sample - loss: 0.1570 - acc: 0.9403 - val_loss: 0.1620 - val_acc: 0.9365\n",
      "Epoch 3/5\n",
      "269952/486027 [===============>..............] - ETA: 1:23 - loss: 0.1162 - acc: 0.9565"
     ]
    }
   ],
   "source": [
    "model0.fit(X_train,Y_train,epochs=nepochs,validation_data=(X_val,Y_val),\n",
    "          callbacks=[LoggingCallback(1,logger)],\n",
    "                     batch_size=128)"
   ]
  },
  {
   "cell_type": "code",
   "execution_count": 30,
   "metadata": {
    "ExecuteTime": {
     "end_time": "2019-04-11T10:12:05.312182Z",
     "start_time": "2019-04-11T10:12:03.779284Z"
    }
   },
   "outputs": [
    {
     "data": {
      "text/plain": [
       "0.9380399515265236"
      ]
     },
     "execution_count": 30,
     "metadata": {},
     "output_type": "execute_result"
    }
   ],
   "source": [
    "Y_pred=(model0.predict(X_val)>0.5).ravel()\n",
    "np.mean(Y_pred==Y_val)"
   ]
  },
  {
   "cell_type": "code",
   "execution_count": null,
   "metadata": {},
   "outputs": [],
   "source": []
  },
  {
   "cell_type": "code",
   "execution_count": 31,
   "metadata": {
    "ExecuteTime": {
     "end_time": "2019-04-11T10:12:05.318166Z",
     "start_time": "2019-04-11T10:12:05.314176Z"
    }
   },
   "outputs": [],
   "source": [
    "classes=np.unique(Y_test)"
   ]
  },
  {
   "cell_type": "code",
   "execution_count": 32,
   "metadata": {
    "ExecuteTime": {
     "end_time": "2019-04-11T10:12:05.592432Z",
     "start_time": "2019-04-11T10:12:05.320161Z"
    }
   },
   "outputs": [
    {
     "name": "stdout",
     "output_type": "stream",
     "text": [
      "Confusion matrix, without normalization\n",
      "[[ 4779   923]\n",
      " [  662 19217]]\n"
     ]
    },
    {
     "data": {
      "image/png": "[encoded data removed]",
      "text/plain": [
       "<Figure size 720x720 with 2 Axes>"
      ]
     },
     "metadata": {
      "needs_background": "light"
     },
     "output_type": "display_data"
    }
   ],
   "source": [
    "plt.figure(figsize=(10,10))\n",
    "cnf_matrix = metrics.confusion_matrix(Y_val, Y_pred)\n",
    "np.set_printoptions(precision=2)\n",
    "plots.plot_confusion_matrix(cnf_matrix,classes)"
   ]
  },
  {
   "cell_type": "markdown",
   "metadata": {
    "ExecuteTime": {
     "end_time": "2017-12-17T22:57:20.878364Z",
     "start_time": "2017-12-17T22:57:20.862737Z"
    }
   },
   "source": [
    "### layer size optimization"
   ]
  },
  {
   "cell_type": "code",
   "execution_count": 33,
   "metadata": {
    "ExecuteTime": {
     "end_time": "2019-04-11T10:12:21.043095Z",
     "start_time": "2019-04-11T10:12:05.595424Z"
    }
   },
   "outputs": [
    {
     "name": "stdout",
     "output_type": "stream",
     "text": [
      "2019-04-11 14:27:09,199|\t0: TRAIN loss 0.2309,  acc 0.9061  ||  VAL loss 0.1729, acc 0.9321\n",
      "2019-04-11 14:32:17,768|\t1: TRAIN loss 0.1494,  acc 0.9429  ||  VAL loss 0.1615, acc 0.9377\n",
      "2019-04-11 14:37:26,532|\t2: TRAIN loss 0.1108,  acc 0.9584  ||  VAL loss 0.1694, acc 0.9394\n",
      "2019-04-11 14:42:35,390|\t3: TRAIN loss 0.0835,  acc 0.9688  ||  VAL loss 0.1835, acc 0.9387\n",
      "2019-04-11 14:47:44,303|\t4: TRAIN loss 0.0652,  acc 0.9758  ||  VAL loss 0.2094, acc 0.9372\n",
      "2019-04-11 14:48:52,349|100,256,512,0.9902824328689558,0.9372190297486416\n",
      "2019-04-11 14:55:11,515|\t0: TRAIN loss 0.2279,  acc 0.9073  ||  VAL loss 0.1721, acc 0.9320\n",
      "2019-04-11 15:01:27,977|\t1: TRAIN loss 0.1476,  acc 0.9440  ||  VAL loss 0.1618, acc 0.9386\n",
      "2019-04-11 15:07:44,443|\t2: TRAIN loss 0.1059,  acc 0.9602  ||  VAL loss 0.1662, acc 0.9400\n",
      "2019-04-11 15:14:01,260|\t3: TRAIN loss 0.0784,  acc 0.9711  ||  VAL loss 0.1829, acc 0.9388\n",
      "2019-04-11 15:20:17,599|\t4: TRAIN loss 0.0611,  acc 0.9777  ||  VAL loss 0.2025, acc 0.9405\n",
      "2019-04-11 15:21:46,769|200,256,512,0.991401712250554,0.9405027168601696\n",
      "2019-04-11 15:29:11,707|\t0: TRAIN loss 0.2293,  acc 0.9068  ||  VAL loss 0.1729, acc 0.9317\n",
      "2019-04-11 15:36:33,231|\t1: TRAIN loss 0.1480,  acc 0.9436  ||  VAL loss 0.1566, acc 0.9399\n",
      "2019-04-11 15:43:54,774|\t2: TRAIN loss 0.1053,  acc 0.9607  ||  VAL loss 0.1652, acc 0.9402\n",
      "2019-04-11 15:51:16,201|\t3: TRAIN loss 0.0774,  acc 0.9713  ||  VAL loss 0.1867, acc 0.9371\n",
      "2019-04-11 15:58:37,158|\t4: TRAIN loss 0.0604,  acc 0.9777  ||  VAL loss 0.1977, acc 0.9405\n",
      "2019-04-11 16:00:35,617|300,256,512,0.9920477668936087,0.9405027168601696\n"
     ]
    }
   ],
   "source": [
    "F=256\n",
    "hidden1=512\n",
    "results=[]\n",
    "\n",
    "\n",
    "for E in [100,200,300]:\n",
    "        # Build the Estimator\n",
    "        model=text_conv_net(W,V,E,F,hidden1)\n",
    "        model.compile(optimizer=tf.train.AdamOptimizer(learning_rate=0.001), \n",
    "              loss='binary_crossentropy',\n",
    "              metrics=['accuracy'])\n",
    "        model.fit(X_train,Y_train,epochs=nepochs,validation_data=(X_val,Y_val),\n",
    "          callbacks=[LoggingCallback(1,logger)],verbose=0,\n",
    "                     batch_size=128)\n",
    "        Y_pred=(model.predict(X_train)>0.5).ravel()\n",
    "        acc_train=np.mean(Y_pred==Y_train)\n",
    "        Y_pred=(model.predict(X_val)>0.5).ravel()\n",
    "        acc_val=np.mean(Y_pred==Y_val)\n",
    "        logger.info(f\"{E},{F},{hidden1},{acc_train},{acc_val}\")\n",
    "        results.append((E,F,hidden1,acc_train,acc_val))\n",
    "\n",
    "        "
   ]
  },
  {
   "cell_type": "code",
   "execution_count": 34,
   "metadata": {
    "ExecuteTime": {
     "end_time": "2019-04-11T10:12:21.058055Z",
     "start_time": "2019-04-11T10:12:21.045090Z"
    }
   },
   "outputs": [
    {
     "data": {
      "text/html": [
       "<div>\n",
       "<style scoped>\n",
       "    .dataframe tbody tr th:only-of-type {\n",
       "        vertical-align: middle;\n",
       "    }\n",
       "\n",
       "    .dataframe tbody tr th {\n",
       "        vertical-align: top;\n",
       "    }\n",
       "\n",
       "    .dataframe thead th {\n",
       "        text-align: right;\n",
       "    }\n",
       "</style>\n",
       "<table border=\"1\" class=\"dataframe\">\n",
       "  <thead>\n",
       "    <tr style=\"text-align: right;\">\n",
       "      <th></th>\n",
       "      <th>E</th>\n",
       "      <th>F</th>\n",
       "      <th>layer1</th>\n",
       "      <th>train</th>\n",
       "      <th>valuation</th>\n",
       "    </tr>\n",
       "  </thead>\n",
       "  <tbody>\n",
       "    <tr>\n",
       "      <th>0</th>\n",
       "      <td>100</td>\n",
       "      <td>256</td>\n",
       "      <td>512</td>\n",
       "      <td>0.990282</td>\n",
       "      <td>0.937219</td>\n",
       "    </tr>\n",
       "    <tr>\n",
       "      <th>1</th>\n",
       "      <td>200</td>\n",
       "      <td>256</td>\n",
       "      <td>512</td>\n",
       "      <td>0.991402</td>\n",
       "      <td>0.940503</td>\n",
       "    </tr>\n",
       "    <tr>\n",
       "      <th>2</th>\n",
       "      <td>300</td>\n",
       "      <td>256</td>\n",
       "      <td>512</td>\n",
       "      <td>0.992048</td>\n",
       "      <td>0.940503</td>\n",
       "    </tr>\n",
       "  </tbody>\n",
       "</table>\n",
       "</div>"
      ],
      "text/plain": [
       "     E    F  layer1     train  valuation\n",
       "0  100  256     512  0.990282   0.937219\n",
       "1  200  256     512  0.991402   0.940503\n",
       "2  300  256     512  0.992048   0.940503"
      ]
     },
     "execution_count": 34,
     "metadata": {},
     "output_type": "execute_result"
    }
   ],
   "source": [
    "data=pd.DataFrame(results,columns=[\"E\",\"F\",\"layer1\",\"train\",\"valuation\"])\n",
    "data.head()"
   ]
  },
  {
   "cell_type": "markdown",
   "metadata": {},
   "source": [
    "The best model achieves 94% accuracy using a 300 dimensional embedding, 256 (3,4,5) n-grams and and a 512 hidden layer.\n",
    "\n",
    "We could probably do better by increasing model size, but we need to stop somewhere."
   ]
  },
  {
   "cell_type": "markdown",
   "metadata": {
    "ExecuteTime": {
     "end_time": "2017-12-17T22:59:13.144106Z",
     "start_time": "2017-12-17T22:59:13.128480Z"
    }
   },
   "source": [
    "### Test of best model"
   ]
  },
  {
   "cell_type": "code",
   "execution_count": 35,
   "metadata": {
    "ExecuteTime": {
     "end_time": "2019-04-11T10:12:21.066035Z",
     "start_time": "2019-04-11T10:12:21.059053Z"
    }
   },
   "outputs": [
    {
     "name": "stdout",
     "output_type": "stream",
     "text": [
      "(511608, 125) (511608,)\n"
     ]
    }
   ],
   "source": [
    "X=np.concatenate([X_train,X_val])\n",
    "Y=np.concatenate([Y_train,Y_val])\n",
    "print(X.shape,Y.shape)"
   ]
  },
  {
   "cell_type": "code",
   "execution_count": 36,
   "metadata": {},
   "outputs": [
    {
     "data": {
      "text/plain": [
       "E            200.000000\n",
       "F            256.000000\n",
       "layer1       512.000000\n",
       "train          0.991402\n",
       "valuation      0.940503\n",
       "Name: 1, dtype: float64"
      ]
     },
     "execution_count": 36,
     "metadata": {},
     "output_type": "execute_result"
    }
   ],
   "source": [
    "best=data.iloc[data[\"valuation\"].idxmax()]\n",
    "best_E=int(best[\"E\"])\n",
    "best"
   ]
  },
  {
   "cell_type": "code",
   "execution_count": 37,
   "metadata": {
    "ExecuteTime": {
     "end_time": "2019-04-11T10:12:21.314369Z",
     "start_time": "2019-04-11T10:12:21.077007Z"
    }
   },
   "outputs": [],
   "source": [
    "# Build the Estimator\n",
    "model=text_conv_net(W,V,best_E,F,hidden1)\n",
    "model.compile(optimizer=tf.train.AdamOptimizer(learning_rate=0.001), \n",
    "              loss='binary_crossentropy',\n",
    "              metrics=['accuracy'])"
   ]
  },
  {
   "cell_type": "code",
   "execution_count": 38,
   "metadata": {
    "ExecuteTime": {
     "end_time": "2019-04-11T10:12:21.322350Z",
     "start_time": "2019-04-11T10:12:21.316365Z"
    }
   },
   "outputs": [
    {
     "name": "stdout",
     "output_type": "stream",
     "text": [
      "__________________________________________________________________________________________________\n",
      "Layer (type)                    Output Shape         Param #     Connected to                     \n",
      "==================================================================================================\n",
      "input_5 (InputLayer)            (None, 125)          0                                            \n",
      "__________________________________________________________________________________________________\n",
      "lambda_4 (Lambda)               (None, 125)          0           input_5[0][0]                    \n",
      "__________________________________________________________________________________________________\n",
      "embedding_4 (Embedding)         (None, 125, 200)     10000400    lambda_4[0][0]                   \n",
      "__________________________________________________________________________________________________\n",
      "conv1d_12 (Conv1D)              (None, 125, 256)     102656      embedding_4[0][0]                \n",
      "__________________________________________________________________________________________________\n",
      "conv1d_13 (Conv1D)              (None, 125, 256)     153856      embedding_4[0][0]                \n",
      "__________________________________________________________________________________________________\n",
      "conv1d_14 (Conv1D)              (None, 125, 256)     205056      embedding_4[0][0]                \n",
      "__________________________________________________________________________________________________\n",
      "max_pooling1d_12 (MaxPooling1D) (None, 1, 256)       0           conv1d_12[0][0]                  \n",
      "__________________________________________________________________________________________________\n",
      "max_pooling1d_13 (MaxPooling1D) (None, 1, 256)       0           conv1d_13[0][0]                  \n",
      "__________________________________________________________________________________________________\n",
      "max_pooling1d_14 (MaxPooling1D) (None, 1, 256)       0           conv1d_14[0][0]                  \n",
      "__________________________________________________________________________________________________\n",
      "concatenate_4 (Concatenate)     (None, 1, 768)       0           max_pooling1d_12[0][0]           \n",
      "                                                                 max_pooling1d_13[0][0]           \n",
      "                                                                 max_pooling1d_14[0][0]           \n",
      "__________________________________________________________________________________________________\n",
      "flatten_4 (Flatten)             (None, 768)          0           concatenate_4[0][0]              \n",
      "__________________________________________________________________________________________________\n",
      "dropout_8 (Dropout)             (None, 768)          0           flatten_4[0][0]                  \n",
      "__________________________________________________________________________________________________\n",
      "dense_8 (Dense)                 (None, 512)          393728      dropout_8[0][0]                  \n",
      "__________________________________________________________________________________________________\n",
      "dropout_9 (Dropout)             (None, 512)          0           dense_8[0][0]                    \n",
      "__________________________________________________________________________________________________\n",
      "dense_9 (Dense)                 (None, 1)            513         dropout_9[0][0]                  \n",
      "==================================================================================================\n",
      "Total params: 10,856,209\n",
      "Trainable params: 10,856,209\n",
      "Non-trainable params: 0\n",
      "__________________________________________________________________________________________________\n"
     ]
    }
   ],
   "source": [
    "model.summary()"
   ]
  },
  {
   "cell_type": "markdown",
   "metadata": {},
   "source": [
    "This model is a **very large** so fitting takes a while"
   ]
  },
  {
   "cell_type": "code",
   "execution_count": 39,
   "metadata": {
    "ExecuteTime": {
     "end_time": "2019-04-11T10:12:28.249813Z",
     "start_time": "2019-04-11T10:12:21.323346Z"
    }
   },
   "outputs": [
    {
     "name": "stdout",
     "output_type": "stream",
     "text": [
      "2019-04-11 16:07:21,060|\t0: TRAIN loss 0.2248,  acc 0.9090  ||  VAL loss 0.1765, acc 0.9326\n",
      "2019-04-11 16:14:02,586|\t1: TRAIN loss 0.1452,  acc 0.9447  ||  VAL loss 0.1583, acc 0.9393\n",
      "2019-04-11 16:20:44,229|\t2: TRAIN loss 0.1052,  acc 0.9609  ||  VAL loss 0.1672, acc 0.9371\n",
      "2019-04-11 16:27:25,928|\t3: TRAIN loss 0.0785,  acc 0.9710  ||  VAL loss 0.1791, acc 0.9390\n",
      "2019-04-11 16:34:06,686|\t4: TRAIN loss 0.0608,  acc 0.9776  ||  VAL loss 0.2003, acc 0.9392\n"
     ]
    },
    {
     "data": {
      "text/plain": [
       "<tensorflow.python.keras.callbacks.History at 0x7fabbc243400>"
      ]
     },
     "execution_count": 39,
     "metadata": {},
     "output_type": "execute_result"
    }
   ],
   "source": [
    "model.fit(X,Y,epochs=nepochs,validation_data=(X_test,Y_test),\n",
    "          callbacks=[LoggingCallback(1,logger)],verbose=0,\n",
    "                     batch_size=128)"
   ]
  },
  {
   "cell_type": "code",
   "execution_count": 40,
   "metadata": {
    "ExecuteTime": {
     "end_time": "2019-04-11T10:12:28.727547Z",
     "start_time": "2019-04-11T10:12:28.251809Z"
    }
   },
   "outputs": [
    {
     "data": {
      "text/plain": [
       "0.9392217570277592"
      ]
     },
     "execution_count": 40,
     "metadata": {},
     "output_type": "execute_result"
    }
   ],
   "source": [
    "Y_pred=(model.predict(X_test)>0.5).ravel()\n",
    "np.mean(Y_pred==Y_test)"
   ]
  },
  {
   "cell_type": "markdown",
   "metadata": {},
   "source": [
    "So we achieve 93.9% accuracy on the test set"
   ]
  },
  {
   "cell_type": "code",
   "execution_count": null,
   "metadata": {},
   "outputs": [],
   "source": []
  },
  {
   "cell_type": "code",
   "execution_count": null,
   "metadata": {},
   "outputs": [],
   "source": []
  }
 ],
 "metadata": {
  "kernelspec": {
   "display_name": "Python 3",
   "language": "python",
   "name": "python3"
  },
  "language_info": {
   "codemirror_mode": {
    "name": "ipython",
    "version": 3
   },
   "file_extension": ".py",
   "mimetype": "text/x-python",
   "name": "python",
   "nbconvert_exporter": "python",
   "pygments_lexer": "ipython3",
   "version": "3.6.4"
  },
  "toc": {
   "nav_menu": {},
   "number_sections": true,
   "sideBar": true,
   "skip_h1_title": true,
   "toc_cell": false,
   "toc_position": {},
   "toc_section_display": "block",
   "toc_window_display": true
  }
 },
 "nbformat": 4,
 "nbformat_minor": 2
}
