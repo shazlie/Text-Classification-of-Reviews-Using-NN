{
 "cells": [
  {
   "cell_type": "markdown",
   "metadata": {},
   "source": [
    "# SVM Linear Classifiers with Text"
   ]
  },
  {
   "cell_type": "markdown",
   "metadata": {},
   "source": [
    "In this notebook we will apply a Linear SVM to our text classification\n",
    "problem.\n",
    "\n",
    "As the bag of words representation of a document is high dimensional we will use $\\chi^2$ feature selection to select a subspace of a manageable dimension. \n"
   ]
  },
  {
   "cell_type": "markdown",
   "metadata": {},
   "source": [
    "## Preliminaries"
   ]
  },
  {
   "cell_type": "markdown",
   "metadata": {},
   "source": [
    "### Imports"
   ]
  },
  {
   "cell_type": "code",
   "execution_count": 1,
   "metadata": {
    "ExecuteTime": {
     "end_time": "2018-03-30T08:42:08.745961Z",
     "start_time": "2018-03-30T08:42:00.952449Z"
    },
    "collapsed": true
   },
   "outputs": [],
   "source": [
    "import pickle\n",
    "\n",
    "import numpy as np\n",
    "import pandas as pd\n",
    "import matplotlib.pyplot as plt\n",
    "\n",
    "from sklearn.feature_extraction.text import CountVectorizer,TfidfVectorizer\n",
    "\n",
    "from sklearn import metrics\n",
    "from sklearn.feature_selection import SelectKBest, chi2\n",
    "from sklearn.model_selection import train_test_split,KFold\n",
    "from sklearn.preprocessing import LabelEncoder, OneHotEncoder\n",
    "\n",
    "\n",
    "# for a progress bar on slow calculations\n",
    "from ipywidgets import IntProgress\n",
    "from IPython.display import display\n",
    "\n",
    "import sys\n",
    "sys.path.append(\"../..\")\n",
    "from E4525_ML import plots\n",
    "import E4525_ML.text as text\n",
    "from E4525_ML.multiclass_svm import SVMGDClassifier\n",
    "%matplotlib inline\n",
    "plt.rcParams['figure.figsize'] = (8.0, 6.0) # set default size of plots"
   ]
  },
  {
   "cell_type": "code",
   "execution_count": 2,
   "metadata": {
    "ExecuteTime": {
     "end_time": "2018-03-30T08:42:08.761588Z",
     "start_time": "2018-03-30T08:42:08.745961Z"
    },
    "collapsed": true
   },
   "outputs": [],
   "source": [
    "seed=23\n",
    "np.random.seed(seed)"
   ]
  },
  {
   "cell_type": "markdown",
   "metadata": {},
   "source": [
    "### Data"
   ]
  },
  {
   "cell_type": "markdown",
   "metadata": {},
   "source": [
    "#### Data Directories"
   ]
  },
  {
   "cell_type": "code",
   "execution_count": 3,
   "metadata": {
    "ExecuteTime": {
     "end_time": "2018-03-30T08:42:08.786676Z",
     "start_time": "2018-03-30T08:42:08.761588Z"
    },
    "collapsed": true
   },
   "outputs": [],
   "source": [
    "raw_data_dir=r\"../../raw/C50/C50train\"\n",
    "test_dir    =r\"../../raw/C50/C50test\"\n",
    "data_dir=r\"../../data/C50\"\n"
   ]
  },
  {
   "cell_type": "markdown",
   "metadata": {},
   "source": [
    "#### Corpus"
   ]
  },
  {
   "cell_type": "code",
   "execution_count": 4,
   "metadata": {
    "ExecuteTime": {
     "end_time": "2018-03-30T08:42:08.834945Z",
     "start_time": "2018-03-30T08:42:08.786676Z"
    }
   },
   "outputs": [
    {
     "data": {
      "text/html": [
       "<div>\n",
       "<style>\n",
       "    .dataframe thead tr:only-child th {\n",
       "        text-align: right;\n",
       "    }\n",
       "\n",
       "    .dataframe thead th {\n",
       "        text-align: left;\n",
       "    }\n",
       "\n",
       "    .dataframe tbody tr th {\n",
       "        vertical-align: top;\n",
       "    }\n",
       "</style>\n",
       "<table border=\"1\" class=\"dataframe\">\n",
       "  <thead>\n",
       "    <tr style=\"text-align: right;\">\n",
       "      <th></th>\n",
       "      <th>filename</th>\n",
       "      <th>label</th>\n",
       "    </tr>\n",
       "    <tr>\n",
       "      <th>document_id</th>\n",
       "      <th></th>\n",
       "      <th></th>\n",
       "    </tr>\n",
       "  </thead>\n",
       "  <tbody>\n",
       "    <tr>\n",
       "      <th>0</th>\n",
       "      <td>../../raw/C50/C50train/AaronPressman/106247new...</td>\n",
       "      <td>AaronPressman</td>\n",
       "    </tr>\n",
       "    <tr>\n",
       "      <th>1</th>\n",
       "      <td>../../raw/C50/C50train/AaronPressman/120600new...</td>\n",
       "      <td>AaronPressman</td>\n",
       "    </tr>\n",
       "    <tr>\n",
       "      <th>2</th>\n",
       "      <td>../../raw/C50/C50train/AaronPressman/120683new...</td>\n",
       "      <td>AaronPressman</td>\n",
       "    </tr>\n",
       "    <tr>\n",
       "      <th>3</th>\n",
       "      <td>../../raw/C50/C50train/AaronPressman/136958new...</td>\n",
       "      <td>AaronPressman</td>\n",
       "    </tr>\n",
       "    <tr>\n",
       "      <th>4</th>\n",
       "      <td>../../raw/C50/C50train/AaronPressman/137498new...</td>\n",
       "      <td>AaronPressman</td>\n",
       "    </tr>\n",
       "  </tbody>\n",
       "</table>\n",
       "</div>"
      ],
      "text/plain": [
       "                                                      filename          label\n",
       "document_id                                                                  \n",
       "0            ../../raw/C50/C50train/AaronPressman/106247new...  AaronPressman\n",
       "1            ../../raw/C50/C50train/AaronPressman/120600new...  AaronPressman\n",
       "2            ../../raw/C50/C50train/AaronPressman/120683new...  AaronPressman\n",
       "3            ../../raw/C50/C50train/AaronPressman/136958new...  AaronPressman\n",
       "4            ../../raw/C50/C50train/AaronPressman/137498new...  AaronPressman"
      ]
     },
     "execution_count": 4,
     "metadata": {},
     "output_type": "execute_result"
    }
   ],
   "source": [
    "documents_filename=data_dir+\"/C50_documents.csv\"\n",
    "documents=pd.read_csv(documents_filename,index_col=\"document_id\")\n",
    "documents.head()"
   ]
  },
  {
   "cell_type": "code",
   "execution_count": 5,
   "metadata": {
    "ExecuteTime": {
     "end_time": "2018-03-30T08:42:08.858944Z",
     "start_time": "2018-03-30T08:42:08.834945Z"
    },
    "scrolled": true
   },
   "outputs": [
    {
     "data": {
      "text/html": [
       "<div>\n",
       "<style>\n",
       "    .dataframe thead tr:only-child th {\n",
       "        text-align: right;\n",
       "    }\n",
       "\n",
       "    .dataframe thead th {\n",
       "        text-align: left;\n",
       "    }\n",
       "\n",
       "    .dataframe tbody tr th {\n",
       "        vertical-align: top;\n",
       "    }\n",
       "</style>\n",
       "<table border=\"1\" class=\"dataframe\">\n",
       "  <thead>\n",
       "    <tr style=\"text-align: right;\">\n",
       "      <th></th>\n",
       "      <th>filename</th>\n",
       "      <th>label</th>\n",
       "    </tr>\n",
       "    <tr>\n",
       "      <th>document_id</th>\n",
       "      <th></th>\n",
       "      <th></th>\n",
       "    </tr>\n",
       "  </thead>\n",
       "  <tbody>\n",
       "    <tr>\n",
       "      <th>0</th>\n",
       "      <td>../../raw/C50/C50test/AaronPressman/421829news...</td>\n",
       "      <td>AaronPressman</td>\n",
       "    </tr>\n",
       "    <tr>\n",
       "      <th>1</th>\n",
       "      <td>../../raw/C50/C50test/AaronPressman/424074news...</td>\n",
       "      <td>AaronPressman</td>\n",
       "    </tr>\n",
       "    <tr>\n",
       "      <th>2</th>\n",
       "      <td>../../raw/C50/C50test/AaronPressman/42764newsM...</td>\n",
       "      <td>AaronPressman</td>\n",
       "    </tr>\n",
       "    <tr>\n",
       "      <th>3</th>\n",
       "      <td>../../raw/C50/C50test/AaronPressman/43033newsM...</td>\n",
       "      <td>AaronPressman</td>\n",
       "    </tr>\n",
       "    <tr>\n",
       "      <th>4</th>\n",
       "      <td>../../raw/C50/C50test/AaronPressman/433558news...</td>\n",
       "      <td>AaronPressman</td>\n",
       "    </tr>\n",
       "  </tbody>\n",
       "</table>\n",
       "</div>"
      ],
      "text/plain": [
       "                                                      filename          label\n",
       "document_id                                                                  \n",
       "0            ../../raw/C50/C50test/AaronPressman/421829news...  AaronPressman\n",
       "1            ../../raw/C50/C50test/AaronPressman/424074news...  AaronPressman\n",
       "2            ../../raw/C50/C50test/AaronPressman/42764newsM...  AaronPressman\n",
       "3            ../../raw/C50/C50test/AaronPressman/43033newsM...  AaronPressman\n",
       "4            ../../raw/C50/C50test/AaronPressman/433558news...  AaronPressman"
      ]
     },
     "execution_count": 5,
     "metadata": {},
     "output_type": "execute_result"
    }
   ],
   "source": [
    "test_documents_filename=data_dir+\"/C50_test_documents.csv\"\n",
    "test_documents=pd.read_csv(test_documents_filename,index_col=\"document_id\")\n",
    "test_documents.head()"
   ]
  },
  {
   "cell_type": "code",
   "execution_count": 6,
   "metadata": {
    "ExecuteTime": {
     "end_time": "2018-03-30T08:42:08.866944Z",
     "start_time": "2018-03-30T08:42:08.858944Z"
    },
    "collapsed": true
   },
   "outputs": [],
   "source": [
    "scramble=True"
   ]
  },
  {
   "cell_type": "code",
   "execution_count": 7,
   "metadata": {
    "ExecuteTime": {
     "end_time": "2018-03-30T08:42:08.890944Z",
     "start_time": "2018-03-30T08:42:08.866944Z"
    }
   },
   "outputs": [
    {
     "name": "stdout",
     "output_type": "stream",
     "text": [
      "all_docs.shape (5000, 2)\n",
      "(2584, 2) (2416, 2)\n"
     ]
    }
   ],
   "source": [
    "if scramble:\n",
    "    all_docs=pd.concat([documents,test_documents])\n",
    "    print(\"all_docs.shape\",all_docs.shape)\n",
    "    msk=np.random.rand(len(all_docs))<0.5\n",
    "    documents=all_docs[msk]\n",
    "    test_documents=all_docs[~msk]\n",
    "    print(documents.shape,test_documents.shape)"
   ]
  },
  {
   "cell_type": "markdown",
   "metadata": {},
   "source": [
    "\n",
    "## Validation Set Creation"
   ]
  },
  {
   "cell_type": "code",
   "execution_count": 8,
   "metadata": {
    "ExecuteTime": {
     "end_time": "2018-03-30T08:42:08.902943Z",
     "start_time": "2018-03-30T08:42:08.890944Z"
    },
    "collapsed": true
   },
   "outputs": [],
   "source": [
    "docs_train,docs_val,Y_train,Y_val=train_test_split(documents[\"filename\"],documents[\"label\"],test_size=0.2)"
   ]
  },
  {
   "cell_type": "markdown",
   "metadata": {},
   "source": [
    "We use `set` features as those perform better for all the other classifiers.\n",
    "\n",
    "We normalize vectors so that $x^T x =1$ for each document by using the `TFidfVectorizer` class with normalization set."
   ]
  },
  {
   "cell_type": "code",
   "execution_count": 9,
   "metadata": {
    "ExecuteTime": {
     "end_time": "2018-03-30T08:42:08.922945Z",
     "start_time": "2018-03-30T08:42:08.902943Z"
    },
    "collapsed": true
   },
   "outputs": [],
   "source": [
    "countVectorizer=TfidfVectorizer(input=\"filename\",\n",
    "                                      \n",
    "                                       norm=\"l2\",\n",
    "                                       tokenizer=text.stem_tokenizer,\n",
    "                                       stop_words=text.stop_words())"
   ]
  },
  {
   "cell_type": "markdown",
   "metadata": {},
   "source": [
    "## Select More important Features"
   ]
  },
  {
   "cell_type": "code",
   "execution_count": 10,
   "metadata": {
    "ExecuteTime": {
     "end_time": "2018-03-30T08:42:08.954943Z",
     "start_time": "2018-03-30T08:42:08.926945Z"
    },
    "collapsed": true
   },
   "outputs": [],
   "source": [
    "F=1000"
   ]
  },
  {
   "cell_type": "code",
   "execution_count": 11,
   "metadata": {
    "ExecuteTime": {
     "end_time": "2018-03-30T08:42:53.490094Z",
     "start_time": "2018-03-30T08:42:08.954943Z"
    },
    "collapsed": true
   },
   "outputs": [],
   "source": [
    "X=countVectorizer.fit_transform(docs_train)\n",
    "Y=Y_train"
   ]
  },
  {
   "cell_type": "code",
   "execution_count": 12,
   "metadata": {
    "ExecuteTime": {
     "end_time": "2018-03-30T08:42:53.502003Z",
     "start_time": "2018-03-30T08:42:53.490094Z"
    }
   },
   "outputs": [
    {
     "data": {
      "text/plain": [
       "27684"
      ]
     },
     "execution_count": 12,
     "metadata": {},
     "output_type": "execute_result"
    }
   ],
   "source": [
    "V=X.shape[1]\n",
    "V"
   ]
  },
  {
   "cell_type": "code",
   "execution_count": 13,
   "metadata": {
    "ExecuteTime": {
     "end_time": "2018-03-30T08:42:53.569834Z",
     "start_time": "2018-03-30T08:42:53.502003Z"
    },
    "collapsed": true
   },
   "outputs": [],
   "source": [
    "dummies=pd.get_dummies(Y,prefix=\"\",prefix_sep=\"\",sparse=True)\n",
    "labels=dummies.columns\n",
    "Z=dummies"
   ]
  },
  {
   "cell_type": "code",
   "execution_count": 14,
   "metadata": {
    "ExecuteTime": {
     "end_time": "2018-03-30T08:42:53.585461Z",
     "start_time": "2018-03-30T08:42:53.569834Z"
    },
    "collapsed": true
   },
   "outputs": [],
   "source": [
    "transformer=SelectKBest(chi2,F) # get the best F based on chi2 metric"
   ]
  },
  {
   "cell_type": "code",
   "execution_count": 15,
   "metadata": {
    "ExecuteTime": {
     "end_time": "2018-03-30T08:42:53.729315Z",
     "start_time": "2018-03-30T08:42:53.599509Z"
    },
    "collapsed": true
   },
   "outputs": [],
   "source": [
    "Xt=transformer.fit_transform(X,Z) # Return X with only the selected features"
   ]
  },
  {
   "cell_type": "code",
   "execution_count": 16,
   "metadata": {
    "ExecuteTime": {
     "end_time": "2018-03-30T08:42:53.744119Z",
     "start_time": "2018-03-30T08:42:53.729315Z"
    },
    "collapsed": true
   },
   "outputs": [],
   "source": [
    "feature_idx=transformer.get_support(True)"
   ]
  },
  {
   "cell_type": "code",
   "execution_count": 17,
   "metadata": {
    "ExecuteTime": {
     "end_time": "2018-03-30T08:42:53.802691Z",
     "start_time": "2018-03-30T08:42:53.744119Z"
    },
    "collapsed": true
   },
   "outputs": [],
   "source": [
    "index_2_word=countVectorizer.get_feature_names()"
   ]
  },
  {
   "cell_type": "code",
   "execution_count": 18,
   "metadata": {
    "ExecuteTime": {
     "end_time": "2018-03-30T08:42:53.822690Z",
     "start_time": "2018-03-30T08:42:53.802691Z"
    }
   },
   "outputs": [
    {
     "name": "stdout",
     "output_type": "stream",
     "text": [
      "27527 yorkshir\n",
      "27533 yoshinobu\n",
      "27545 yuan\n",
      "27558 yukon\n",
      "27563 yuri\n",
      "27565 yushiro\n",
      "27597 zealand\n",
      "27599 zedong\n",
      "27605 zemin\n",
      "27657 zivnostenska\n"
     ]
    }
   ],
   "source": [
    "for idx in feature_idx[-10:]:\n",
    "    print(idx,index_2_word[idx])"
   ]
  },
  {
   "cell_type": "markdown",
   "metadata": {},
   "source": [
    "## Generic Text Classifier with Feature Selection"
   ]
  },
  {
   "cell_type": "markdown",
   "metadata": {},
   "source": [
    "Selection $F$ features base of a $\\chi^2$ test makes sense for any classifier.\n",
    "\n",
    "For convenience we create a new wrapper classifier that selects $F$ features and calls the underlying\n",
    "classier with them."
   ]
  },
  {
   "cell_type": "code",
   "execution_count": 19,
   "metadata": {
    "ExecuteTime": {
     "end_time": "2018-03-30T08:42:53.846690Z",
     "start_time": "2018-03-30T08:42:53.822690Z"
    },
    "collapsed": true
   },
   "outputs": [],
   "source": [
    "class TextChi2Classifier:\n",
    "    def __init__(self,F,model):\n",
    "        self.model=model\n",
    "        self.transformer=SelectKBest(chi2,F)\n",
    "    def fit(self,X,Y,X_val,Y_val):\n",
    "        dummies=pd.get_dummies(Y,prefix=\"\",prefix_sep=\"\",sparse=True)\n",
    "        Z=dummies\n",
    "        Xt=self.transformer.fit_transform(X,Z)\n",
    "        Xt_val=self.transformer.transform(X_val)\n",
    "        self.model.fit(Xt,Y,Xt_val,Y_val)\n",
    "        return self\n",
    "    def predict(self,X):\n",
    "        Xt=self.transformer.transform(X)\n",
    "        return self.model.predict(Xt)"
   ]
  },
  {
   "cell_type": "markdown",
   "metadata": {},
   "source": [
    " ##  SVM Classifier vs Number of Features"
   ]
  },
  {
   "cell_type": "code",
   "execution_count": 20,
   "metadata": {
    "ExecuteTime": {
     "end_time": "2018-03-30T08:43:34.145252Z",
     "start_time": "2018-03-30T08:42:53.846690Z"
    }
   },
   "outputs": [
    {
     "data": {
      "text/plain": [
       "((2067, 27684), (2067,))"
      ]
     },
     "execution_count": 20,
     "metadata": {},
     "output_type": "execute_result"
    }
   ],
   "source": [
    "X=countVectorizer.fit_transform(docs_train)\n",
    "Y=Y_train\n",
    "X.shape,Y.shape"
   ]
  },
  {
   "cell_type": "code",
   "execution_count": 21,
   "metadata": {
    "ExecuteTime": {
     "end_time": "2018-03-30T08:43:45.761362Z",
     "start_time": "2018-03-30T08:43:34.145252Z"
    }
   },
   "outputs": [
    {
     "data": {
      "text/plain": [
       "((517, 27684), (517,))"
      ]
     },
     "execution_count": 21,
     "metadata": {},
     "output_type": "execute_result"
    }
   ],
   "source": [
    "X_val=countVectorizer.transform(docs_val)\n",
    "X_val.shape,Y_val.shape"
   ]
  },
  {
   "cell_type": "code",
   "execution_count": 22,
   "metadata": {
    "ExecuteTime": {
     "end_time": "2018-03-30T08:43:45.769360Z",
     "start_time": "2018-03-30T08:43:45.761362Z"
    },
    "collapsed": true
   },
   "outputs": [],
   "source": [
    "Fs=[100,200,300,500,1000,2000,3000,5000,10000,20000,V]"
   ]
  },
  {
   "cell_type": "code",
   "execution_count": 23,
   "metadata": {
    "ExecuteTime": {
     "end_time": "2018-03-30T08:43:45.814384Z",
     "start_time": "2018-03-30T08:43:45.769360Z"
    },
    "collapsed": true
   },
   "outputs": [],
   "source": [
    "base_model=SVMGDClassifier(max_iter=100, learning_rate=0.005,tol=1e-8)"
   ]
  },
  {
   "cell_type": "code",
   "execution_count": 24,
   "metadata": {
    "ExecuteTime": {
     "end_time": "2018-03-30T08:48:23.940922Z",
     "start_time": "2018-03-30T08:43:45.816063Z"
    },
    "scrolled": true
   },
   "outputs": [
    {
     "data": {
      "application/vnd.jupyter.widget-view+json": {
       "model_id": "789b3d3257164833ac3aab5799feffa0"
      }
     },
     "metadata": {},
     "output_type": "display_data"
    },
    {
     "name": "stdout",
     "output_type": "stream",
     "text": [
      "F 100\n",
      "\t 0 Loss = 101490.896927 Train_Accuracy 0.0183841315917 Evaluation Loss = 25402.689135 Accuracy = 0.0174081237911\n",
      "\t 10 Loss = 38196.3281344 Train_Accuracy 0.208998548621 Evaluation Loss = 9982.64480388 Accuracy = 0.191489361702\n",
      "\t 20 Loss = 24469.1073656 Train_Accuracy 0.298500241896 Evaluation Loss = 6671.28411336 Accuracy = 0.220502901354\n",
      "\t 30 Loss = 18907.9356099 Train_Accuracy 0.419448476052 Evaluation Loss = 5008.33146917 Accuracy = 0.382978723404\n",
      "\t 40 Loss = 16894.2795153 Train_Accuracy 0.44992743106 Evaluation Loss = 4655.87882675 Accuracy = 0.410058027079\n",
      "\t 50 Loss = 15184.8198766 Train_Accuracy 0.445089501693 Evaluation Loss = 4306.90742018 Accuracy = 0.363636363636\n",
      "\t 60 Loss = 14791.4978949 Train_Accuracy 0.447992259313 Evaluation Loss = 4262.17368505 Accuracy = 0.371373307544\n",
      "\t 70 Loss = 13566.452021 Train_Accuracy 0.473149492017 Evaluation Loss = 3905.97850294 Accuracy = 0.394584139265\n",
      "\t 80 Loss = 12904.325315 Train_Accuracy 0.48137397194 Evaluation Loss = 3772.40896745 Accuracy = 0.42166344294\n",
      "\t 90 Loss = 12546.4071243 Train_Accuracy 0.494920174165 Evaluation Loss = 3617.38126305 Accuracy = 0.408123791103\n",
      "\t 99 Loss = 11973.2460786 Train_Accuracy 0.499274310595 Evaluation Loss = 3530.85062911 Accuracy = 0.437137330754\n",
      "F 200\n",
      "\t 0 Loss = 101262.259081 Train_Accuracy 0.029511369134 Evaluation Loss = 25344.1060967 Accuracy = 0.0232108317215\n",
      "\t 10 Loss = 23588.1282679 Train_Accuracy 0.424770198355 Evaluation Loss = 6952.2058047 Accuracy = 0.324951644101\n",
      "\t 20 Loss = 14026.4254496 Train_Accuracy 0.541364296081 Evaluation Loss = 4450.7115623 Accuracy = 0.42746615087\n",
      "\t 30 Loss = 11524.5202011 Train_Accuracy 0.531204644412 Evaluation Loss = 3669.31035447 Accuracy = 0.413926499033\n",
      "\t 40 Loss = 10088.1116461 Train_Accuracy 0.561683599419 Evaluation Loss = 3273.07521297 Accuracy = 0.47001934236\n",
      "\t 50 Loss = 9226.8872038 Train_Accuracy 0.572810836962 Evaluation Loss = 3185.07954438 Accuracy = 0.462282398453\n",
      "\t 60 Loss = 8365.08999099 Train_Accuracy 0.607643928399 Evaluation Loss = 2874.4991525 Accuracy = 0.506769825919\n",
      "\t 70 Loss = 8016.92856867 Train_Accuracy 0.606676342525 Evaluation Loss = 2812.40030202 Accuracy = 0.497098646035\n",
      "\t 80 Loss = 7516.4696137 Train_Accuracy 0.628447024673 Evaluation Loss = 2703.78925286 Accuracy = 0.518375241779\n",
      "\t 90 Loss = 7139.73420626 Train_Accuracy 0.624092888244 Evaluation Loss = 2583.94579007 Accuracy = 0.506769825919\n",
      "\t 99 Loss = 6981.67472109 Train_Accuracy 0.621673923561 Evaluation Loss = 2636.30425947 Accuracy = 0.516441005803\n",
      "F 300\n",
      "\t 0 Loss = 101253.509774 Train_Accuracy 0.0227382680213 Evaluation Loss = 25335.3045873 Accuracy = 0.0212765957447\n",
      "\t 10 Loss = 19179.2508275 Train_Accuracy 0.545718432511 Evaluation Loss = 5754.24299234 Accuracy = 0.452611218569\n",
      "\t 20 Loss = 10962.0999338 Train_Accuracy 0.632317368166 Evaluation Loss = 3598.74180358 Accuracy = 0.508704061896\n",
      "\t 30 Loss = 8661.2026638 Train_Accuracy 0.654571843251 Evaluation Loss = 2948.75255061 Accuracy = 0.516441005803\n",
      "\t 40 Loss = 7419.30310098 Train_Accuracy 0.658925979681 Evaluation Loss = 2588.03711779 Accuracy = 0.537717601547\n",
      "\t 50 Loss = 6753.41467748 Train_Accuracy 0.685534591195 Evaluation Loss = 2497.6409334 Accuracy = 0.574468085106\n",
      "\t 60 Loss = 6080.8810723 Train_Accuracy 0.701015965167 Evaluation Loss = 2298.94920055 Accuracy = 0.568665377176\n",
      "\t 70 Loss = 5717.37517614 Train_Accuracy 0.694242864054 Evaluation Loss = 2261.65983974 Accuracy = 0.568665377176\n",
      "\t 80 Loss = 5368.07066816 Train_Accuracy 0.718916303822 Evaluation Loss = 2122.10911789 Accuracy = 0.607350096712\n",
      "\t 90 Loss = 5278.58336832 Train_Accuracy 0.697145621674 Evaluation Loss = 2140.60398875 Accuracy = 0.562862669246\n",
      "\t 99 Loss = 4856.91219186 Train_Accuracy 0.70343492985 Evaluation Loss = 2007.25694631 Accuracy = 0.591876208897\n",
      "F 500\n",
      "\t 0 Loss = 101490.628587 Train_Accuracy 0.011611030479 Evaluation Loss = 25371.7611091 Accuracy = 0.0116054158607\n",
      "\t 10 Loss = 12988.0285146 Train_Accuracy 0.655055636188 Evaluation Loss = 4306.85068012 Accuracy = 0.545454545455\n",
      "\t 20 Loss = 7994.73059009 Train_Accuracy 0.720851475568 Evaluation Loss = 2900.70048986 Accuracy = 0.593810444874\n",
      "\t 30 Loss = 6156.49998472 Train_Accuracy 0.747460087083 Evaluation Loss = 2435.50686877 Accuracy = 0.613152804642\n",
      "\t 40 Loss = 5133.97976496 Train_Accuracy 0.774068698597 Evaluation Loss = 2185.86476041 Accuracy = 0.642166344294\n",
      "\t 50 Loss = 4605.20029652 Train_Accuracy 0.775520077407 Evaluation Loss = 2023.42580644 Accuracy = 0.636363636364\n",
      "\t 60 Loss = 4103.98547711 Train_Accuracy 0.787614900822 Evaluation Loss = 1966.948894 Accuracy = 0.62669245648\n",
      "\t 70 Loss = 3797.99837801 Train_Accuracy 0.800193517175 Evaluation Loss = 1853.77368837 Accuracy = 0.653771760155\n",
      "\t 80 Loss = 3590.011314 Train_Accuracy 0.793420416062 Evaluation Loss = 1830.56516665 Accuracy = 0.647969052224\n",
      "\t 90 Loss = 3338.22959679 Train_Accuracy 0.798742138365 Evaluation Loss = 1734.91157107 Accuracy = 0.647969052224\n",
      "\t 99 Loss = 3169.18224767 Train_Accuracy 0.80938558297 Evaluation Loss = 1714.14024829 Accuracy = 0.642166344294\n",
      "F 1000\n",
      "\t 0 Loss = 101285.777632 Train_Accuracy 0.0101596516691 Evaluation Loss = 25338.2753587 Accuracy = 0.0154738878143\n",
      "\t 10 Loss = 8116.40130555 Train_Accuracy 0.788582486696 Evaluation Loss = 3350.86702437 Accuracy = 0.630560928433\n",
      "\t 20 Loss = 4608.6454583 Train_Accuracy 0.844702467344 Evaluation Loss = 2373.9293179 Accuracy = 0.671179883946\n",
      "\t 30 Loss = 3420.30069009 Train_Accuracy 0.866956942429 Evaluation Loss = 2034.53203708 Accuracy = 0.700193423598\n",
      "\t 40 Loss = 2845.97184848 Train_Accuracy 0.875181422351 Evaluation Loss = 1935.05582893 Accuracy = 0.690522243714\n",
      "\t 50 Loss = 2432.93537574 Train_Accuracy 0.887276245767 Evaluation Loss = 1734.29010546 Accuracy = 0.705996131528\n",
      "\t 60 Loss = 2164.10361289 Train_Accuracy 0.89404934688 Evaluation Loss = 1645.23787441 Accuracy = 0.709864603482\n",
      "\t 70 Loss = 1953.59392488 Train_Accuracy 0.903725205612 Evaluation Loss = 1575.92769739 Accuracy = 0.733075435203\n",
      "\t 80 Loss = 1794.34968179 Train_Accuracy 0.913884857281 Evaluation Loss = 1545.21327598 Accuracy = 0.72920696325\n",
      "\t 90 Loss = 1657.97899899 Train_Accuracy 0.912433478471 Evaluation Loss = 1494.04922267 Accuracy = 0.723404255319\n",
      "\t 99 Loss = 1554.71568427 Train_Accuracy 0.911949685535 Evaluation Loss = 1497.77796318 Accuracy = 0.72920696325\n",
      "F 2000\n",
      "\t 0 Loss = 101217.577198 Train_Accuracy 0.0299951620706 Evaluation Loss = 25318.109344 Accuracy = 0.0232108317215\n",
      "\t 10 Loss = 4541.00037724 Train_Accuracy 0.900338655056 Evaluation Loss = 2886.5414855 Accuracy = 0.709864603482\n",
      "\t 20 Loss = 2332.50501269 Train_Accuracy 0.929366231253 Evaluation Loss = 2159.45240699 Accuracy = 0.742746615087\n",
      "\t 30 Loss = 1672.06938356 Train_Accuracy 0.939042089985 Evaluation Loss = 1945.08893071 Accuracy = 0.750483558994\n",
      "\t 40 Loss = 1338.5285499 Train_Accuracy 0.948717948718 Evaluation Loss = 1800.5314044 Accuracy = 0.756286266925\n",
      "\t 50 Loss = 1113.6483449 Train_Accuracy 0.955007256894 Evaluation Loss = 1752.68826214 Accuracy = 0.762088974855\n",
      "\t 60 Loss = 968.977717984 Train_Accuracy 0.955974842767 Evaluation Loss = 1705.86860373 Accuracy = 0.762088974855\n",
      "\t 70 Loss = 848.134404411 Train_Accuracy 0.961780358007 Evaluation Loss = 1687.24052261 Accuracy = 0.762088974855\n",
      "\t 80 Loss = 755.786417917 Train_Accuracy 0.964683115627 Evaluation Loss = 1619.8057165 Accuracy = 0.773694390716\n",
      "\t 90 Loss = 681.440901734 Train_Accuracy 0.968069666183 Evaluation Loss = 1626.75657407 Accuracy = 0.769825918762\n",
      "\t 99 Loss = 617.846607172 Train_Accuracy 0.969521044993 Evaluation Loss = 1609.5058437 Accuracy = 0.771760154739\n",
      "F 3000\n",
      "\t 0 Loss = 101227.090713 Train_Accuracy 0.0106434446057 Evaluation Loss = 25327.1319014 Accuracy = 0.0154738878143\n",
      "\t 10 Loss = 3105.53124596 Train_Accuracy 0.932268988873 Evaluation Loss = 2796.3675494 Accuracy = 0.727272727273\n",
      "\t 20 Loss = 1539.17520575 Train_Accuracy 0.955491049831 Evaluation Loss = 2235.22220154 Accuracy = 0.765957446809\n",
      "\t 30 Loss = 1079.23837193 Train_Accuracy 0.96419932269 Evaluation Loss = 2071.37961044 Accuracy = 0.764023210832\n",
      "\t 40 Loss = 839.66255404 Train_Accuracy 0.968069666183 Evaluation Loss = 1977.46557145 Accuracy = 0.767891682785\n",
      "\t 50 Loss = 689.620063509 Train_Accuracy 0.973391388486 Evaluation Loss = 1940.74397036 Accuracy = 0.760154738878\n"
     ]
    },
    {
     "name": "stdout",
     "output_type": "stream",
     "text": [
      "\t 60 Loss = 578.876514213 Train_Accuracy 0.977745524915 Evaluation Loss = 1902.43296867 Accuracy = 0.777562862669\n",
      "\t 70 Loss = 497.892166227 Train_Accuracy 0.981615868408 Evaluation Loss = 1856.33608215 Accuracy = 0.771760154739\n",
      "\t 80 Loss = 431.811416938 Train_Accuracy 0.983067247218 Evaluation Loss = 1844.18560325 Accuracy = 0.775628626692\n",
      "\t 90 Loss = 378.473174824 Train_Accuracy 0.985486211901 Evaluation Loss = 1819.95443311 Accuracy = 0.773694390716\n",
      "\t 99 Loss = 338.338911158 Train_Accuracy 0.987905176584 Evaluation Loss = 1814.40757475 Accuracy = 0.775628626692\n",
      "F 5000\n",
      "\t 0 Loss = 101247.037569 Train_Accuracy 0.0261248185776 Evaluation Loss = 25311.0184809 Accuracy = 0.0328820116054\n",
      "\t 10 Loss = 1763.70027623 Train_Accuracy 0.969521044993 Evaluation Loss = 2894.81644211 Accuracy = 0.756286266925\n",
      "\t 20 Loss = 887.140664447 Train_Accuracy 0.976777939042 Evaluation Loss = 2528.79863835 Accuracy = 0.78916827853\n",
      "\t 30 Loss = 594.075709641 Train_Accuracy 0.985002418965 Evaluation Loss = 2357.65714794 Accuracy = 0.796905222437\n",
      "\t 40 Loss = 443.982421061 Train_Accuracy 0.988388969521 Evaluation Loss = 2294.28625054 Accuracy = 0.793036750484\n",
      "\t 50 Loss = 343.12449528 Train_Accuracy 0.992259313014 Evaluation Loss = 2260.74828116 Accuracy = 0.791102514507\n",
      "\t 60 Loss = 280.096537642 Train_Accuracy 0.993710691824 Evaluation Loss = 2243.23439233 Accuracy = 0.78916827853\n",
      "\t 70 Loss = 223.816738929 Train_Accuracy 0.99564586357 Evaluation Loss = 2203.83852218 Accuracy = 0.798839458414\n",
      "\t 80 Loss = 184.493722307 Train_Accuracy 0.99564586357 Evaluation Loss = 2194.73768041 Accuracy = 0.802707930368\n",
      "\t 90 Loss = 151.35348881 Train_Accuracy 0.996613449444 Evaluation Loss = 2193.73979951 Accuracy = 0.800773694391\n",
      "\t 99 Loss = 126.742918686 Train_Accuracy 0.996613449444 Evaluation Loss = 2178.34192952 Accuracy = 0.806576402321\n",
      "F 10000\n",
      "\t 0 Loss = 101314.308862 Train_Accuracy 0.0174165457184 Evaluation Loss = 25336.2261798 Accuracy = 0.0251450676983\n",
      "\t 10 Loss = 965.635027598 Train_Accuracy 0.982583454282 Evaluation Loss = 3180.34933441 Accuracy = 0.791102514507\n",
      "\t 20 Loss = 461.776285835 Train_Accuracy 0.990807934204 Evaluation Loss = 2930.29065134 Accuracy = 0.810444874275\n",
      "\t 30 Loss = 291.010911345 Train_Accuracy 0.994678277697 Evaluation Loss = 2841.32986742 Accuracy = 0.812379110251\n",
      "\t 40 Loss = 195.648484726 Train_Accuracy 0.996613449444 Evaluation Loss = 2782.51815226 Accuracy = 0.816247582205\n",
      "\t 50 Loss = 136.418520741 Train_Accuracy 0.998064828254 Evaluation Loss = 2749.7613852 Accuracy = 0.814313346228\n",
      "\t 60 Loss = 98.4958186995 Train_Accuracy 0.99854862119 Evaluation Loss = 2745.17181927 Accuracy = 0.820116054159\n",
      "\t 70 Loss = 73.1901587697 Train_Accuracy 0.99854862119 Evaluation Loss = 2732.43344483 Accuracy = 0.820116054159\n",
      "\t 80 Loss = 56.3384550914 Train_Accuracy 0.999032414127 Evaluation Loss = 2723.22692833 Accuracy = 0.822050290135\n",
      "\t 90 Loss = 43.2065992389 Train_Accuracy 0.999032414127 Evaluation Loss = 2709.83069549 Accuracy = 0.822050290135\n",
      "\t 99 Loss = 33.8567543913 Train_Accuracy 0.999032414127 Evaluation Loss = 2704.3203632 Accuracy = 0.827852998066\n",
      "F 20000\n",
      "\t 0 Loss = 101301.019298 Train_Accuracy 0.0193517174649 Evaluation Loss = 25337.0410696 Accuracy = 0.0154738878143\n",
      "\t 10 Loss = 791.294122843 Train_Accuracy 0.985970004838 Evaluation Loss = 3362.856071 Accuracy = 0.806576402321\n",
      "\t 20 Loss = 370.586833424 Train_Accuracy 0.990807934204 Evaluation Loss = 3165.32379807 Accuracy = 0.808510638298\n",
      "\t 30 Loss = 219.96835444 Train_Accuracy 0.99709724238 Evaluation Loss = 3057.67590271 Accuracy = 0.820116054159\n",
      "\t 40 Loss = 141.959492446 Train_Accuracy 0.997581035317 Evaluation Loss = 3005.40456049 Accuracy = 0.829787234043\n",
      "\t 50 Loss = 97.7477162893 Train_Accuracy 0.99854862119 Evaluation Loss = 2979.04552626 Accuracy = 0.831721470019\n",
      "\t 60 Loss = 68.1345939751 Train_Accuracy 0.999032414127 Evaluation Loss = 2962.92055468 Accuracy = 0.83752417795\n",
      "\t 70 Loss = 49.4179433235 Train_Accuracy 0.999032414127 Evaluation Loss = 2963.55816501 Accuracy = 0.83752417795\n",
      "\t 80 Loss = 36.3448698829 Train_Accuracy 0.999032414127 Evaluation Loss = 2961.6464766 Accuracy = 0.831721470019\n",
      "\t 90 Loss = 27.6584376854 Train_Accuracy 0.999032414127 Evaluation Loss = 2950.87098998 Accuracy = 0.833655705996\n",
      "\t 99 Loss = 21.5843183395 Train_Accuracy 0.999032414127 Evaluation Loss = 2951.56754238 Accuracy = 0.827852998066\n",
      "F 27684\n",
      "\t 0 Loss = 101294.388967 Train_Accuracy 0.0183841315917 Evaluation Loss = 25329.1333979 Accuracy = 0.0174081237911\n",
      "\t 10 Loss = 736.405854614 Train_Accuracy 0.988388969521 Evaluation Loss = 3414.02753418 Accuracy = 0.787234042553\n",
      "\t 20 Loss = 350.084715138 Train_Accuracy 0.994678277697 Evaluation Loss = 3195.31373653 Accuracy = 0.816247582205\n",
      "\t 30 Loss = 201.2507374 Train_Accuracy 0.997581035317 Evaluation Loss = 3086.54285085 Accuracy = 0.823984526112\n",
      "\t 40 Loss = 128.122367313 Train_Accuracy 0.99854862119 Evaluation Loss = 3066.54718983 Accuracy = 0.818181818182\n",
      "\t 50 Loss = 85.5506798456 Train_Accuracy 0.99854862119 Evaluation Loss = 3043.78638772 Accuracy = 0.833655705996\n",
      "\t 60 Loss = 59.6762519581 Train_Accuracy 0.99854862119 Evaluation Loss = 3028.77745064 Accuracy = 0.833655705996\n",
      "\t 70 Loss = 42.9084497668 Train_Accuracy 0.999032414127 Evaluation Loss = 3024.42224435 Accuracy = 0.831721470019\n",
      "\t 80 Loss = 31.2855588774 Train_Accuracy 0.999032414127 Evaluation Loss = 3025.41808801 Accuracy = 0.833655705996\n",
      "\t 90 Loss = 23.5793573912 Train_Accuracy 0.999032414127 Evaluation Loss = 3026.93471776 Accuracy = 0.833655705996\n",
      "\t 99 Loss = 18.3467740161 Train_Accuracy 0.999032414127 Evaluation Loss = 3022.062628 Accuracy = 0.833655705996\n",
      "Done.\n"
     ]
    }
   ],
   "source": [
    "# Display a progress bar that counts how many training rounds we have done so far\n",
    "progress2= IntProgress(min=0, max=len(Fs),description=\"Trials:\",bar_style=\"info\")\n",
    "display(progress2)\n",
    "\n",
    "\n",
    "logistic_train_error=[]\n",
    "logistic_val_error=[]\n",
    "progress2.value=0\n",
    "for F in Fs:\n",
    "    print(\"F\",F)\n",
    "    model=TextChi2Classifier(F,base_model)\n",
    "    model.fit(X,Y,X_val,Y_val)\n",
    "    Y_pred=model.predict(X)\n",
    "    logistic_train_error.append(1-np.mean(Y_pred==Y))\n",
    "    Y_pred=model.predict(X_val)\n",
    "    logistic_val_error.append(1-np.mean(Y_pred==Y_val))\n",
    "    progress2.value+=1\n",
    "print(\"Done.\")"
   ]
  },
  {
   "cell_type": "code",
   "execution_count": 25,
   "metadata": {
    "ExecuteTime": {
     "end_time": "2018-03-30T08:48:24.206576Z",
     "start_time": "2018-03-30T08:48:23.940922Z"
    }
   },
   "outputs": [
    {
     "data": {
      "text/plain": [
       "<matplotlib.text.Text at 0x1c941f86a20>"
      ]
     },
     "execution_count": 25,
     "metadata": {},
     "output_type": "execute_result"
    },
    {
     "data": {
      "image/png": "[encoded data removed]",
      "text/plain": [
       "<matplotlib.figure.Figure at 0x1c941fa9470>"
      ]
     },
     "metadata": {},
     "output_type": "display_data"
    }
   ],
   "source": [
    "plt.plot(Fs,logistic_train_error,label=\"Train\")\n",
    "plt.plot(Fs,logistic_val_error,label=\"Valuation\")\n",
    "plt.legend()\n",
    "plt.title(\"Logistic Classifier Error vs Number Features\")\n",
    "plt.xlabel(\"Features\")\n",
    "plt.ylabel(\"Classification Error\")"
   ]
  },
  {
   "cell_type": "code",
   "execution_count": 26,
   "metadata": {
    "ExecuteTime": {
     "end_time": "2018-03-30T08:48:24.222202Z",
     "start_time": "2018-03-30T08:48:24.206576Z"
    }
   },
   "outputs": [
    {
     "name": "stdout",
     "output_type": "stream",
     "text": [
      "27684 0.166344294004\n"
     ]
    }
   ],
   "source": [
    "best_idx=np.array(logistic_val_error).argmin()\n",
    "best_F=Fs[best_idx]\n",
    "print(best_F,logistic_val_error[best_idx])"
   ]
  },
  {
   "cell_type": "markdown",
   "metadata": {},
   "source": [
    "1. The model is overfitting (training error is 0 after a few hundred Features)\n",
    "2. Test Error stabilizes after roughtly 5k features\n",
    "3. Logistic Regression performance does not degrade after we keep increasing the number of features"
   ]
  },
  {
   "cell_type": "markdown",
   "metadata": {},
   "source": [
    "Best Accuracy is $\\approx 83\\%$, slightly worse than logistic regression."
   ]
  },
  {
   "cell_type": "markdown",
   "metadata": {
    "collapsed": true
   },
   "source": [
    "## Regularization of the SVM Regression Classifier"
   ]
  },
  {
   "cell_type": "code",
   "execution_count": 27,
   "metadata": {
    "ExecuteTime": {
     "end_time": "2018-03-30T08:48:24.237829Z",
     "start_time": "2018-03-30T08:48:24.222202Z"
    },
    "collapsed": true
   },
   "outputs": [],
   "source": [
    "penalties=[0.0001,0.001,0.01,0.1,1,10,100]"
   ]
  },
  {
   "cell_type": "code",
   "execution_count": 28,
   "metadata": {
    "ExecuteTime": {
     "end_time": "2018-03-30T09:04:59.947406Z",
     "start_time": "2018-03-30T08:48:24.237829Z"
    }
   },
   "outputs": [
    {
     "name": "stdout",
     "output_type": "stream",
     "text": [
      "penalty: 0.0001\n",
      "\t 0 Loss = 101271.929173 Train_Accuracy 0.025641025641 Evaluation Loss = 25320.2133817 Accuracy = 0.0135396518375\n",
      "\t 10 Loss = 727.5620976 Train_Accuracy 0.989356555394 Evaluation Loss = 3391.44943766 Accuracy = 0.796905222437\n",
      "\t 20 Loss = 342.055249678 Train_Accuracy 0.993710691824 Evaluation Loss = 3202.47242368 Accuracy = 0.806576402321\n",
      "\t 30 Loss = 202.936555619 Train_Accuracy 0.996613449444 Evaluation Loss = 3091.96932234 Accuracy = 0.822050290135\n",
      "\t 40 Loss = 128.09759065 Train_Accuracy 0.998064828254 Evaluation Loss = 3051.30681561 Accuracy = 0.829787234043\n",
      "\t 50 Loss = 87.7355399411 Train_Accuracy 0.99854862119 Evaluation Loss = 3033.17513039 Accuracy = 0.829787234043\n",
      "\t 60 Loss = 60.2985702455 Train_Accuracy 0.99854862119 Evaluation Loss = 3018.06090749 Accuracy = 0.827852998066\n",
      "\t 70 Loss = 43.0837035972 Train_Accuracy 0.999032414127 Evaluation Loss = 3007.75977396 Accuracy = 0.835589941973\n",
      "\t 80 Loss = 31.6909871679 Train_Accuracy 0.999032414127 Evaluation Loss = 3005.4829194 Accuracy = 0.833655705996\n",
      "\t 90 Loss = 24.0045267111 Train_Accuracy 0.999032414127 Evaluation Loss = 3010.37768546 Accuracy = 0.827852998066\n",
      "\t 99 Loss = 18.9500336487 Train_Accuracy 0.999032414127 Evaluation Loss = 3009.19861658 Accuracy = 0.829787234043\n",
      "penalty: 0.001\n",
      "\t 0 Loss = 101236.909249 Train_Accuracy 0.0222544750847 Evaluation Loss = 25310.7900581 Accuracy = 0.036750483559\n",
      "\t 10 Loss = 741.824477128 Train_Accuracy 0.989840348331 Evaluation Loss = 3389.78451291 Accuracy = 0.800773694391\n",
      "\t 20 Loss = 341.743408426 Train_Accuracy 0.994678277697 Evaluation Loss = 3171.9129801 Accuracy = 0.816247582205\n",
      "\t 30 Loss = 201.537910197 Train_Accuracy 0.997581035317 Evaluation Loss = 3091.33960265 Accuracy = 0.825918762089\n",
      "\t 40 Loss = 127.815124995 Train_Accuracy 0.99854862119 Evaluation Loss = 3047.71185222 Accuracy = 0.823984526112\n",
      "\t 50 Loss = 86.3900814788 Train_Accuracy 0.99854862119 Evaluation Loss = 3039.61547711 Accuracy = 0.833655705996\n",
      "\t 60 Loss = 60.6346937816 Train_Accuracy 0.99854862119 Evaluation Loss = 3032.51604497 Accuracy = 0.833655705996\n",
      "\t 70 Loss = 43.4826822533 Train_Accuracy 0.999032414127 Evaluation Loss = 3021.50738961 Accuracy = 0.829787234043\n",
      "\t 80 Loss = 32.632281215 Train_Accuracy 0.999032414127 Evaluation Loss = 3016.68956883 Accuracy = 0.831721470019\n",
      "\t 90 Loss = 25.0250987331 Train_Accuracy 0.999032414127 Evaluation Loss = 3017.94623125 Accuracy = 0.825918762089\n",
      "\t 99 Loss = 19.6053696534 Train_Accuracy 0.999516207063 Evaluation Loss = 3027.51133954 Accuracy = 0.825918762089\n",
      "penalty: 0.01\n",
      "\t 0 Loss = 101303.284162 Train_Accuracy 0.0193517174649 Evaluation Loss = 25348.3874742 Accuracy = 0.0135396518375\n",
      "\t 10 Loss = 744.691448127 Train_Accuracy 0.986453797775 Evaluation Loss = 3461.80197263 Accuracy = 0.798839458414\n",
      "\t 20 Loss = 350.949340144 Train_Accuracy 0.992743105951 Evaluation Loss = 3188.68315548 Accuracy = 0.812379110251\n",
      "\t 30 Loss = 212.354267647 Train_Accuracy 0.99709724238 Evaluation Loss = 3107.26263475 Accuracy = 0.820116054159\n",
      "\t 40 Loss = 139.498503083 Train_Accuracy 0.998064828254 Evaluation Loss = 3077.12467411 Accuracy = 0.831721470019\n",
      "\t 50 Loss = 97.3314900015 Train_Accuracy 0.99854862119 Evaluation Loss = 3060.1102819 Accuracy = 0.833655705996\n",
      "\t 60 Loss = 71.5928693651 Train_Accuracy 0.99854862119 Evaluation Loss = 3067.25962426 Accuracy = 0.831721470019\n",
      "\t 70 Loss = 54.4453666369 Train_Accuracy 0.999032414127 Evaluation Loss = 3051.09718103 Accuracy = 0.83752417795\n",
      "\t 80 Loss = 43.3925585952 Train_Accuracy 0.999032414127 Evaluation Loss = 3054.84803606 Accuracy = 0.831721470019\n",
      "\t 90 Loss = 35.7499563776 Train_Accuracy 0.999032414127 Evaluation Loss = 3058.23739596 Accuracy = 0.829787234043\n",
      "\t 99 Loss = 30.2199419867 Train_Accuracy 0.999032414127 Evaluation Loss = 3064.47266744 Accuracy = 0.827852998066\n",
      "penalty: 0.1\n",
      "\t 0 Loss = 101324.004428 Train_Accuracy 0.0164489598452 Evaluation Loss = 25327.5217157 Accuracy = 0.0232108317215\n",
      "\t 10 Loss = 857.028798226 Train_Accuracy 0.989840348331 Evaluation Loss = 3572.51467534 Accuracy = 0.804642166344\n",
      "\t 20 Loss = 444.690956578 Train_Accuracy 0.994194484761 Evaluation Loss = 3311.09595442 Accuracy = 0.810444874275\n",
      "\t 30 Loss = 307.840411247 Train_Accuracy 0.997581035317 Evaluation Loss = 3272.70300818 Accuracy = 0.825918762089\n",
      "\t 40 Loss = 236.305842864 Train_Accuracy 0.998064828254 Evaluation Loss = 3254.81422653 Accuracy = 0.829787234043\n",
      "\t 50 Loss = 196.313388088 Train_Accuracy 0.998064828254 Evaluation Loss = 3267.02363521 Accuracy = 0.831721470019\n",
      "\t 60 Loss = 170.518831715 Train_Accuracy 0.99854862119 Evaluation Loss = 3288.72898434 Accuracy = 0.825918762089\n",
      "\t 70 Loss = 153.198800821 Train_Accuracy 0.999032414127 Evaluation Loss = 3315.55859151 Accuracy = 0.829787234043\n",
      "\t 80 Loss = 141.529031579 Train_Accuracy 0.999032414127 Evaluation Loss = 3342.95216969 Accuracy = 0.831721470019\n",
      "\t 90 Loss = 133.377141552 Train_Accuracy 0.999032414127 Evaluation Loss = 3368.63942505 Accuracy = 0.833655705996\n",
      "\t 99 Loss = 127.602613593 Train_Accuracy 0.999032414127 Evaluation Loss = 3408.63842828 Accuracy = 0.829787234043\n",
      "penalty: 1\n",
      "\t 0 Loss = 101322.256183 Train_Accuracy 0.0188679245283 Evaluation Loss = 25366.2550084 Accuracy = 0.0154738878143\n",
      "\t 10 Loss = 1609.93554087 Train_Accuracy 0.988872762458 Evaluation Loss = 4416.80673131 Accuracy = 0.785299806576\n",
      "\t 20 Loss = 1274.90707161 Train_Accuracy 0.993710691824 Evaluation Loss = 4504.1381993 Accuracy = 0.816247582205\n",
      "\t 30 Loss = 1138.58237037 Train_Accuracy 0.99709724238 Evaluation Loss = 4707.38575781 Accuracy = 0.816247582205\n",
      "\t 40 Loss = 1057.7283986 Train_Accuracy 0.998064828254 Evaluation Loss = 4943.17334471 Accuracy = 0.820116054159\n",
      "\t 50 Loss = 1001.58981971 Train_Accuracy 0.998064828254 Evaluation Loss = 5181.71378175 Accuracy = 0.829787234043\n",
      "\t 60 Loss = 961.089416233 Train_Accuracy 0.99854862119 Evaluation Loss = 5412.51168671 Accuracy = 0.827852998066\n",
      "\t 70 Loss = 928.331017096 Train_Accuracy 0.999032414127 Evaluation Loss = 5634.81391108 Accuracy = 0.827852998066\n",
      "\t 80 Loss = 903.263664883 Train_Accuracy 0.998064828254 Evaluation Loss = 5863.71227539 Accuracy = 0.835589941973\n",
      "\t 90 Loss = 892.118050019 Train_Accuracy 0.999032414127 Evaluation Loss = 6087.26665073 Accuracy = 0.839458413926\n",
      "\t 99 Loss = 866.608748936 Train_Accuracy 0.999032414127 Evaluation Loss = 6287.95922866 Accuracy = 0.839458413926\n",
      "penalty: 10\n",
      "\t 0 Loss = 101551.668324 Train_Accuracy 0.0145137880987 Evaluation Loss = 25576.7588187 Accuracy = 0.0116054158607\n",
      "\t 10 Loss = 7840.77443476 Train_Accuracy 0.986937590711 Evaluation Loss = 10977.9366287 Accuracy = 0.775628626692\n",
      "\t 20 Loss = 7423.03938846 Train_Accuracy 0.995162070634 Evaluation Loss = 11726.3571767 Accuracy = 0.796905222437\n",
      "\t 30 Loss = 7260.66492481 Train_Accuracy 0.99564586357 Evaluation Loss = 12037.471419 Accuracy = 0.802707930368\n",
      "\t 40 Loss = 7144.11094242 Train_Accuracy 0.993226898887 Evaluation Loss = 12203.022973 Accuracy = 0.787234042553\n",
      "\t 50 Loss = 7329.55416938 Train_Accuracy 0.994194484761 Evaluation Loss = 12325.8614151 Accuracy = 0.785299806576\n",
      "\t 60 Loss = 7131.45937085 Train_Accuracy 0.997581035317 Evaluation Loss = 12405.0506682 Accuracy = 0.800773694391\n",
      "\t 70 Loss = 7214.6639413 Train_Accuracy 0.997581035317 Evaluation Loss = 12430.084842 Accuracy = 0.78916827853\n",
      "\t 80 Loss = 7194.06027604 Train_Accuracy 0.996613449444 Evaluation Loss = 12475.162132 Accuracy = 0.806576402321\n",
      "\t 90 Loss = 7058.42610036 Train_Accuracy 0.994194484761 Evaluation Loss = 12233.6631045 Accuracy = 0.796905222437\n",
      "\t 99 Loss = 7214.05850037 Train_Accuracy 0.996613449444 Evaluation Loss = 12235.1938589 Accuracy = 0.804642166344\n",
      "penalty: 100\n",
      "\t 0 Loss = 103803.578632 Train_Accuracy 0.0193517174649 Evaluation Loss = 27833.4494687 Accuracy = 0.0232108317215\n",
      "\t 10 Loss = 51294.7399341 Train_Accuracy 0.345428156749 Evaluation Loss = 36835.4432434 Accuracy = 0.160541586074\n",
      "\t 20 Loss = 50386.9338085 Train_Accuracy 0.506531204644 Evaluation Loss = 37377.9286242 Accuracy = 0.290135396518\n",
      "\t 30 Loss = 48244.0877596 Train_Accuracy 0.629898403483 Evaluation Loss = 36989.6833201 Accuracy = 0.355899419729\n",
      "\t 40 Loss = 50677.6588327 Train_Accuracy 0.199806482825 Evaluation Loss = 37224.5577167 Accuracy = 0.073500967118\n",
      "\t 50 Loss = 48276.3261943 Train_Accuracy 0.735365263667 Evaluation Loss = 37029.1943224 Accuracy = 0.42746615087\n"
     ]
    },
    {
     "name": "stdout",
     "output_type": "stream",
     "text": [
      "\t 60 Loss = 49033.5837445 Train_Accuracy 0.661344944364 Evaluation Loss = 36906.77334 Accuracy = 0.425531914894\n",
      "\t 70 Loss = 48750.6522176 Train_Accuracy 0.624092888244 Evaluation Loss = 37113.1120706 Accuracy = 0.323017408124\n",
      "\t 80 Loss = 48849.5543074 Train_Accuracy 0.688437348815 Evaluation Loss = 36897.99089 Accuracy = 0.441005802708\n",
      "\t 90 Loss = 50241.4546443 Train_Accuracy 0.494920174165 Evaluation Loss = 37083.0882985 Accuracy = 0.282398452611\n",
      "\t 99 Loss = 48721.6460653 Train_Accuracy 0.654571843251 Evaluation Loss = 36894.8828033 Accuracy = 0.37330754352\n",
      "Done.\n"
     ]
    }
   ],
   "source": [
    "# Display a progress bar that counts how many training rounds we have done so far\n",
    "#progress3= IntProgress(min=0, max=len(Cs),description=\"Trials:\",bar_style=\"info\")\n",
    "#display(progress3)\n",
    "\n",
    "train_error=[]\n",
    "val_error=[]\n",
    "#progress3.value=0\n",
    "for penalty in penalties:\n",
    "    print(\"penalty:\",penalty)\n",
    "    base_model=SVMGDClassifier(penalty=penalty,\n",
    "                               max_iter=100, \n",
    "                               learning_rate=0.005,\n",
    "                               tol=1e-8)\n",
    "    model=TextChi2Classifier(best_F,base_model)\n",
    "    model.fit(X,Y,X_val,Y_val)\n",
    "    Y_pred=model.predict(X)\n",
    "    train_error.append(1-np.mean(Y_pred==Y))\n",
    "    Y_pred=model.predict(X_val)\n",
    "    val_error.append(1-np.mean(Y_pred==Y_val))\n",
    "    #progress3.value+=1\n",
    "print(\"Done.\")"
   ]
  },
  {
   "cell_type": "code",
   "execution_count": 29,
   "metadata": {
    "ExecuteTime": {
     "end_time": "2018-03-30T09:05:00.927009Z",
     "start_time": "2018-03-30T09:04:59.954424Z"
    }
   },
   "outputs": [
    {
     "data": {
      "text/plain": [
       "<matplotlib.text.Text at 0x1c941785a58>"
      ]
     },
     "execution_count": 29,
     "metadata": {},
     "output_type": "execute_result"
    },
    {
     "data": {
      "image/png": "[encoded data removed]",
      "text/plain": [
       "<matplotlib.figure.Figure at 0x1c941fa7208>"
      ]
     },
     "metadata": {},
     "output_type": "display_data"
    }
   ],
   "source": [
    "plt.plot(penalties,train_error,label=\"Train\")\n",
    "plt.plot(penalties,val_error,label=\"Valuation\")\n",
    "plt.legend()\n",
    "plt.title(\"SVM Linear Classifier Error vs Regularization Penalty\")\n",
    "plt.xlabel(r\"penalty\")\n",
    "plt.xscale(\"log\")\n",
    "plt.ylabel(\"Classification Error\")"
   ]
  },
  {
   "cell_type": "code",
   "execution_count": 31,
   "metadata": {
    "ExecuteTime": {
     "end_time": "2018-03-30T09:28:20.584365Z",
     "start_time": "2018-03-30T09:28:20.578350Z"
    }
   },
   "outputs": [
    {
     "name": "stdout",
     "output_type": "stream",
     "text": [
      "27684 1 0.160541586074\n"
     ]
    }
   ],
   "source": [
    "best_idx=np.array(val_error).argmin()\n",
    "best_penalty=penalties[best_idx]\n",
    "print(best_F,best_penalty,val_error[best_idx])"
   ]
  },
  {
   "cell_type": "markdown",
   "metadata": {},
   "source": [
    "We have achieved a 84% accuracy comparable to Logistic Regression."
   ]
  },
  {
   "cell_type": "code",
   "execution_count": 36,
   "metadata": {
    "ExecuteTime": {
     "end_time": "2018-03-30T09:36:08.460921Z",
     "start_time": "2018-03-30T09:35:20.830336Z"
    },
    "collapsed": true
   },
   "outputs": [],
   "source": [
    "X=countVectorizer.fit_transform(documents[\"filename\"])"
   ]
  },
  {
   "cell_type": "code",
   "execution_count": 38,
   "metadata": {
    "ExecuteTime": {
     "end_time": "2018-03-30T09:37:26.352929Z",
     "start_time": "2018-03-30T09:36:29.535931Z"
    },
    "collapsed": true
   },
   "outputs": [],
   "source": [
    "X_test=countVectorizer.transform(test_documents[\"filename\"])"
   ]
  },
  {
   "cell_type": "code",
   "execution_count": 39,
   "metadata": {
    "ExecuteTime": {
     "end_time": "2018-03-30T09:37:26.357943Z",
     "start_time": "2018-03-30T09:37:26.353933Z"
    },
    "collapsed": true
   },
   "outputs": [],
   "source": [
    "Y=documents[\"label\"]\n",
    "Y_test=test_documents[\"label\"]"
   ]
  },
  {
   "cell_type": "code",
   "execution_count": 40,
   "metadata": {
    "ExecuteTime": {
     "end_time": "2018-03-30T09:40:26.436496Z",
     "start_time": "2018-03-30T09:37:26.359948Z"
    }
   },
   "outputs": [
    {
     "name": "stdout",
     "output_type": "stream",
     "text": [
      "\t 0 Loss = 126612.991702 Train_Accuracy 0.0185758513932 Evaluation Loss = 118387.881566 Accuracy = 0.012417218543\n",
      "\t 10 Loss = 1982.82866858 Train_Accuracy 0.988003095975 Evaluation Loss = 13721.044254 Accuracy = 0.815397350993\n",
      "\t 20 Loss = 1548.26547361 Train_Accuracy 0.993034055728 Evaluation Loss = 13713.2583151 Accuracy = 0.829470198675\n",
      "\t 30 Loss = 1370.66745277 Train_Accuracy 0.995743034056 Evaluation Loss = 14467.3384193 Accuracy = 0.835264900662\n",
      "\t 40 Loss = 1264.76799676 Train_Accuracy 0.99806501548 Evaluation Loss = 15185.3369118 Accuracy = 0.844784768212\n",
      "\t 50 Loss = 1194.04572031 Train_Accuracy 0.99806501548 Evaluation Loss = 16167.477063 Accuracy = 0.846026490066\n",
      "\t 60 Loss = 1142.47687175 Train_Accuracy 0.999226006192 Evaluation Loss = 17004.0471593 Accuracy = 0.848509933775\n",
      "\t 70 Loss = 1105.71894285 Train_Accuracy 0.999226006192 Evaluation Loss = 17876.96091 Accuracy = 0.851821192053\n",
      "\t 80 Loss = 1078.67122442 Train_Accuracy 0.999226006192 Evaluation Loss = 18827.142172 Accuracy = 0.853476821192\n",
      "\t 90 Loss = 1048.29559262 Train_Accuracy 0.999226006192 Evaluation Loss = 19532.7710959 Accuracy = 0.855960264901\n",
      "\t 99 Loss = 1027.21944258 Train_Accuracy 0.999226006192 Evaluation Loss = 20341.8529439 Accuracy = 0.858029801325\n"
     ]
    },
    {
     "data": {
      "text/plain": [
       "<__main__.TextChi2Classifier at 0x1c941f6bda0>"
      ]
     },
     "execution_count": 40,
     "metadata": {},
     "output_type": "execute_result"
    }
   ],
   "source": [
    "base_model=SVMGDClassifier(penalty=best_penalty,\n",
    "                               max_iter=100, \n",
    "                               learning_rate=0.005,\n",
    "                               tol=1e-8)\n",
    "model=TextChi2Classifier(best_F,base_model)\n",
    "model.fit(X,Y,X_test,Y_test)"
   ]
  },
  {
   "cell_type": "code",
   "execution_count": 41,
   "metadata": {
    "ExecuteTime": {
     "end_time": "2018-03-30T09:40:26.513702Z",
     "start_time": "2018-03-30T09:40:26.438502Z"
    }
   },
   "outputs": [
    {
     "data": {
      "text/plain": [
       "0.85802980132450335"
      ]
     },
     "execution_count": 41,
     "metadata": {},
     "output_type": "execute_result"
    }
   ],
   "source": [
    "Y_pred=model.predict(X_test)\n",
    "np.mean(Y_pred==Y_test)"
   ]
  },
  {
   "cell_type": "markdown",
   "metadata": {
    "ExecuteTime": {
     "end_time": "2018-03-30T09:40:57.915156Z",
     "start_time": "2018-03-30T09:40:57.909141Z"
    }
   },
   "source": [
    "We achieve nearly 86% accuracy, very slighly better than LogisticRegression (85.80% vs 85.76%)"
   ]
  },
  {
   "cell_type": "code",
   "execution_count": null,
   "metadata": {
    "collapsed": true
   },
   "outputs": [],
   "source": []
  }
 ],
 "metadata": {
  "kernelspec": {
   "display_name": "Python 3",
   "language": "python",
   "name": "python3"
  },
  "language_info": {
   "codemirror_mode": {
    "name": "ipython",
    "version": 3
   },
   "file_extension": ".py",
   "mimetype": "text/x-python",
   "name": "python",
   "nbconvert_exporter": "python",
   "pygments_lexer": "ipython3",
   "version": "3.6.4"
  },
  "toc": {
   "base_numbering": 1,
   "nav_menu": {},
   "number_sections": true,
   "sideBar": true,
   "skip_h1_title": true,
   "title_cell": "Table of Contents",
   "title_sidebar": "Contents",
   "toc_cell": false,
   "toc_position": {},
   "toc_section_display": "block",
   "toc_window_display": true
  },
  "widgets": {
   "state": {
    "8840df332ff740e480bbdd81936d3ffc": {
     "views": [
      {
       "cell_index": 47
      }
     ]
    },
    "9eb260872d73428aabe5e661910dc8ea": {
     "views": [
      {
       "cell_index": 62
      }
     ]
    },
    "e7eda7b7372b422e82445f28340b5cf5": {
     "views": [
      {
       "cell_index": 53
      }
     ]
    }
   },
   "version": "1.2.0"
  }
 },
 "nbformat": 4,
 "nbformat_minor": 2
}
